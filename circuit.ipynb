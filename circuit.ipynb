{
 "cells": [
  {
   "cell_type": "code",
   "execution_count": 1,
   "id": "3c8654c6-241c-4918-bff4-e892368e46e1",
   "metadata": {},
   "outputs": [],
   "source": [
    "from helpers import load_or_build_profiles"
   ]
  },
  {
   "cell_type": "code",
   "execution_count": 2,
   "id": "85a5e49e-340b-4695-97e7-f5a1bff4d4fa",
   "metadata": {},
   "outputs": [
    {
     "name": "stdout",
     "output_type": "stream",
     "text": [
      "🔁 Rebuilding circuit profiles...\n"
     ]
    },
    {
     "data": {
      "application/vnd.jupyter.widget-view+json": {
       "model_id": "8aef3ceabc9046f28ae3ac302737300f",
       "version_major": 2,
       "version_minor": 0
      },
      "text/plain": [
       "Processing seasons:   0%|          | 0/6 [00:00<?, ?it/s]"
      ]
     },
     "metadata": {},
     "output_type": "display_data"
    },
    {
     "name": "stdout",
     "output_type": "stream",
     "text": [
      "\n",
      "📅 Processing 2020...\n"
     ]
    },
    {
     "name": "stderr",
     "output_type": "stream",
     "text": [
      "2020 Sessions:   6%|██▏                                   | 5/85 [00:05<01:17,  1.03session/s]"
     ]
    },
    {
     "name": "stdout",
     "output_type": "stream",
     "text": [
      "⚠️ Austrian Grand Prix R - Failed to infer DRS zones: Austrian Grand Prix R - No DRS usage detected in lap\n"
     ]
    },
    {
     "name": "stderr",
     "output_type": "stream",
     "text": [
      "2020 Sessions:   8%|███▏                                  | 7/85 [00:06<01:14,  1.05session/s]"
     ]
    },
    {
     "name": "stdout",
     "output_type": "stream",
     "text": [
      "⚠️ FastF1 failed for 2020 Styrian Grand Prix FP3: The data you are trying to access has not been loaded yet. See `Session.load`\n",
      "🔄 Falling back to OpenF1 API...\n"
     ]
    },
    {
     "name": "stderr",
     "output_type": "stream",
     "text": [
      "2020 Sessions:   9%|███▌                                  | 8/85 [00:07<01:05,  1.18session/s]"
     ]
    },
    {
     "name": "stdout",
     "output_type": "stream",
     "text": [
      "❌ OpenF1 fallback failed for 2020 Styrian Grand Prix FP3: OpenF1 returned an empty dataset\n",
      "⚠️ Skipped 2020 Styrian Grand Prix FP3: OpenF1 returned an empty dataset\n"
     ]
    },
    {
     "name": "stderr",
     "output_type": "stream",
     "text": [
      "2020 Sessions:  11%|████                                  | 9/85 [00:08<01:07,  1.13session/s]"
     ]
    },
    {
     "name": "stdout",
     "output_type": "stream",
     "text": [
      "⚠️ Styrian Grand Prix Q - Failed to infer DRS zones: Styrian Grand Prix Q - No DRS usage detected in lap\n"
     ]
    },
    {
     "name": "stderr",
     "output_type": "stream",
     "text": [
      "2020 Sessions:  12%|████▎                                | 10/85 [00:09<01:11,  1.05session/s]"
     ]
    },
    {
     "name": "stdout",
     "output_type": "stream",
     "text": [
      "⚠️ Styrian Grand Prix R - Failed to infer DRS zones: Styrian Grand Prix R - No DRS usage detected in lap\n"
     ]
    },
    {
     "name": "stderr",
     "output_type": "stream",
     "text": [
      "2020 Sessions:  14%|█████▏                               | 12/85 [00:11<01:03,  1.16session/s]"
     ]
    },
    {
     "name": "stdout",
     "output_type": "stream",
     "text": [
      "⚠️ Hungarian Grand Prix FP2 - Failed to infer DRS zones: Hungarian Grand Prix FP2 - No DRS usage detected in lap\n"
     ]
    },
    {
     "name": "stderr",
     "output_type": "stream",
     "text": [
      "2020 Sessions:  18%|██████▌                              | 15/85 [00:13<01:04,  1.09session/s]"
     ]
    },
    {
     "name": "stdout",
     "output_type": "stream",
     "text": [
      "⚠️ Hungarian Grand Prix R - Failed to infer DRS zones: Hungarian Grand Prix R - No DRS usage detected in lap\n"
     ]
    },
    {
     "name": "stderr",
     "output_type": "stream",
     "text": [
      "2020 Sessions:  24%|████████▋                            | 20/85 [00:18<01:00,  1.08session/s]"
     ]
    },
    {
     "name": "stdout",
     "output_type": "stream",
     "text": [
      "⚠️ British Grand Prix R - Failed to infer DRS zones: British Grand Prix R - No DRS usage detected in lap\n"
     ]
    },
    {
     "name": "stderr",
     "output_type": "stream",
     "text": [
      "2020 Sessions:  29%|██████████▉                          | 25/85 [00:22<00:52,  1.14session/s]"
     ]
    },
    {
     "name": "stdout",
     "output_type": "stream",
     "text": [
      "⚠️ 70th Anniversary Grand Prix R - Failed to infer DRS zones: 70th Anniversary Grand Prix R - No DRS usage detected in lap\n"
     ]
    },
    {
     "name": "stderr",
     "output_type": "stream",
     "text": [
      "2020 Sessions:  35%|█████████████                        | 30/85 [00:26<00:50,  1.08session/s]"
     ]
    },
    {
     "name": "stdout",
     "output_type": "stream",
     "text": [
      "⚠️ Spanish Grand Prix R - Failed to infer DRS zones: Spanish Grand Prix R - No DRS usage detected in lap\n"
     ]
    },
    {
     "name": "stderr",
     "output_type": "stream",
     "text": [
      "2020 Sessions:  41%|███████████████▏                     | 35/85 [00:31<00:43,  1.15session/s]"
     ]
    },
    {
     "name": "stdout",
     "output_type": "stream",
     "text": [
      "⚠️ Belgian Grand Prix R - Failed to infer DRS zones: Belgian Grand Prix R - No DRS usage detected in lap\n"
     ]
    },
    {
     "name": "stderr",
     "output_type": "stream",
     "text": [
      "2020 Sessions:  47%|█████████████████▍                   | 40/85 [00:35<00:40,  1.12session/s]"
     ]
    },
    {
     "name": "stdout",
     "output_type": "stream",
     "text": [
      "⚠️ Italian Grand Prix R - Failed to infer DRS zones: Italian Grand Prix R - No DRS usage detected in lap\n"
     ]
    },
    {
     "name": "stderr",
     "output_type": "stream",
     "text": [
      "2020 Sessions:  53%|███████████████████▌                 | 45/85 [00:39<00:38,  1.05session/s]"
     ]
    },
    {
     "name": "stdout",
     "output_type": "stream",
     "text": [
      "⚠️ Tuscan Grand Prix R - Failed to infer DRS zones: Tuscan Grand Prix R - No DRS usage detected in lap\n"
     ]
    },
    {
     "name": "stderr",
     "output_type": "stream",
     "text": [
      "2020 Sessions:  59%|█████████████████████▊               | 50/85 [00:44<00:32,  1.09session/s]"
     ]
    },
    {
     "name": "stdout",
     "output_type": "stream",
     "text": [
      "⚠️ Russian Grand Prix R - Failed to infer DRS zones: Russian Grand Prix R - No DRS usage detected in lap\n"
     ]
    },
    {
     "name": "stderr",
     "output_type": "stream",
     "text": [
      "2020 Sessions:  60%|██████████████████████▏              | 51/85 [00:45<00:30,  1.13session/s]"
     ]
    },
    {
     "name": "stdout",
     "output_type": "stream",
     "text": [
      "⚠️ FastF1 failed for 2020 Eifel Grand Prix FP1: The data you are trying to access has not been loaded yet. See `Session.load`\n",
      "🔄 Falling back to OpenF1 API...\n",
      "❌ OpenF1 fallback failed for 2020 Eifel Grand Prix FP1: OpenF1 returned an empty dataset\n",
      "⚠️ Skipped 2020 Eifel Grand Prix FP1: OpenF1 returned an empty dataset\n"
     ]
    },
    {
     "name": "stderr",
     "output_type": "stream",
     "text": [
      "2020 Sessions:  61%|██████████████████████▋              | 52/85 [00:45<00:28,  1.15session/s]"
     ]
    },
    {
     "name": "stdout",
     "output_type": "stream",
     "text": [
      "⚠️ FastF1 failed for 2020 Eifel Grand Prix FP2: The data you are trying to access has not been loaded yet. See `Session.load`\n",
      "🔄 Falling back to OpenF1 API...\n",
      "❌ OpenF1 fallback failed for 2020 Eifel Grand Prix FP2: OpenF1 returned an empty dataset\n",
      "⚠️ Skipped 2020 Eifel Grand Prix FP2: OpenF1 returned an empty dataset\n"
     ]
    },
    {
     "name": "stderr",
     "output_type": "stream",
     "text": [
      "2020 Sessions:  65%|███████████████████████▉             | 55/85 [00:48<00:25,  1.16session/s]"
     ]
    },
    {
     "name": "stdout",
     "output_type": "stream",
     "text": [
      "⚠️ Eifel Grand Prix R - Failed to infer DRS zones: Eifel Grand Prix R - No DRS usage detected in lap\n"
     ]
    },
    {
     "name": "stderr",
     "output_type": "stream",
     "text": [
      "2020 Sessions:  71%|██████████████████████████           | 60/85 [00:53<00:24,  1.03session/s]"
     ]
    },
    {
     "name": "stdout",
     "output_type": "stream",
     "text": [
      "⚠️ Portuguese Grand Prix R - Failed to infer DRS zones: Portuguese Grand Prix R - No DRS usage detected in lap\n"
     ]
    },
    {
     "name": "stderr",
     "output_type": "stream",
     "text": [
      "2020 Sessions:  73%|██████████████████████████▉          | 62/85 [00:54<00:17,  1.32session/s]"
     ]
    },
    {
     "name": "stdout",
     "output_type": "stream",
     "text": [
      "⚠️ FastF1 failed for 2020 Emilia Romagna Grand Prix FP2: Session type 'FP2' does not exist for this event\n",
      "🔄 Falling back to OpenF1 API...\n",
      "❌ OpenF1 fallback failed for 2020 Emilia Romagna Grand Prix FP2: OpenF1 returned an empty dataset\n",
      "⚠️ Skipped 2020 Emilia Romagna Grand Prix FP2: OpenF1 returned an empty dataset\n",
      "⚠️ FastF1 failed for 2020 Emilia Romagna Grand Prix FP3: Session type 'FP3' does not exist for this event\n",
      "🔄 Falling back to OpenF1 API...\n"
     ]
    },
    {
     "name": "stderr",
     "output_type": "stream",
     "text": [
      "2020 Sessions:  74%|███████████████████████████▍         | 63/85 [00:54<00:13,  1.68session/s]"
     ]
    },
    {
     "name": "stdout",
     "output_type": "stream",
     "text": [
      "❌ OpenF1 fallback failed for 2020 Emilia Romagna Grand Prix FP3: OpenF1 returned an empty dataset\n",
      "⚠️ Skipped 2020 Emilia Romagna Grand Prix FP3: OpenF1 returned an empty dataset\n"
     ]
    },
    {
     "name": "stderr",
     "output_type": "stream",
     "text": [
      "2020 Sessions:  76%|████████████████████████████▎        | 65/85 [00:56<00:16,  1.25session/s]"
     ]
    },
    {
     "name": "stdout",
     "output_type": "stream",
     "text": [
      "⚠️ Emilia Romagna Grand Prix R - Failed to infer DRS zones: Emilia Romagna Grand Prix R - No DRS usage detected in lap\n"
     ]
    },
    {
     "name": "stderr",
     "output_type": "stream",
     "text": [
      "2020 Sessions:  81%|██████████████████████████████       | 69/85 [01:00<00:13,  1.15session/s]"
     ]
    },
    {
     "name": "stdout",
     "output_type": "stream",
     "text": [
      "⚠️ Turkish Grand Prix Q - Failed to infer DRS zones: Turkish Grand Prix Q - No DRS usage detected in lap\n"
     ]
    },
    {
     "name": "stderr",
     "output_type": "stream",
     "text": [
      "2020 Sessions:  82%|██████████████████████████████▍      | 70/85 [01:01<00:14,  1.01session/s]"
     ]
    },
    {
     "name": "stdout",
     "output_type": "stream",
     "text": [
      "⚠️ Turkish Grand Prix R - Failed to infer DRS zones: Turkish Grand Prix R - No DRS usage detected in lap\n"
     ]
    },
    {
     "name": "stderr",
     "output_type": "stream",
     "text": [
      "2020 Sessions:  88%|████████████████████████████████▋    | 75/85 [01:06<00:10,  1.09s/session]"
     ]
    },
    {
     "name": "stdout",
     "output_type": "stream",
     "text": [
      "⚠️ Bahrain Grand Prix R - Failed to infer DRS zones: Bahrain Grand Prix R - No DRS usage detected in lap\n"
     ]
    },
    {
     "name": "stderr",
     "output_type": "stream",
     "text": [
      "2020 Sessions:  94%|██████████████████████████████████▊  | 80/85 [01:28<00:26,  5.29s/session]"
     ]
    },
    {
     "name": "stdout",
     "output_type": "stream",
     "text": [
      "⚠️ Sakhir Grand Prix R - Failed to infer DRS zones: Sakhir Grand Prix R - No DRS usage detected in lap\n"
     ]
    },
    {
     "name": "stderr",
     "output_type": "stream",
     "text": [
      "2020 Sessions:  96%|███████████████████████████████████▋ | 82/85 [01:43<00:19,  6.35s/session]"
     ]
    },
    {
     "name": "stdout",
     "output_type": "stream",
     "text": [
      "⚠️ Abu Dhabi Grand Prix FP2 - Failed to infer DRS zones: Abu Dhabi Grand Prix FP2 - No DRS usage detected in lap\n"
     ]
    },
    {
     "name": "stderr",
     "output_type": "stream",
     "text": [
      "2020 Sessions: 100%|█████████████████████████████████████| 85/85 [02:05<00:00,  1.48s/session]\n"
     ]
    },
    {
     "name": "stdout",
     "output_type": "stream",
     "text": [
      "⚠️ Abu Dhabi Grand Prix R - Failed to infer DRS zones: Abu Dhabi Grand Prix R - No DRS usage detected in lap\n",
      "\n",
      "📅 Processing 2021...\n"
     ]
    },
    {
     "name": "stderr",
     "output_type": "stream",
     "text": [
      "2021 Sessions:   4%|█▋                                   | 5/113 [00:34<13:15,  7.37s/session]"
     ]
    },
    {
     "name": "stdout",
     "output_type": "stream",
     "text": [
      "⚠️ Bahrain Grand Prix R - Failed to infer DRS zones: Bahrain Grand Prix R - No DRS usage detected in lap\n"
     ]
    },
    {
     "name": "stderr",
     "output_type": "stream",
     "text": [
      "2021 Sessions:   9%|███▏                                | 10/113 [01:10<13:30,  7.86s/session]"
     ]
    },
    {
     "name": "stdout",
     "output_type": "stream",
     "text": [
      "⚠️ Emilia Romagna Grand Prix R - Failed to infer DRS zones: Emilia Romagna Grand Prix R - No DRS usage detected in lap\n"
     ]
    },
    {
     "name": "stderr",
     "output_type": "stream",
     "text": [
      "2021 Sessions:  13%|████▊                               | 15/113 [01:46<12:33,  7.69s/session]"
     ]
    },
    {
     "name": "stdout",
     "output_type": "stream",
     "text": [
      "⚠️ Portuguese Grand Prix R - Failed to infer DRS zones: Portuguese Grand Prix R - No DRS usage detected in lap\n"
     ]
    },
    {
     "name": "stderr",
     "output_type": "stream",
     "text": [
      "2021 Sessions:  18%|██████▎                             | 20/113 [02:21<11:40,  7.53s/session]"
     ]
    },
    {
     "name": "stdout",
     "output_type": "stream",
     "text": [
      "⚠️ Spanish Grand Prix R - Failed to infer DRS zones: Spanish Grand Prix R - No DRS usage detected in lap\n"
     ]
    },
    {
     "name": "stderr",
     "output_type": "stream",
     "text": [
      "2021 Sessions:  22%|███████▉                            | 25/113 [02:57<11:25,  7.78s/session]"
     ]
    },
    {
     "name": "stdout",
     "output_type": "stream",
     "text": [
      "⚠️ Monaco Grand Prix R - Failed to infer DRS zones: Monaco Grand Prix R - No DRS usage detected in lap\n"
     ]
    },
    {
     "name": "stderr",
     "output_type": "stream",
     "text": [
      "2021 Sessions:  27%|█████████▌                          | 30/113 [03:34<11:12,  8.10s/session]"
     ]
    },
    {
     "name": "stdout",
     "output_type": "stream",
     "text": [
      "⚠️ Azerbaijan Grand Prix R - Failed to infer DRS zones: Azerbaijan Grand Prix R - No DRS usage detected in lap\n"
     ]
    },
    {
     "name": "stderr",
     "output_type": "stream",
     "text": [
      "2021 Sessions:  31%|███████████▏                        | 35/113 [04:09<10:13,  7.86s/session]"
     ]
    },
    {
     "name": "stdout",
     "output_type": "stream",
     "text": [
      "⚠️ French Grand Prix R - Failed to infer DRS zones: French Grand Prix R - No DRS usage detected in lap\n"
     ]
    },
    {
     "name": "stderr",
     "output_type": "stream",
     "text": [
      "2021 Sessions:  34%|████████████                        | 38/113 [04:29<08:33,  6.84s/session]"
     ]
    },
    {
     "name": "stdout",
     "output_type": "stream",
     "text": [
      "⚠️ FastF1 failed for 2021 Styrian Grand Prix Q: The data you are trying to access has not been loaded yet. See `Session.load`\n",
      "🔄 Falling back to OpenF1 API...\n"
     ]
    },
    {
     "name": "stderr",
     "output_type": "stream",
     "text": [
      "2021 Sessions:  35%|████████████▍                       | 39/113 [04:32<07:05,  5.74s/session]"
     ]
    },
    {
     "name": "stdout",
     "output_type": "stream",
     "text": [
      "❌ OpenF1 fallback failed for 2021 Styrian Grand Prix Q: OpenF1 returned an empty dataset\n",
      "⚠️ Skipped 2021 Styrian Grand Prix Q: OpenF1 returned an empty dataset\n"
     ]
    },
    {
     "name": "stderr",
     "output_type": "stream",
     "text": [
      "2021 Sessions:  35%|████████████▋                       | 40/113 [04:34<05:47,  4.76s/session]"
     ]
    },
    {
     "name": "stdout",
     "output_type": "stream",
     "text": [
      "⚠️ FastF1 failed for 2021 Styrian Grand Prix R: The data you are trying to access has not been loaded yet. See `Session.load`\n",
      "🔄 Falling back to OpenF1 API...\n",
      "❌ OpenF1 fallback failed for 2021 Styrian Grand Prix R: OpenF1 returned an empty dataset\n",
      "⚠️ Skipped 2021 Styrian Grand Prix R: OpenF1 returned an empty dataset\n"
     ]
    },
    {
     "name": "stderr",
     "output_type": "stream",
     "text": [
      "2021 Sessions:  36%|█████████████                       | 41/113 [04:37<04:48,  4.00s/session]"
     ]
    },
    {
     "name": "stdout",
     "output_type": "stream",
     "text": [
      "⚠️ FastF1 failed for 2021 Austrian Grand Prix FP1: The data you are trying to access has not been loaded yet. See `Session.load`\n",
      "🔄 Falling back to OpenF1 API...\n",
      "❌ OpenF1 fallback failed for 2021 Austrian Grand Prix FP1: OpenF1 returned an empty dataset\n",
      "⚠️ Skipped 2021 Austrian Grand Prix FP1: OpenF1 returned an empty dataset\n"
     ]
    },
    {
     "name": "stderr",
     "output_type": "stream",
     "text": [
      "2021 Sessions:  37%|█████████████▍                      | 42/113 [04:39<04:06,  3.48s/session]"
     ]
    },
    {
     "name": "stdout",
     "output_type": "stream",
     "text": [
      "⚠️ FastF1 failed for 2021 Austrian Grand Prix FP2: The data you are trying to access has not been loaded yet. See `Session.load`\n",
      "🔄 Falling back to OpenF1 API...\n",
      "❌ OpenF1 fallback failed for 2021 Austrian Grand Prix FP2: OpenF1 returned an empty dataset\n",
      "⚠️ Skipped 2021 Austrian Grand Prix FP2: OpenF1 returned an empty dataset\n"
     ]
    },
    {
     "name": "stderr",
     "output_type": "stream",
     "text": [
      "2021 Sessions:  38%|█████████████▋                      | 43/113 [04:41<03:37,  3.11s/session]"
     ]
    },
    {
     "name": "stdout",
     "output_type": "stream",
     "text": [
      "⚠️ FastF1 failed for 2021 Austrian Grand Prix FP3: The data you are trying to access has not been loaded yet. See `Session.load`\n",
      "🔄 Falling back to OpenF1 API...\n",
      "❌ OpenF1 fallback failed for 2021 Austrian Grand Prix FP3: OpenF1 returned an empty dataset\n",
      "⚠️ Skipped 2021 Austrian Grand Prix FP3: OpenF1 returned an empty dataset\n"
     ]
    },
    {
     "name": "stderr",
     "output_type": "stream",
     "text": [
      "2021 Sessions:  39%|██████████████                      | 44/113 [04:43<03:16,  2.85s/session]"
     ]
    },
    {
     "name": "stdout",
     "output_type": "stream",
     "text": [
      "⚠️ FastF1 failed for 2021 Austrian Grand Prix Q: The data you are trying to access has not been loaded yet. See `Session.load`\n",
      "🔄 Falling back to OpenF1 API...\n",
      "❌ OpenF1 fallback failed for 2021 Austrian Grand Prix Q: OpenF1 returned an empty dataset\n",
      "⚠️ Skipped 2021 Austrian Grand Prix Q: OpenF1 returned an empty dataset\n"
     ]
    },
    {
     "name": "stderr",
     "output_type": "stream",
     "text": [
      "2021 Sessions:  40%|██████████████▎                     | 45/113 [04:46<03:11,  2.82s/session]"
     ]
    },
    {
     "name": "stdout",
     "output_type": "stream",
     "text": [
      "⚠️ FastF1 failed for 2021 Austrian Grand Prix R: The data you are trying to access has not been loaded yet. See `Session.load`\n",
      "🔄 Falling back to OpenF1 API...\n",
      "❌ OpenF1 fallback failed for 2021 Austrian Grand Prix R: OpenF1 returned an empty dataset\n",
      "⚠️ Skipped 2021 Austrian Grand Prix R: OpenF1 returned an empty dataset\n"
     ]
    },
    {
     "name": "stderr",
     "output_type": "stream",
     "text": [
      "2021 Sessions:  41%|██████████████▋                     | 46/113 [04:48<02:57,  2.65s/session]"
     ]
    },
    {
     "name": "stdout",
     "output_type": "stream",
     "text": [
      "⚠️ FastF1 failed for 2021 British Grand Prix FP1: The data you are trying to access has not been loaded yet. See `Session.load`\n",
      "🔄 Falling back to OpenF1 API...\n",
      "❌ OpenF1 fallback failed for 2021 British Grand Prix FP1: OpenF1 returned an empty dataset\n",
      "⚠️ Skipped 2021 British Grand Prix FP1: OpenF1 returned an empty dataset\n",
      "⚠️ FastF1 failed for 2021 British Grand Prix S: The data you are trying to access has not been loaded yet. See `Session.load`\n",
      "🔄 Falling back to OpenF1 API...\n"
     ]
    },
    {
     "name": "stderr",
     "output_type": "stream",
     "text": [
      "2021 Sessions:  42%|███████████████▎                    | 48/113 [04:52<02:20,  2.16s/session]"
     ]
    },
    {
     "name": "stdout",
     "output_type": "stream",
     "text": [
      "❌ OpenF1 fallback failed for 2021 British Grand Prix S: OpenF1 returned an empty dataset\n",
      "⚠️ Skipped 2021 British Grand Prix S: OpenF1 returned an empty dataset\n",
      "⚠️ FastF1 failed for 2021 British Grand Prix SS: Session type 'SS' does not exist for this event\n",
      "🔄 Falling back to OpenF1 API...\n",
      "❌ OpenF1 fallback failed for 2021 British Grand Prix SS: OpenF1 returned an empty dataset\n",
      "⚠️ Skipped 2021 British Grand Prix SS: OpenF1 returned an empty dataset\n"
     ]
    },
    {
     "name": "stderr",
     "output_type": "stream",
     "text": [
      "2021 Sessions:  43%|███████████████▌                    | 49/113 [04:55<02:24,  2.25s/session]"
     ]
    },
    {
     "name": "stdout",
     "output_type": "stream",
     "text": [
      "⚠️ FastF1 failed for 2021 British Grand Prix SQ: The data you are trying to access has not been loaded yet. See `Session.load`\n",
      "🔄 Falling back to OpenF1 API...\n",
      "❌ OpenF1 fallback failed for 2021 British Grand Prix SQ: OpenF1 returned an empty dataset\n",
      "⚠️ Skipped 2021 British Grand Prix SQ: OpenF1 returned an empty dataset\n"
     ]
    },
    {
     "name": "stderr",
     "output_type": "stream",
     "text": [
      "2021 Sessions:  44%|███████████████▉                    | 50/113 [04:57<02:22,  2.25s/session]"
     ]
    },
    {
     "name": "stdout",
     "output_type": "stream",
     "text": [
      "⚠️ FastF1 failed for 2021 British Grand Prix Q: The data you are trying to access has not been loaded yet. See `Session.load`\n",
      "🔄 Falling back to OpenF1 API...\n",
      "❌ OpenF1 fallback failed for 2021 British Grand Prix Q: OpenF1 returned an empty dataset\n",
      "⚠️ Skipped 2021 British Grand Prix Q: OpenF1 returned an empty dataset\n",
      "⚠️ FastF1 failed for 2021 British Grand Prix R: The data you are trying to access has not been loaded yet. See `Session.load`\n",
      "🔄 Falling back to OpenF1 API...\n"
     ]
    },
    {
     "name": "stderr",
     "output_type": "stream",
     "text": [
      "2021 Sessions:  45%|████████████████▏                   | 51/113 [05:00<02:29,  2.41s/session]"
     ]
    },
    {
     "name": "stdout",
     "output_type": "stream",
     "text": [
      "❌ OpenF1 fallback failed for 2021 British Grand Prix R: OpenF1 returned an empty dataset\n",
      "⚠️ Skipped 2021 British Grand Prix R: OpenF1 returned an empty dataset\n"
     ]
    },
    {
     "name": "stderr",
     "output_type": "stream",
     "text": [
      "2021 Sessions:  46%|████████████████▌                   | 52/113 [05:02<02:23,  2.35s/session]"
     ]
    },
    {
     "name": "stdout",
     "output_type": "stream",
     "text": [
      "⚠️ FastF1 failed for 2021 Hungarian Grand Prix FP1: The data you are trying to access has not been loaded yet. See `Session.load`\n",
      "🔄 Falling back to OpenF1 API...\n",
      "❌ OpenF1 fallback failed for 2021 Hungarian Grand Prix FP1: OpenF1 returned an empty dataset\n",
      "⚠️ Skipped 2021 Hungarian Grand Prix FP1: OpenF1 returned an empty dataset\n"
     ]
    },
    {
     "name": "stderr",
     "output_type": "stream",
     "text": [
      "2021 Sessions:  47%|████████████████▉                   | 53/113 [05:05<02:28,  2.47s/session]"
     ]
    },
    {
     "name": "stdout",
     "output_type": "stream",
     "text": [
      "⚠️ FastF1 failed for 2021 Hungarian Grand Prix FP2: The data you are trying to access has not been loaded yet. See `Session.load`\n",
      "🔄 Falling back to OpenF1 API...\n",
      "❌ OpenF1 fallback failed for 2021 Hungarian Grand Prix FP2: OpenF1 returned an empty dataset\n",
      "⚠️ Skipped 2021 Hungarian Grand Prix FP2: OpenF1 returned an empty dataset\n"
     ]
    },
    {
     "name": "stderr",
     "output_type": "stream",
     "text": [
      "2021 Sessions:  48%|█████████████████▏                  | 54/113 [05:08<02:30,  2.55s/session]"
     ]
    },
    {
     "name": "stdout",
     "output_type": "stream",
     "text": [
      "⚠️ FastF1 failed for 2021 Hungarian Grand Prix FP3: The data you are trying to access has not been loaded yet. See `Session.load`\n",
      "🔄 Falling back to OpenF1 API...\n",
      "❌ OpenF1 fallback failed for 2021 Hungarian Grand Prix FP3: OpenF1 returned an empty dataset\n",
      "⚠️ Skipped 2021 Hungarian Grand Prix FP3: OpenF1 returned an empty dataset\n"
     ]
    },
    {
     "name": "stderr",
     "output_type": "stream",
     "text": [
      "2021 Sessions:  49%|█████████████████▌                  | 55/113 [05:10<02:31,  2.62s/session]"
     ]
    },
    {
     "name": "stdout",
     "output_type": "stream",
     "text": [
      "⚠️ FastF1 failed for 2021 Hungarian Grand Prix Q: The data you are trying to access has not been loaded yet. See `Session.load`\n",
      "🔄 Falling back to OpenF1 API...\n",
      "❌ OpenF1 fallback failed for 2021 Hungarian Grand Prix Q: OpenF1 returned an empty dataset\n",
      "⚠️ Skipped 2021 Hungarian Grand Prix Q: OpenF1 returned an empty dataset\n"
     ]
    },
    {
     "name": "stderr",
     "output_type": "stream",
     "text": [
      "2021 Sessions:  50%|█████████████████▊                  | 56/113 [05:14<02:39,  2.80s/session]"
     ]
    },
    {
     "name": "stdout",
     "output_type": "stream",
     "text": [
      "⚠️ FastF1 failed for 2021 Hungarian Grand Prix R: The data you are trying to access has not been loaded yet. See `Session.load`\n",
      "🔄 Falling back to OpenF1 API...\n",
      "❌ OpenF1 fallback failed for 2021 Hungarian Grand Prix R: OpenF1 returned an empty dataset\n",
      "⚠️ Skipped 2021 Hungarian Grand Prix R: OpenF1 returned an empty dataset\n"
     ]
    },
    {
     "name": "stderr",
     "output_type": "stream",
     "text": [
      "2021 Sessions:  50%|██████████████████▏                 | 57/113 [05:16<02:36,  2.79s/session]"
     ]
    },
    {
     "name": "stdout",
     "output_type": "stream",
     "text": [
      "⚠️ FastF1 failed for 2021 Belgian Grand Prix FP1: The data you are trying to access has not been loaded yet. See `Session.load`\n",
      "🔄 Falling back to OpenF1 API...\n",
      "❌ OpenF1 fallback failed for 2021 Belgian Grand Prix FP1: OpenF1 returned an empty dataset\n",
      "⚠️ Skipped 2021 Belgian Grand Prix FP1: OpenF1 returned an empty dataset\n"
     ]
    },
    {
     "name": "stderr",
     "output_type": "stream",
     "text": [
      "2021 Sessions:  51%|██████████████████▍                 | 58/113 [05:19<02:32,  2.78s/session]"
     ]
    },
    {
     "name": "stdout",
     "output_type": "stream",
     "text": [
      "⚠️ FastF1 failed for 2021 Belgian Grand Prix FP2: The data you are trying to access has not been loaded yet. See `Session.load`\n",
      "🔄 Falling back to OpenF1 API...\n",
      "❌ OpenF1 fallback failed for 2021 Belgian Grand Prix FP2: OpenF1 returned an empty dataset\n",
      "⚠️ Skipped 2021 Belgian Grand Prix FP2: OpenF1 returned an empty dataset\n"
     ]
    },
    {
     "name": "stderr",
     "output_type": "stream",
     "text": [
      "2021 Sessions:  52%|██████████████████▊                 | 59/113 [05:22<02:29,  2.77s/session]"
     ]
    },
    {
     "name": "stdout",
     "output_type": "stream",
     "text": [
      "⚠️ FastF1 failed for 2021 Belgian Grand Prix FP3: The data you are trying to access has not been loaded yet. See `Session.load`\n",
      "🔄 Falling back to OpenF1 API...\n",
      "❌ OpenF1 fallback failed for 2021 Belgian Grand Prix FP3: OpenF1 returned an empty dataset\n",
      "⚠️ Skipped 2021 Belgian Grand Prix FP3: OpenF1 returned an empty dataset\n"
     ]
    },
    {
     "name": "stderr",
     "output_type": "stream",
     "text": [
      "2021 Sessions:  53%|███████████████████                 | 60/113 [05:25<02:26,  2.77s/session]"
     ]
    },
    {
     "name": "stdout",
     "output_type": "stream",
     "text": [
      "⚠️ FastF1 failed for 2021 Belgian Grand Prix Q: The data you are trying to access has not been loaded yet. See `Session.load`\n",
      "🔄 Falling back to OpenF1 API...\n",
      "❌ OpenF1 fallback failed for 2021 Belgian Grand Prix Q: OpenF1 returned an empty dataset\n",
      "⚠️ Skipped 2021 Belgian Grand Prix Q: OpenF1 returned an empty dataset\n"
     ]
    },
    {
     "name": "stderr",
     "output_type": "stream",
     "text": [
      "2021 Sessions:  54%|███████████████████▍                | 61/113 [05:28<02:31,  2.91s/session]"
     ]
    },
    {
     "name": "stdout",
     "output_type": "stream",
     "text": [
      "⚠️ FastF1 failed for 2021 Belgian Grand Prix R: The data you are trying to access has not been loaded yet. See `Session.load`\n",
      "🔄 Falling back to OpenF1 API...\n",
      "❌ OpenF1 fallback failed for 2021 Belgian Grand Prix R: OpenF1 returned an empty dataset\n",
      "⚠️ Skipped 2021 Belgian Grand Prix R: OpenF1 returned an empty dataset\n"
     ]
    },
    {
     "name": "stderr",
     "output_type": "stream",
     "text": [
      "2021 Sessions:  55%|███████████████████▊                | 62/113 [05:31<02:25,  2.86s/session]"
     ]
    },
    {
     "name": "stdout",
     "output_type": "stream",
     "text": [
      "⚠️ FastF1 failed for 2021 Dutch Grand Prix FP1: The data you are trying to access has not been loaded yet. See `Session.load`\n",
      "🔄 Falling back to OpenF1 API...\n",
      "❌ OpenF1 fallback failed for 2021 Dutch Grand Prix FP1: OpenF1 returned an empty dataset\n",
      "⚠️ Skipped 2021 Dutch Grand Prix FP1: OpenF1 returned an empty dataset\n"
     ]
    },
    {
     "name": "stderr",
     "output_type": "stream",
     "text": [
      "2021 Sessions:  56%|████████████████████                | 63/113 [05:33<02:21,  2.83s/session]"
     ]
    },
    {
     "name": "stdout",
     "output_type": "stream",
     "text": [
      "⚠️ FastF1 failed for 2021 Dutch Grand Prix FP2: The data you are trying to access has not been loaded yet. See `Session.load`\n",
      "🔄 Falling back to OpenF1 API...\n",
      "❌ OpenF1 fallback failed for 2021 Dutch Grand Prix FP2: OpenF1 returned an empty dataset\n",
      "⚠️ Skipped 2021 Dutch Grand Prix FP2: OpenF1 returned an empty dataset\n"
     ]
    },
    {
     "name": "stderr",
     "output_type": "stream",
     "text": [
      "2021 Sessions:  57%|████████████████████▍               | 64/113 [05:36<02:17,  2.81s/session]"
     ]
    },
    {
     "name": "stdout",
     "output_type": "stream",
     "text": [
      "⚠️ FastF1 failed for 2021 Dutch Grand Prix FP3: The data you are trying to access has not been loaded yet. See `Session.load`\n",
      "🔄 Falling back to OpenF1 API...\n",
      "❌ OpenF1 fallback failed for 2021 Dutch Grand Prix FP3: OpenF1 returned an empty dataset\n",
      "⚠️ Skipped 2021 Dutch Grand Prix FP3: OpenF1 returned an empty dataset\n"
     ]
    },
    {
     "name": "stderr",
     "output_type": "stream",
     "text": [
      "2021 Sessions:  58%|████████████████████▋               | 65/113 [05:39<02:13,  2.79s/session]"
     ]
    },
    {
     "name": "stdout",
     "output_type": "stream",
     "text": [
      "⚠️ FastF1 failed for 2021 Dutch Grand Prix Q: The data you are trying to access has not been loaded yet. See `Session.load`\n",
      "🔄 Falling back to OpenF1 API...\n",
      "❌ OpenF1 fallback failed for 2021 Dutch Grand Prix Q: OpenF1 returned an empty dataset\n",
      "⚠️ Skipped 2021 Dutch Grand Prix Q: OpenF1 returned an empty dataset\n"
     ]
    },
    {
     "name": "stderr",
     "output_type": "stream",
     "text": [
      "2021 Sessions:  58%|█████████████████████               | 66/113 [05:42<02:17,  2.92s/session]"
     ]
    },
    {
     "name": "stdout",
     "output_type": "stream",
     "text": [
      "⚠️ FastF1 failed for 2021 Dutch Grand Prix R: The data you are trying to access has not been loaded yet. See `Session.load`\n",
      "🔄 Falling back to OpenF1 API...\n",
      "❌ OpenF1 fallback failed for 2021 Dutch Grand Prix R: OpenF1 returned an empty dataset\n",
      "⚠️ Skipped 2021 Dutch Grand Prix R: OpenF1 returned an empty dataset\n"
     ]
    },
    {
     "name": "stderr",
     "output_type": "stream",
     "text": [
      "2021 Sessions:  59%|█████████████████████▎              | 67/113 [05:45<02:12,  2.87s/session]"
     ]
    },
    {
     "name": "stdout",
     "output_type": "stream",
     "text": [
      "⚠️ FastF1 failed for 2021 Italian Grand Prix FP1: The data you are trying to access has not been loaded yet. See `Session.load`\n",
      "🔄 Falling back to OpenF1 API...\n",
      "❌ OpenF1 fallback failed for 2021 Italian Grand Prix FP1: OpenF1 returned an empty dataset\n",
      "⚠️ Skipped 2021 Italian Grand Prix FP1: OpenF1 returned an empty dataset\n"
     ]
    },
    {
     "name": "stderr",
     "output_type": "stream",
     "text": [
      "2021 Sessions:  60%|█████████████████████▋              | 68/113 [05:48<02:11,  2.91s/session]"
     ]
    },
    {
     "name": "stdout",
     "output_type": "stream",
     "text": [
      "⚠️ FastF1 failed for 2021 Italian Grand Prix S: The data you are trying to access has not been loaded yet. See `Session.load`\n",
      "🔄 Falling back to OpenF1 API...\n",
      "❌ OpenF1 fallback failed for 2021 Italian Grand Prix S: OpenF1 returned an empty dataset\n",
      "⚠️ Skipped 2021 Italian Grand Prix S: OpenF1 returned an empty dataset\n"
     ]
    },
    {
     "name": "stderr",
     "output_type": "stream",
     "text": [
      "2021 Sessions:  61%|█████████████████████▉              | 69/113 [05:48<01:36,  2.20s/session]"
     ]
    },
    {
     "name": "stdout",
     "output_type": "stream",
     "text": [
      "⚠️ FastF1 failed for 2021 Italian Grand Prix SS: Session type 'SS' does not exist for this event\n",
      "🔄 Falling back to OpenF1 API...\n",
      "❌ OpenF1 fallback failed for 2021 Italian Grand Prix SS: OpenF1 returned an empty dataset\n",
      "⚠️ Skipped 2021 Italian Grand Prix SS: OpenF1 returned an empty dataset\n"
     ]
    },
    {
     "name": "stderr",
     "output_type": "stream",
     "text": [
      "2021 Sessions:  62%|██████████████████████▎             | 70/113 [05:51<01:44,  2.43s/session]"
     ]
    },
    {
     "name": "stdout",
     "output_type": "stream",
     "text": [
      "⚠️ FastF1 failed for 2021 Italian Grand Prix SQ: The data you are trying to access has not been loaded yet. See `Session.load`\n",
      "🔄 Falling back to OpenF1 API...\n",
      "❌ OpenF1 fallback failed for 2021 Italian Grand Prix SQ: OpenF1 returned an empty dataset\n",
      "⚠️ Skipped 2021 Italian Grand Prix SQ: OpenF1 returned an empty dataset\n"
     ]
    },
    {
     "name": "stderr",
     "output_type": "stream",
     "text": [
      "2021 Sessions:  63%|██████████████████████▌             | 71/113 [05:54<01:46,  2.53s/session]"
     ]
    },
    {
     "name": "stdout",
     "output_type": "stream",
     "text": [
      "⚠️ FastF1 failed for 2021 Italian Grand Prix Q: The data you are trying to access has not been loaded yet. See `Session.load`\n",
      "🔄 Falling back to OpenF1 API...\n",
      "❌ OpenF1 fallback failed for 2021 Italian Grand Prix Q: OpenF1 returned an empty dataset\n",
      "⚠️ Skipped 2021 Italian Grand Prix Q: OpenF1 returned an empty dataset\n"
     ]
    },
    {
     "name": "stderr",
     "output_type": "stream",
     "text": [
      "2021 Sessions:  64%|██████████████████████▉             | 72/113 [05:57<01:52,  2.74s/session]"
     ]
    },
    {
     "name": "stdout",
     "output_type": "stream",
     "text": [
      "⚠️ FastF1 failed for 2021 Italian Grand Prix R: The data you are trying to access has not been loaded yet. See `Session.load`\n",
      "🔄 Falling back to OpenF1 API...\n",
      "❌ OpenF1 fallback failed for 2021 Italian Grand Prix R: OpenF1 returned an empty dataset\n",
      "⚠️ Skipped 2021 Italian Grand Prix R: OpenF1 returned an empty dataset\n"
     ]
    },
    {
     "name": "stderr",
     "output_type": "stream",
     "text": [
      "2021 Sessions:  65%|███████████████████████▎            | 73/113 [06:00<01:49,  2.74s/session]"
     ]
    },
    {
     "name": "stdout",
     "output_type": "stream",
     "text": [
      "⚠️ FastF1 failed for 2021 Russian Grand Prix FP1: The data you are trying to access has not been loaded yet. See `Session.load`\n",
      "🔄 Falling back to OpenF1 API...\n",
      "❌ OpenF1 fallback failed for 2021 Russian Grand Prix FP1: OpenF1 returned an empty dataset\n",
      "⚠️ Skipped 2021 Russian Grand Prix FP1: OpenF1 returned an empty dataset\n"
     ]
    },
    {
     "name": "stderr",
     "output_type": "stream",
     "text": [
      "2021 Sessions:  65%|███████████████████████▌            | 74/113 [06:03<01:47,  2.75s/session]"
     ]
    },
    {
     "name": "stdout",
     "output_type": "stream",
     "text": [
      "⚠️ FastF1 failed for 2021 Russian Grand Prix FP2: The data you are trying to access has not been loaded yet. See `Session.load`\n",
      "🔄 Falling back to OpenF1 API...\n",
      "❌ OpenF1 fallback failed for 2021 Russian Grand Prix FP2: OpenF1 returned an empty dataset\n",
      "⚠️ Skipped 2021 Russian Grand Prix FP2: OpenF1 returned an empty dataset\n"
     ]
    },
    {
     "name": "stderr",
     "output_type": "stream",
     "text": [
      "2021 Sessions:  66%|███████████████████████▉            | 75/113 [06:06<01:44,  2.75s/session]"
     ]
    },
    {
     "name": "stdout",
     "output_type": "stream",
     "text": [
      "⚠️ FastF1 failed for 2021 Russian Grand Prix FP3: The data you are trying to access has not been loaded yet. See `Session.load`\n",
      "🔄 Falling back to OpenF1 API...\n",
      "❌ OpenF1 fallback failed for 2021 Russian Grand Prix FP3: OpenF1 returned an empty dataset\n",
      "⚠️ Skipped 2021 Russian Grand Prix FP3: OpenF1 returned an empty dataset\n"
     ]
    },
    {
     "name": "stderr",
     "output_type": "stream",
     "text": [
      "2021 Sessions:  67%|████████████████████████▏           | 76/113 [06:08<01:41,  2.75s/session]"
     ]
    },
    {
     "name": "stdout",
     "output_type": "stream",
     "text": [
      "⚠️ FastF1 failed for 2021 Russian Grand Prix Q: The data you are trying to access has not been loaded yet. See `Session.load`\n",
      "🔄 Falling back to OpenF1 API...\n",
      "❌ OpenF1 fallback failed for 2021 Russian Grand Prix Q: OpenF1 returned an empty dataset\n",
      "⚠️ Skipped 2021 Russian Grand Prix Q: OpenF1 returned an empty dataset\n"
     ]
    },
    {
     "name": "stderr",
     "output_type": "stream",
     "text": [
      "2021 Sessions:  68%|████████████████████████▌           | 77/113 [06:12<01:44,  2.90s/session]"
     ]
    },
    {
     "name": "stdout",
     "output_type": "stream",
     "text": [
      "⚠️ FastF1 failed for 2021 Russian Grand Prix R: The data you are trying to access has not been loaded yet. See `Session.load`\n",
      "🔄 Falling back to OpenF1 API...\n",
      "❌ OpenF1 fallback failed for 2021 Russian Grand Prix R: OpenF1 returned an empty dataset\n",
      "⚠️ Skipped 2021 Russian Grand Prix R: OpenF1 returned an empty dataset\n"
     ]
    },
    {
     "name": "stderr",
     "output_type": "stream",
     "text": [
      "2021 Sessions:  69%|████████████████████████▊           | 78/113 [06:14<01:39,  2.85s/session]"
     ]
    },
    {
     "name": "stdout",
     "output_type": "stream",
     "text": [
      "⚠️ FastF1 failed for 2021 Turkish Grand Prix FP1: The data you are trying to access has not been loaded yet. See `Session.load`\n",
      "🔄 Falling back to OpenF1 API...\n",
      "❌ OpenF1 fallback failed for 2021 Turkish Grand Prix FP1: OpenF1 returned an empty dataset\n",
      "⚠️ Skipped 2021 Turkish Grand Prix FP1: OpenF1 returned an empty dataset\n",
      "⚠️ FastF1 failed for 2021 Turkish Grand Prix FP2: The data you are trying to access has not been loaded yet. See `Session.load`\n",
      "🔄 Falling back to OpenF1 API...\n"
     ]
    },
    {
     "name": "stderr",
     "output_type": "stream",
     "text": [
      "2021 Sessions:  70%|█████████████████████████▏          | 79/113 [06:17<01:36,  2.84s/session]"
     ]
    },
    {
     "name": "stdout",
     "output_type": "stream",
     "text": [
      "❌ OpenF1 fallback failed for 2021 Turkish Grand Prix FP2: OpenF1 returned an empty dataset\n",
      "⚠️ Skipped 2021 Turkish Grand Prix FP2: OpenF1 returned an empty dataset\n"
     ]
    },
    {
     "name": "stderr",
     "output_type": "stream",
     "text": [
      "2021 Sessions:  71%|█████████████████████████▍          | 80/113 [06:20<01:32,  2.80s/session]"
     ]
    },
    {
     "name": "stdout",
     "output_type": "stream",
     "text": [
      "⚠️ FastF1 failed for 2021 Turkish Grand Prix FP3: The data you are trying to access has not been loaded yet. See `Session.load`\n",
      "🔄 Falling back to OpenF1 API...\n",
      "❌ OpenF1 fallback failed for 2021 Turkish Grand Prix FP3: OpenF1 returned an empty dataset\n",
      "⚠️ Skipped 2021 Turkish Grand Prix FP3: OpenF1 returned an empty dataset\n",
      "⚠️ FastF1 failed for 2021 Turkish Grand Prix Q: The data you are trying to access has not been loaded yet. See `Session.load`\n",
      "🔄 Falling back to OpenF1 API...\n"
     ]
    },
    {
     "name": "stderr",
     "output_type": "stream",
     "text": [
      "2021 Sessions:  72%|█████████████████████████▊          | 81/113 [06:23<01:29,  2.79s/session]"
     ]
    },
    {
     "name": "stdout",
     "output_type": "stream",
     "text": [
      "❌ OpenF1 fallback failed for 2021 Turkish Grand Prix Q: OpenF1 returned an empty dataset\n",
      "⚠️ Skipped 2021 Turkish Grand Prix Q: OpenF1 returned an empty dataset\n"
     ]
    },
    {
     "name": "stderr",
     "output_type": "stream",
     "text": [
      "2021 Sessions:  73%|██████████████████████████          | 82/113 [06:26<01:30,  2.92s/session]"
     ]
    },
    {
     "name": "stdout",
     "output_type": "stream",
     "text": [
      "⚠️ FastF1 failed for 2021 Turkish Grand Prix R: The data you are trying to access has not been loaded yet. See `Session.load`\n",
      "🔄 Falling back to OpenF1 API...\n",
      "❌ OpenF1 fallback failed for 2021 Turkish Grand Prix R: OpenF1 returned an empty dataset\n",
      "⚠️ Skipped 2021 Turkish Grand Prix R: OpenF1 returned an empty dataset\n"
     ]
    },
    {
     "name": "stderr",
     "output_type": "stream",
     "text": [
      "2021 Sessions:  73%|██████████████████████████▍         | 83/113 [06:29<01:26,  2.87s/session]"
     ]
    },
    {
     "name": "stdout",
     "output_type": "stream",
     "text": [
      "⚠️ FastF1 failed for 2021 United States Grand Prix FP1: The data you are trying to access has not been loaded yet. See `Session.load`\n",
      "🔄 Falling back to OpenF1 API...\n",
      "❌ OpenF1 fallback failed for 2021 United States Grand Prix FP1: OpenF1 returned an empty dataset\n",
      "⚠️ Skipped 2021 United States Grand Prix FP1: OpenF1 returned an empty dataset\n"
     ]
    },
    {
     "name": "stderr",
     "output_type": "stream",
     "text": [
      "2021 Sessions:  74%|██████████████████████████▊         | 84/113 [06:31<01:22,  2.83s/session]"
     ]
    },
    {
     "name": "stdout",
     "output_type": "stream",
     "text": [
      "⚠️ FastF1 failed for 2021 United States Grand Prix FP2: The data you are trying to access has not been loaded yet. See `Session.load`\n",
      "🔄 Falling back to OpenF1 API...\n",
      "❌ OpenF1 fallback failed for 2021 United States Grand Prix FP2: OpenF1 returned an empty dataset\n",
      "⚠️ Skipped 2021 United States Grand Prix FP2: OpenF1 returned an empty dataset\n"
     ]
    },
    {
     "name": "stderr",
     "output_type": "stream",
     "text": [
      "2021 Sessions:  75%|███████████████████████████         | 85/113 [06:34<01:18,  2.81s/session]"
     ]
    },
    {
     "name": "stdout",
     "output_type": "stream",
     "text": [
      "⚠️ FastF1 failed for 2021 United States Grand Prix FP3: The data you are trying to access has not been loaded yet. See `Session.load`\n",
      "🔄 Falling back to OpenF1 API...\n",
      "❌ OpenF1 fallback failed for 2021 United States Grand Prix FP3: OpenF1 returned an empty dataset\n",
      "⚠️ Skipped 2021 United States Grand Prix FP3: OpenF1 returned an empty dataset\n"
     ]
    },
    {
     "name": "stderr",
     "output_type": "stream",
     "text": [
      "2021 Sessions:  76%|███████████████████████████▍        | 86/113 [06:37<01:15,  2.79s/session]"
     ]
    },
    {
     "name": "stdout",
     "output_type": "stream",
     "text": [
      "⚠️ FastF1 failed for 2021 United States Grand Prix Q: The data you are trying to access has not been loaded yet. See `Session.load`\n",
      "🔄 Falling back to OpenF1 API...\n",
      "❌ OpenF1 fallback failed for 2021 United States Grand Prix Q: OpenF1 returned an empty dataset\n",
      "⚠️ Skipped 2021 United States Grand Prix Q: OpenF1 returned an empty dataset\n"
     ]
    },
    {
     "name": "stderr",
     "output_type": "stream",
     "text": [
      "2021 Sessions:  77%|███████████████████████████▋        | 87/113 [06:40<01:16,  2.93s/session]"
     ]
    },
    {
     "name": "stdout",
     "output_type": "stream",
     "text": [
      "⚠️ FastF1 failed for 2021 United States Grand Prix R: The data you are trying to access has not been loaded yet. See `Session.load`\n",
      "🔄 Falling back to OpenF1 API...\n",
      "❌ OpenF1 fallback failed for 2021 United States Grand Prix R: OpenF1 returned an empty dataset\n",
      "⚠️ Skipped 2021 United States Grand Prix R: OpenF1 returned an empty dataset\n"
     ]
    },
    {
     "name": "stderr",
     "output_type": "stream",
     "text": [
      "2021 Sessions:  78%|████████████████████████████        | 88/113 [06:43<01:11,  2.87s/session]"
     ]
    },
    {
     "name": "stdout",
     "output_type": "stream",
     "text": [
      "⚠️ FastF1 failed for 2021 Mexico City Grand Prix FP1: The data you are trying to access has not been loaded yet. See `Session.load`\n",
      "🔄 Falling back to OpenF1 API...\n",
      "❌ OpenF1 fallback failed for 2021 Mexico City Grand Prix FP1: OpenF1 returned an empty dataset\n",
      "⚠️ Skipped 2021 Mexico City Grand Prix FP1: OpenF1 returned an empty dataset\n"
     ]
    },
    {
     "name": "stderr",
     "output_type": "stream",
     "text": [
      "2021 Sessions:  79%|████████████████████████████▎       | 89/113 [06:46<01:08,  2.84s/session]"
     ]
    },
    {
     "name": "stdout",
     "output_type": "stream",
     "text": [
      "⚠️ FastF1 failed for 2021 Mexico City Grand Prix FP2: The data you are trying to access has not been loaded yet. See `Session.load`\n",
      "🔄 Falling back to OpenF1 API...\n",
      "❌ OpenF1 fallback failed for 2021 Mexico City Grand Prix FP2: OpenF1 returned an empty dataset\n",
      "⚠️ Skipped 2021 Mexico City Grand Prix FP2: OpenF1 returned an empty dataset\n"
     ]
    },
    {
     "name": "stderr",
     "output_type": "stream",
     "text": [
      "2021 Sessions:  80%|████████████████████████████▋       | 90/113 [06:48<01:04,  2.81s/session]"
     ]
    },
    {
     "name": "stdout",
     "output_type": "stream",
     "text": [
      "⚠️ FastF1 failed for 2021 Mexico City Grand Prix FP3: The data you are trying to access has not been loaded yet. See `Session.load`\n",
      "🔄 Falling back to OpenF1 API...\n",
      "❌ OpenF1 fallback failed for 2021 Mexico City Grand Prix FP3: OpenF1 returned an empty dataset\n",
      "⚠️ Skipped 2021 Mexico City Grand Prix FP3: OpenF1 returned an empty dataset\n"
     ]
    },
    {
     "name": "stderr",
     "output_type": "stream",
     "text": [
      "2021 Sessions:  81%|████████████████████████████▉       | 91/113 [06:51<01:01,  2.79s/session]"
     ]
    },
    {
     "name": "stdout",
     "output_type": "stream",
     "text": [
      "⚠️ FastF1 failed for 2021 Mexico City Grand Prix Q: The data you are trying to access has not been loaded yet. See `Session.load`\n",
      "🔄 Falling back to OpenF1 API...\n",
      "❌ OpenF1 fallback failed for 2021 Mexico City Grand Prix Q: OpenF1 returned an empty dataset\n",
      "⚠️ Skipped 2021 Mexico City Grand Prix Q: OpenF1 returned an empty dataset\n"
     ]
    },
    {
     "name": "stderr",
     "output_type": "stream",
     "text": [
      "2021 Sessions:  81%|█████████████████████████████▎      | 92/113 [06:54<01:01,  2.93s/session]"
     ]
    },
    {
     "name": "stdout",
     "output_type": "stream",
     "text": [
      "⚠️ FastF1 failed for 2021 Mexico City Grand Prix R: The data you are trying to access has not been loaded yet. See `Session.load`\n",
      "🔄 Falling back to OpenF1 API...\n",
      "❌ OpenF1 fallback failed for 2021 Mexico City Grand Prix R: OpenF1 returned an empty dataset\n",
      "⚠️ Skipped 2021 Mexico City Grand Prix R: OpenF1 returned an empty dataset\n"
     ]
    },
    {
     "name": "stderr",
     "output_type": "stream",
     "text": [
      "2021 Sessions:  82%|█████████████████████████████▋      | 93/113 [06:57<00:57,  2.88s/session]"
     ]
    },
    {
     "name": "stdout",
     "output_type": "stream",
     "text": [
      "⚠️ FastF1 failed for 2021 São Paulo Grand Prix FP1: The data you are trying to access has not been loaded yet. See `Session.load`\n",
      "🔄 Falling back to OpenF1 API...\n",
      "❌ OpenF1 fallback failed for 2021 São Paulo Grand Prix FP1: OpenF1 returned an empty dataset\n",
      "⚠️ Skipped 2021 São Paulo Grand Prix FP1: OpenF1 returned an empty dataset\n"
     ]
    },
    {
     "name": "stderr",
     "output_type": "stream",
     "text": [
      "2021 Sessions:  83%|█████████████████████████████▉      | 94/113 [07:00<00:55,  2.92s/session]"
     ]
    },
    {
     "name": "stdout",
     "output_type": "stream",
     "text": [
      "⚠️ FastF1 failed for 2021 São Paulo Grand Prix S: The data you are trying to access has not been loaded yet. See `Session.load`\n",
      "🔄 Falling back to OpenF1 API...\n",
      "❌ OpenF1 fallback failed for 2021 São Paulo Grand Prix S: OpenF1 returned an empty dataset\n",
      "⚠️ Skipped 2021 São Paulo Grand Prix S: OpenF1 returned an empty dataset\n"
     ]
    },
    {
     "name": "stderr",
     "output_type": "stream",
     "text": [
      "2021 Sessions:  84%|██████████████████████████████▎     | 95/113 [07:01<00:39,  2.20s/session]"
     ]
    },
    {
     "name": "stdout",
     "output_type": "stream",
     "text": [
      "⚠️ FastF1 failed for 2021 São Paulo Grand Prix SS: Session type 'SS' does not exist for this event\n",
      "🔄 Falling back to OpenF1 API...\n",
      "❌ OpenF1 fallback failed for 2021 São Paulo Grand Prix SS: OpenF1 returned an empty dataset\n",
      "⚠️ Skipped 2021 São Paulo Grand Prix SS: OpenF1 returned an empty dataset\n"
     ]
    },
    {
     "name": "stderr",
     "output_type": "stream",
     "text": [
      "2021 Sessions:  85%|██████████████████████████████▌     | 96/113 [07:04<00:41,  2.43s/session]"
     ]
    },
    {
     "name": "stdout",
     "output_type": "stream",
     "text": [
      "⚠️ FastF1 failed for 2021 São Paulo Grand Prix SQ: The data you are trying to access has not been loaded yet. See `Session.load`\n",
      "🔄 Falling back to OpenF1 API...\n",
      "❌ OpenF1 fallback failed for 2021 São Paulo Grand Prix SQ: OpenF1 returned an empty dataset\n",
      "⚠️ Skipped 2021 São Paulo Grand Prix SQ: OpenF1 returned an empty dataset\n"
     ]
    },
    {
     "name": "stderr",
     "output_type": "stream",
     "text": [
      "2021 Sessions:  86%|██████████████████████████████▉     | 97/113 [07:06<00:40,  2.53s/session]"
     ]
    },
    {
     "name": "stdout",
     "output_type": "stream",
     "text": [
      "⚠️ FastF1 failed for 2021 São Paulo Grand Prix Q: The data you are trying to access has not been loaded yet. See `Session.load`\n",
      "🔄 Falling back to OpenF1 API...\n",
      "❌ OpenF1 fallback failed for 2021 São Paulo Grand Prix Q: OpenF1 returned an empty dataset\n",
      "⚠️ Skipped 2021 São Paulo Grand Prix Q: OpenF1 returned an empty dataset\n"
     ]
    },
    {
     "name": "stderr",
     "output_type": "stream",
     "text": [
      "2021 Sessions:  87%|███████████████████████████████▏    | 98/113 [07:10<00:41,  2.75s/session]"
     ]
    },
    {
     "name": "stdout",
     "output_type": "stream",
     "text": [
      "⚠️ FastF1 failed for 2021 São Paulo Grand Prix R: The data you are trying to access has not been loaded yet. See `Session.load`\n",
      "🔄 Falling back to OpenF1 API...\n",
      "❌ OpenF1 fallback failed for 2021 São Paulo Grand Prix R: OpenF1 returned an empty dataset\n",
      "⚠️ Skipped 2021 São Paulo Grand Prix R: OpenF1 returned an empty dataset\n"
     ]
    },
    {
     "name": "stderr",
     "output_type": "stream",
     "text": [
      "2021 Sessions:  88%|███████████████████████████████▌    | 99/113 [07:12<00:38,  2.74s/session]"
     ]
    },
    {
     "name": "stdout",
     "output_type": "stream",
     "text": [
      "⚠️ FastF1 failed for 2021 Qatar Grand Prix FP1: The data you are trying to access has not been loaded yet. See `Session.load`\n",
      "🔄 Falling back to OpenF1 API...\n",
      "❌ OpenF1 fallback failed for 2021 Qatar Grand Prix FP1: OpenF1 returned an empty dataset\n",
      "⚠️ Skipped 2021 Qatar Grand Prix FP1: OpenF1 returned an empty dataset\n"
     ]
    },
    {
     "name": "stderr",
     "output_type": "stream",
     "text": [
      "2021 Sessions:  88%|██████████████████████████████▉    | 100/113 [07:15<00:35,  2.75s/session]"
     ]
    },
    {
     "name": "stdout",
     "output_type": "stream",
     "text": [
      "⚠️ FastF1 failed for 2021 Qatar Grand Prix FP2: The data you are trying to access has not been loaded yet. See `Session.load`\n",
      "🔄 Falling back to OpenF1 API...\n",
      "❌ OpenF1 fallback failed for 2021 Qatar Grand Prix FP2: OpenF1 returned an empty dataset\n",
      "⚠️ Skipped 2021 Qatar Grand Prix FP2: OpenF1 returned an empty dataset\n"
     ]
    },
    {
     "name": "stderr",
     "output_type": "stream",
     "text": [
      "2021 Sessions:  89%|███████████████████████████████▎   | 101/113 [07:18<00:32,  2.75s/session]"
     ]
    },
    {
     "name": "stdout",
     "output_type": "stream",
     "text": [
      "⚠️ FastF1 failed for 2021 Qatar Grand Prix FP3: The data you are trying to access has not been loaded yet. See `Session.load`\n",
      "🔄 Falling back to OpenF1 API...\n",
      "❌ OpenF1 fallback failed for 2021 Qatar Grand Prix FP3: OpenF1 returned an empty dataset\n",
      "⚠️ Skipped 2021 Qatar Grand Prix FP3: OpenF1 returned an empty dataset\n"
     ]
    },
    {
     "name": "stderr",
     "output_type": "stream",
     "text": [
      "2021 Sessions:  90%|███████████████████████████████▌   | 102/113 [07:21<00:30,  2.75s/session]"
     ]
    },
    {
     "name": "stdout",
     "output_type": "stream",
     "text": [
      "⚠️ FastF1 failed for 2021 Qatar Grand Prix Q: The data you are trying to access has not been loaded yet. See `Session.load`\n",
      "🔄 Falling back to OpenF1 API...\n",
      "❌ OpenF1 fallback failed for 2021 Qatar Grand Prix Q: OpenF1 returned an empty dataset\n",
      "⚠️ Skipped 2021 Qatar Grand Prix Q: OpenF1 returned an empty dataset\n"
     ]
    },
    {
     "name": "stderr",
     "output_type": "stream",
     "text": [
      "2021 Sessions:  91%|███████████████████████████████▉   | 103/113 [07:24<00:28,  2.89s/session]"
     ]
    },
    {
     "name": "stdout",
     "output_type": "stream",
     "text": [
      "⚠️ FastF1 failed for 2021 Qatar Grand Prix R: The data you are trying to access has not been loaded yet. See `Session.load`\n",
      "🔄 Falling back to OpenF1 API...\n",
      "❌ OpenF1 fallback failed for 2021 Qatar Grand Prix R: OpenF1 returned an empty dataset\n",
      "⚠️ Skipped 2021 Qatar Grand Prix R: OpenF1 returned an empty dataset\n"
     ]
    },
    {
     "name": "stderr",
     "output_type": "stream",
     "text": [
      "2021 Sessions:  92%|████████████████████████████████▏  | 104/113 [07:27<00:25,  2.86s/session]"
     ]
    },
    {
     "name": "stdout",
     "output_type": "stream",
     "text": [
      "⚠️ FastF1 failed for 2021 Saudi Arabian Grand Prix FP1: The data you are trying to access has not been loaded yet. See `Session.load`\n",
      "🔄 Falling back to OpenF1 API...\n",
      "❌ OpenF1 fallback failed for 2021 Saudi Arabian Grand Prix FP1: OpenF1 returned an empty dataset\n",
      "⚠️ Skipped 2021 Saudi Arabian Grand Prix FP1: OpenF1 returned an empty dataset\n"
     ]
    },
    {
     "name": "stderr",
     "output_type": "stream",
     "text": [
      "2021 Sessions:  93%|████████████████████████████████▌  | 105/113 [07:29<00:22,  2.82s/session]"
     ]
    },
    {
     "name": "stdout",
     "output_type": "stream",
     "text": [
      "⚠️ FastF1 failed for 2021 Saudi Arabian Grand Prix FP2: The data you are trying to access has not been loaded yet. See `Session.load`\n",
      "🔄 Falling back to OpenF1 API...\n",
      "❌ OpenF1 fallback failed for 2021 Saudi Arabian Grand Prix FP2: OpenF1 returned an empty dataset\n",
      "⚠️ Skipped 2021 Saudi Arabian Grand Prix FP2: OpenF1 returned an empty dataset\n"
     ]
    },
    {
     "name": "stderr",
     "output_type": "stream",
     "text": [
      "2021 Sessions:  94%|████████████████████████████████▊  | 106/113 [07:32<00:19,  2.80s/session]"
     ]
    },
    {
     "name": "stdout",
     "output_type": "stream",
     "text": [
      "⚠️ FastF1 failed for 2021 Saudi Arabian Grand Prix FP3: The data you are trying to access has not been loaded yet. See `Session.load`\n",
      "🔄 Falling back to OpenF1 API...\n",
      "❌ OpenF1 fallback failed for 2021 Saudi Arabian Grand Prix FP3: OpenF1 returned an empty dataset\n",
      "⚠️ Skipped 2021 Saudi Arabian Grand Prix FP3: OpenF1 returned an empty dataset\n"
     ]
    },
    {
     "name": "stderr",
     "output_type": "stream",
     "text": [
      "2021 Sessions:  95%|█████████████████████████████████▏ | 107/113 [07:35<00:16,  2.79s/session]"
     ]
    },
    {
     "name": "stdout",
     "output_type": "stream",
     "text": [
      "⚠️ FastF1 failed for 2021 Saudi Arabian Grand Prix Q: The data you are trying to access has not been loaded yet. See `Session.load`\n",
      "🔄 Falling back to OpenF1 API...\n",
      "❌ OpenF1 fallback failed for 2021 Saudi Arabian Grand Prix Q: OpenF1 returned an empty dataset\n",
      "⚠️ Skipped 2021 Saudi Arabian Grand Prix Q: OpenF1 returned an empty dataset\n"
     ]
    },
    {
     "name": "stderr",
     "output_type": "stream",
     "text": [
      "2021 Sessions:  96%|█████████████████████████████████▍ | 108/113 [07:38<00:14,  2.92s/session]"
     ]
    },
    {
     "name": "stdout",
     "output_type": "stream",
     "text": [
      "⚠️ FastF1 failed for 2021 Saudi Arabian Grand Prix R: The data you are trying to access has not been loaded yet. See `Session.load`\n",
      "🔄 Falling back to OpenF1 API...\n",
      "❌ OpenF1 fallback failed for 2021 Saudi Arabian Grand Prix R: OpenF1 returned an empty dataset\n",
      "⚠️ Skipped 2021 Saudi Arabian Grand Prix R: OpenF1 returned an empty dataset\n"
     ]
    },
    {
     "name": "stderr",
     "output_type": "stream",
     "text": [
      "2021 Sessions:  96%|█████████████████████████████████▊ | 109/113 [07:41<00:11,  2.88s/session]"
     ]
    },
    {
     "name": "stdout",
     "output_type": "stream",
     "text": [
      "⚠️ FastF1 failed for 2021 Abu Dhabi Grand Prix FP1: The data you are trying to access has not been loaded yet. See `Session.load`\n",
      "🔄 Falling back to OpenF1 API...\n",
      "❌ OpenF1 fallback failed for 2021 Abu Dhabi Grand Prix FP1: OpenF1 returned an empty dataset\n",
      "⚠️ Skipped 2021 Abu Dhabi Grand Prix FP1: OpenF1 returned an empty dataset\n"
     ]
    },
    {
     "name": "stderr",
     "output_type": "stream",
     "text": [
      "2021 Sessions:  97%|██████████████████████████████████ | 110/113 [07:44<00:08,  2.84s/session]"
     ]
    },
    {
     "name": "stdout",
     "output_type": "stream",
     "text": [
      "⚠️ FastF1 failed for 2021 Abu Dhabi Grand Prix FP2: The data you are trying to access has not been loaded yet. See `Session.load`\n",
      "🔄 Falling back to OpenF1 API...\n",
      "❌ OpenF1 fallback failed for 2021 Abu Dhabi Grand Prix FP2: OpenF1 returned an empty dataset\n",
      "⚠️ Skipped 2021 Abu Dhabi Grand Prix FP2: OpenF1 returned an empty dataset\n"
     ]
    },
    {
     "name": "stderr",
     "output_type": "stream",
     "text": [
      "2021 Sessions:  98%|██████████████████████████████████▍| 111/113 [07:46<00:05,  2.81s/session]"
     ]
    },
    {
     "name": "stdout",
     "output_type": "stream",
     "text": [
      "⚠️ FastF1 failed for 2021 Abu Dhabi Grand Prix FP3: The data you are trying to access has not been loaded yet. See `Session.load`\n",
      "🔄 Falling back to OpenF1 API...\n",
      "❌ OpenF1 fallback failed for 2021 Abu Dhabi Grand Prix FP3: OpenF1 returned an empty dataset\n",
      "⚠️ Skipped 2021 Abu Dhabi Grand Prix FP3: OpenF1 returned an empty dataset\n"
     ]
    },
    {
     "name": "stderr",
     "output_type": "stream",
     "text": [
      "2021 Sessions:  99%|██████████████████████████████████▋| 112/113 [07:49<00:02,  2.79s/session]"
     ]
    },
    {
     "name": "stdout",
     "output_type": "stream",
     "text": [
      "⚠️ FastF1 failed for 2021 Abu Dhabi Grand Prix Q: The data you are trying to access has not been loaded yet. See `Session.load`\n",
      "🔄 Falling back to OpenF1 API...\n",
      "❌ OpenF1 fallback failed for 2021 Abu Dhabi Grand Prix Q: OpenF1 returned an empty dataset\n",
      "⚠️ Skipped 2021 Abu Dhabi Grand Prix Q: OpenF1 returned an empty dataset\n"
     ]
    },
    {
     "name": "stderr",
     "output_type": "stream",
     "text": [
      "2021 Sessions: 100%|███████████████████████████████████| 113/113 [07:52<00:00,  4.18s/session]"
     ]
    },
    {
     "name": "stdout",
     "output_type": "stream",
     "text": [
      "⚠️ FastF1 failed for 2021 Abu Dhabi Grand Prix R: The data you are trying to access has not been loaded yet. See `Session.load`\n",
      "🔄 Falling back to OpenF1 API...\n",
      "❌ OpenF1 fallback failed for 2021 Abu Dhabi Grand Prix R: OpenF1 returned an empty dataset\n",
      "⚠️ Skipped 2021 Abu Dhabi Grand Prix R: OpenF1 returned an empty dataset\n",
      "\n",
      "📅 Processing 2022...\n"
     ]
    },
    {
     "name": "stderr",
     "output_type": "stream",
     "text": [
      "\n",
      "2022 Sessions:   1%|▎                                    | 1/113 [00:03<05:54,  3.17s/session]"
     ]
    },
    {
     "name": "stdout",
     "output_type": "stream",
     "text": [
      "⚠️ FastF1 failed for 2022 Bahrain Grand Prix FP1: The data you are trying to access has not been loaded yet. See `Session.load`\n",
      "🔄 Falling back to OpenF1 API...\n",
      "❌ OpenF1 fallback failed for 2022 Bahrain Grand Prix FP1: OpenF1 returned an empty dataset\n",
      "⚠️ Skipped 2022 Bahrain Grand Prix FP1: OpenF1 returned an empty dataset\n"
     ]
    },
    {
     "name": "stderr",
     "output_type": "stream",
     "text": [
      "2022 Sessions:   2%|▋                                    | 2/113 [00:06<05:40,  3.07s/session]"
     ]
    },
    {
     "name": "stdout",
     "output_type": "stream",
     "text": [
      "⚠️ FastF1 failed for 2022 Bahrain Grand Prix FP2: The data you are trying to access has not been loaded yet. See `Session.load`\n",
      "🔄 Falling back to OpenF1 API...\n",
      "❌ OpenF1 fallback failed for 2022 Bahrain Grand Prix FP2: OpenF1 returned an empty dataset\n",
      "⚠️ Skipped 2022 Bahrain Grand Prix FP2: OpenF1 returned an empty dataset\n"
     ]
    },
    {
     "name": "stderr",
     "output_type": "stream",
     "text": [
      "2022 Sessions:   3%|▉                                    | 3/113 [00:09<05:33,  3.03s/session]"
     ]
    },
    {
     "name": "stdout",
     "output_type": "stream",
     "text": [
      "⚠️ FastF1 failed for 2022 Bahrain Grand Prix FP3: The data you are trying to access has not been loaded yet. See `Session.load`\n",
      "🔄 Falling back to OpenF1 API...\n",
      "❌ OpenF1 fallback failed for 2022 Bahrain Grand Prix FP3: OpenF1 returned an empty dataset\n",
      "⚠️ Skipped 2022 Bahrain Grand Prix FP3: OpenF1 returned an empty dataset\n"
     ]
    },
    {
     "name": "stderr",
     "output_type": "stream",
     "text": [
      "2022 Sessions:   4%|█▎                                   | 4/113 [00:12<05:29,  3.02s/session]"
     ]
    },
    {
     "name": "stdout",
     "output_type": "stream",
     "text": [
      "⚠️ FastF1 failed for 2022 Bahrain Grand Prix Q: The data you are trying to access has not been loaded yet. See `Session.load`\n",
      "🔄 Falling back to OpenF1 API...\n",
      "❌ OpenF1 fallback failed for 2022 Bahrain Grand Prix Q: OpenF1 returned an empty dataset\n",
      "⚠️ Skipped 2022 Bahrain Grand Prix Q: OpenF1 returned an empty dataset\n"
     ]
    },
    {
     "name": "stderr",
     "output_type": "stream",
     "text": [
      "2022 Sessions:   4%|█▋                                   | 5/113 [00:15<05:45,  3.20s/session]"
     ]
    },
    {
     "name": "stdout",
     "output_type": "stream",
     "text": [
      "⚠️ FastF1 failed for 2022 Bahrain Grand Prix R: The data you are trying to access has not been loaded yet. See `Session.load`\n",
      "🔄 Falling back to OpenF1 API...\n",
      "❌ OpenF1 fallback failed for 2022 Bahrain Grand Prix R: OpenF1 returned an empty dataset\n",
      "⚠️ Skipped 2022 Bahrain Grand Prix R: OpenF1 returned an empty dataset\n"
     ]
    },
    {
     "name": "stderr",
     "output_type": "stream",
     "text": [
      "2022 Sessions:   5%|█▉                                   | 6/113 [00:18<05:34,  3.13s/session]"
     ]
    },
    {
     "name": "stdout",
     "output_type": "stream",
     "text": [
      "⚠️ FastF1 failed for 2022 Saudi Arabian Grand Prix FP1: The data you are trying to access has not been loaded yet. See `Session.load`\n",
      "🔄 Falling back to OpenF1 API...\n",
      "❌ OpenF1 fallback failed for 2022 Saudi Arabian Grand Prix FP1: OpenF1 returned an empty dataset\n",
      "⚠️ Skipped 2022 Saudi Arabian Grand Prix FP1: OpenF1 returned an empty dataset\n"
     ]
    },
    {
     "name": "stderr",
     "output_type": "stream",
     "text": [
      "2022 Sessions:   6%|██▎                                  | 7/113 [00:21<05:26,  3.08s/session]"
     ]
    },
    {
     "name": "stdout",
     "output_type": "stream",
     "text": [
      "⚠️ FastF1 failed for 2022 Saudi Arabian Grand Prix FP2: The data you are trying to access has not been loaded yet. See `Session.load`\n",
      "🔄 Falling back to OpenF1 API...\n",
      "❌ OpenF1 fallback failed for 2022 Saudi Arabian Grand Prix FP2: OpenF1 returned an empty dataset\n",
      "⚠️ Skipped 2022 Saudi Arabian Grand Prix FP2: OpenF1 returned an empty dataset\n"
     ]
    },
    {
     "name": "stderr",
     "output_type": "stream",
     "text": [
      "2022 Sessions:   7%|██▌                                  | 8/113 [00:24<05:21,  3.06s/session]"
     ]
    },
    {
     "name": "stdout",
     "output_type": "stream",
     "text": [
      "⚠️ FastF1 failed for 2022 Saudi Arabian Grand Prix FP3: The data you are trying to access has not been loaded yet. See `Session.load`\n",
      "🔄 Falling back to OpenF1 API...\n",
      "❌ OpenF1 fallback failed for 2022 Saudi Arabian Grand Prix FP3: OpenF1 returned an empty dataset\n",
      "⚠️ Skipped 2022 Saudi Arabian Grand Prix FP3: OpenF1 returned an empty dataset\n"
     ]
    },
    {
     "name": "stderr",
     "output_type": "stream",
     "text": [
      "2022 Sessions:   8%|██▉                                  | 9/113 [00:27<05:16,  3.04s/session]"
     ]
    },
    {
     "name": "stdout",
     "output_type": "stream",
     "text": [
      "⚠️ FastF1 failed for 2022 Saudi Arabian Grand Prix Q: The data you are trying to access has not been loaded yet. See `Session.load`\n",
      "🔄 Falling back to OpenF1 API...\n",
      "❌ OpenF1 fallback failed for 2022 Saudi Arabian Grand Prix Q: OpenF1 returned an empty dataset\n",
      "⚠️ Skipped 2022 Saudi Arabian Grand Prix Q: OpenF1 returned an empty dataset\n"
     ]
    },
    {
     "name": "stderr",
     "output_type": "stream",
     "text": [
      "2022 Sessions:   9%|███▏                                | 10/113 [00:31<05:28,  3.19s/session]"
     ]
    },
    {
     "name": "stdout",
     "output_type": "stream",
     "text": [
      "⚠️ FastF1 failed for 2022 Saudi Arabian Grand Prix R: The data you are trying to access has not been loaded yet. See `Session.load`\n",
      "🔄 Falling back to OpenF1 API...\n",
      "❌ OpenF1 fallback failed for 2022 Saudi Arabian Grand Prix R: OpenF1 returned an empty dataset\n",
      "⚠️ Skipped 2022 Saudi Arabian Grand Prix R: OpenF1 returned an empty dataset\n"
     ]
    },
    {
     "name": "stderr",
     "output_type": "stream",
     "text": [
      "2022 Sessions:  10%|███▌                                | 11/113 [00:34<05:18,  3.13s/session]"
     ]
    },
    {
     "name": "stdout",
     "output_type": "stream",
     "text": [
      "⚠️ FastF1 failed for 2022 Australian Grand Prix FP1: The data you are trying to access has not been loaded yet. See `Session.load`\n",
      "🔄 Falling back to OpenF1 API...\n",
      "❌ OpenF1 fallback failed for 2022 Australian Grand Prix FP1: OpenF1 returned an empty dataset\n",
      "⚠️ Skipped 2022 Australian Grand Prix FP1: OpenF1 returned an empty dataset\n"
     ]
    },
    {
     "name": "stderr",
     "output_type": "stream",
     "text": [
      "2022 Sessions:  11%|███▊                                | 12/113 [00:37<05:11,  3.09s/session]"
     ]
    },
    {
     "name": "stdout",
     "output_type": "stream",
     "text": [
      "⚠️ FastF1 failed for 2022 Australian Grand Prix FP2: The data you are trying to access has not been loaded yet. See `Session.load`\n",
      "🔄 Falling back to OpenF1 API...\n",
      "❌ OpenF1 fallback failed for 2022 Australian Grand Prix FP2: OpenF1 returned an empty dataset\n",
      "⚠️ Skipped 2022 Australian Grand Prix FP2: OpenF1 returned an empty dataset\n"
     ]
    },
    {
     "name": "stderr",
     "output_type": "stream",
     "text": [
      "2022 Sessions:  12%|████▏                               | 13/113 [00:40<05:06,  3.06s/session]"
     ]
    },
    {
     "name": "stdout",
     "output_type": "stream",
     "text": [
      "⚠️ FastF1 failed for 2022 Australian Grand Prix FP3: The data you are trying to access has not been loaded yet. See `Session.load`\n",
      "🔄 Falling back to OpenF1 API...\n",
      "❌ OpenF1 fallback failed for 2022 Australian Grand Prix FP3: OpenF1 returned an empty dataset\n",
      "⚠️ Skipped 2022 Australian Grand Prix FP3: OpenF1 returned an empty dataset\n"
     ]
    },
    {
     "name": "stderr",
     "output_type": "stream",
     "text": [
      "2022 Sessions:  12%|████▍                               | 14/113 [00:43<05:01,  3.04s/session]"
     ]
    },
    {
     "name": "stdout",
     "output_type": "stream",
     "text": [
      "⚠️ FastF1 failed for 2022 Australian Grand Prix Q: The data you are trying to access has not been loaded yet. See `Session.load`\n",
      "🔄 Falling back to OpenF1 API...\n",
      "❌ OpenF1 fallback failed for 2022 Australian Grand Prix Q: OpenF1 returned an empty dataset\n",
      "⚠️ Skipped 2022 Australian Grand Prix Q: OpenF1 returned an empty dataset\n"
     ]
    },
    {
     "name": "stderr",
     "output_type": "stream",
     "text": [
      "2022 Sessions:  13%|████▊                               | 15/113 [00:46<05:11,  3.18s/session]"
     ]
    },
    {
     "name": "stdout",
     "output_type": "stream",
     "text": [
      "⚠️ FastF1 failed for 2022 Australian Grand Prix R: The data you are trying to access has not been loaded yet. See `Session.load`\n",
      "🔄 Falling back to OpenF1 API...\n",
      "❌ OpenF1 fallback failed for 2022 Australian Grand Prix R: OpenF1 returned an empty dataset\n",
      "⚠️ Skipped 2022 Australian Grand Prix R: OpenF1 returned an empty dataset\n"
     ]
    },
    {
     "name": "stderr",
     "output_type": "stream",
     "text": [
      "2022 Sessions:  14%|█████                               | 16/113 [00:49<05:03,  3.13s/session]"
     ]
    },
    {
     "name": "stdout",
     "output_type": "stream",
     "text": [
      "⚠️ FastF1 failed for 2022 Emilia Romagna Grand Prix FP1: The data you are trying to access has not been loaded yet. See `Session.load`\n",
      "🔄 Falling back to OpenF1 API...\n",
      "❌ OpenF1 fallback failed for 2022 Emilia Romagna Grand Prix FP1: OpenF1 returned an empty dataset\n",
      "⚠️ Skipped 2022 Emilia Romagna Grand Prix FP1: OpenF1 returned an empty dataset\n"
     ]
    },
    {
     "name": "stderr",
     "output_type": "stream",
     "text": [
      "2022 Sessions:  15%|█████▍                              | 17/113 [00:52<05:03,  3.16s/session]"
     ]
    },
    {
     "name": "stdout",
     "output_type": "stream",
     "text": [
      "⚠️ FastF1 failed for 2022 Emilia Romagna Grand Prix S: The data you are trying to access has not been loaded yet. See `Session.load`\n",
      "🔄 Falling back to OpenF1 API...\n",
      "❌ OpenF1 fallback failed for 2022 Emilia Romagna Grand Prix S: OpenF1 returned an empty dataset\n",
      "⚠️ Skipped 2022 Emilia Romagna Grand Prix S: OpenF1 returned an empty dataset\n"
     ]
    },
    {
     "name": "stderr",
     "output_type": "stream",
     "text": [
      "2022 Sessions:  16%|█████▋                              | 18/113 [00:53<03:52,  2.45s/session]"
     ]
    },
    {
     "name": "stdout",
     "output_type": "stream",
     "text": [
      "⚠️ FastF1 failed for 2022 Emilia Romagna Grand Prix SS: Session type 'SS' does not exist for this event\n",
      "🔄 Falling back to OpenF1 API...\n",
      "❌ OpenF1 fallback failed for 2022 Emilia Romagna Grand Prix SS: OpenF1 returned an empty dataset\n",
      "⚠️ Skipped 2022 Emilia Romagna Grand Prix SS: OpenF1 returned an empty dataset\n"
     ]
    },
    {
     "name": "stderr",
     "output_type": "stream",
     "text": [
      "2022 Sessions:  17%|██████                              | 19/113 [00:56<04:11,  2.68s/session]"
     ]
    },
    {
     "name": "stdout",
     "output_type": "stream",
     "text": [
      "⚠️ FastF1 failed for 2022 Emilia Romagna Grand Prix SQ: The data you are trying to access has not been loaded yet. See `Session.load`\n",
      "🔄 Falling back to OpenF1 API...\n",
      "❌ OpenF1 fallback failed for 2022 Emilia Romagna Grand Prix SQ: OpenF1 returned an empty dataset\n",
      "⚠️ Skipped 2022 Emilia Romagna Grand Prix SQ: OpenF1 returned an empty dataset\n"
     ]
    },
    {
     "name": "stderr",
     "output_type": "stream",
     "text": [
      "2022 Sessions:  18%|██████▎                             | 20/113 [00:59<04:18,  2.77s/session]"
     ]
    },
    {
     "name": "stdout",
     "output_type": "stream",
     "text": [
      "⚠️ FastF1 failed for 2022 Emilia Romagna Grand Prix Q: The data you are trying to access has not been loaded yet. See `Session.load`\n",
      "🔄 Falling back to OpenF1 API...\n",
      "❌ OpenF1 fallback failed for 2022 Emilia Romagna Grand Prix Q: OpenF1 returned an empty dataset\n",
      "⚠️ Skipped 2022 Emilia Romagna Grand Prix Q: OpenF1 returned an empty dataset\n"
     ]
    },
    {
     "name": "stderr",
     "output_type": "stream",
     "text": [
      "2022 Sessions:  19%|██████▋                             | 21/113 [01:03<04:35,  2.99s/session]"
     ]
    },
    {
     "name": "stdout",
     "output_type": "stream",
     "text": [
      "⚠️ FastF1 failed for 2022 Emilia Romagna Grand Prix R: The data you are trying to access has not been loaded yet. See `Session.load`\n",
      "🔄 Falling back to OpenF1 API...\n",
      "❌ OpenF1 fallback failed for 2022 Emilia Romagna Grand Prix R: OpenF1 returned an empty dataset\n",
      "⚠️ Skipped 2022 Emilia Romagna Grand Prix R: OpenF1 returned an empty dataset\n"
     ]
    },
    {
     "name": "stderr",
     "output_type": "stream",
     "text": [
      "2022 Sessions:  19%|███████                             | 22/113 [01:06<04:32,  2.99s/session]"
     ]
    },
    {
     "name": "stdout",
     "output_type": "stream",
     "text": [
      "⚠️ FastF1 failed for 2022 Miami Grand Prix FP1: The data you are trying to access has not been loaded yet. See `Session.load`\n",
      "🔄 Falling back to OpenF1 API...\n",
      "❌ OpenF1 fallback failed for 2022 Miami Grand Prix FP1: OpenF1 returned an empty dataset\n",
      "⚠️ Skipped 2022 Miami Grand Prix FP1: OpenF1 returned an empty dataset\n"
     ]
    },
    {
     "name": "stderr",
     "output_type": "stream",
     "text": [
      "2022 Sessions:  20%|███████▎                            | 23/113 [01:09<04:29,  3.00s/session]"
     ]
    },
    {
     "name": "stdout",
     "output_type": "stream",
     "text": [
      "⚠️ FastF1 failed for 2022 Miami Grand Prix FP2: The data you are trying to access has not been loaded yet. See `Session.load`\n",
      "🔄 Falling back to OpenF1 API...\n",
      "❌ OpenF1 fallback failed for 2022 Miami Grand Prix FP2: OpenF1 returned an empty dataset\n",
      "⚠️ Skipped 2022 Miami Grand Prix FP2: OpenF1 returned an empty dataset\n"
     ]
    },
    {
     "name": "stderr",
     "output_type": "stream",
     "text": [
      "2022 Sessions:  21%|███████▋                            | 24/113 [01:12<04:27,  3.00s/session]"
     ]
    },
    {
     "name": "stdout",
     "output_type": "stream",
     "text": [
      "⚠️ FastF1 failed for 2022 Miami Grand Prix FP3: The data you are trying to access has not been loaded yet. See `Session.load`\n",
      "🔄 Falling back to OpenF1 API...\n",
      "❌ OpenF1 fallback failed for 2022 Miami Grand Prix FP3: OpenF1 returned an empty dataset\n",
      "⚠️ Skipped 2022 Miami Grand Prix FP3: OpenF1 returned an empty dataset\n"
     ]
    },
    {
     "name": "stderr",
     "output_type": "stream",
     "text": [
      "2022 Sessions:  22%|███████▉                            | 25/113 [01:15<04:23,  3.00s/session]"
     ]
    },
    {
     "name": "stdout",
     "output_type": "stream",
     "text": [
      "⚠️ FastF1 failed for 2022 Miami Grand Prix Q: The data you are trying to access has not been loaded yet. See `Session.load`\n",
      "🔄 Falling back to OpenF1 API...\n",
      "❌ OpenF1 fallback failed for 2022 Miami Grand Prix Q: OpenF1 returned an empty dataset\n",
      "⚠️ Skipped 2022 Miami Grand Prix Q: OpenF1 returned an empty dataset\n"
     ]
    },
    {
     "name": "stderr",
     "output_type": "stream",
     "text": [
      "2022 Sessions:  23%|████████▎                           | 26/113 [01:18<04:34,  3.15s/session]"
     ]
    },
    {
     "name": "stdout",
     "output_type": "stream",
     "text": [
      "⚠️ FastF1 failed for 2022 Miami Grand Prix R: The data you are trying to access has not been loaded yet. See `Session.load`\n",
      "🔄 Falling back to OpenF1 API...\n",
      "❌ OpenF1 fallback failed for 2022 Miami Grand Prix R: OpenF1 returned an empty dataset\n",
      "⚠️ Skipped 2022 Miami Grand Prix R: OpenF1 returned an empty dataset\n"
     ]
    },
    {
     "name": "stderr",
     "output_type": "stream",
     "text": [
      "2022 Sessions:  24%|████████▌                           | 27/113 [01:21<04:26,  3.10s/session]"
     ]
    },
    {
     "name": "stdout",
     "output_type": "stream",
     "text": [
      "⚠️ FastF1 failed for 2022 Spanish Grand Prix FP1: The data you are trying to access has not been loaded yet. See `Session.load`\n",
      "🔄 Falling back to OpenF1 API...\n",
      "❌ OpenF1 fallback failed for 2022 Spanish Grand Prix FP1: OpenF1 returned an empty dataset\n",
      "⚠️ Skipped 2022 Spanish Grand Prix FP1: OpenF1 returned an empty dataset\n"
     ]
    },
    {
     "name": "stderr",
     "output_type": "stream",
     "text": [
      "2022 Sessions:  25%|████████▉                           | 28/113 [01:24<04:21,  3.07s/session]"
     ]
    },
    {
     "name": "stdout",
     "output_type": "stream",
     "text": [
      "⚠️ FastF1 failed for 2022 Spanish Grand Prix FP2: The data you are trying to access has not been loaded yet. See `Session.load`\n",
      "🔄 Falling back to OpenF1 API...\n",
      "❌ OpenF1 fallback failed for 2022 Spanish Grand Prix FP2: OpenF1 returned an empty dataset\n",
      "⚠️ Skipped 2022 Spanish Grand Prix FP2: OpenF1 returned an empty dataset\n"
     ]
    },
    {
     "name": "stderr",
     "output_type": "stream",
     "text": [
      "2022 Sessions:  26%|█████████▏                          | 29/113 [01:27<04:16,  3.05s/session]"
     ]
    },
    {
     "name": "stdout",
     "output_type": "stream",
     "text": [
      "⚠️ FastF1 failed for 2022 Spanish Grand Prix FP3: The data you are trying to access has not been loaded yet. See `Session.load`\n",
      "🔄 Falling back to OpenF1 API...\n",
      "❌ OpenF1 fallback failed for 2022 Spanish Grand Prix FP3: OpenF1 returned an empty dataset\n",
      "⚠️ Skipped 2022 Spanish Grand Prix FP3: OpenF1 returned an empty dataset\n"
     ]
    },
    {
     "name": "stderr",
     "output_type": "stream",
     "text": [
      "2022 Sessions:  27%|█████████▌                          | 30/113 [01:30<04:11,  3.03s/session]"
     ]
    },
    {
     "name": "stdout",
     "output_type": "stream",
     "text": [
      "⚠️ FastF1 failed for 2022 Spanish Grand Prix Q: The data you are trying to access has not been loaded yet. See `Session.load`\n",
      "🔄 Falling back to OpenF1 API...\n",
      "❌ OpenF1 fallback failed for 2022 Spanish Grand Prix Q: OpenF1 returned an empty dataset\n",
      "⚠️ Skipped 2022 Spanish Grand Prix Q: OpenF1 returned an empty dataset\n"
     ]
    },
    {
     "name": "stderr",
     "output_type": "stream",
     "text": [
      "2022 Sessions:  27%|█████████▉                          | 31/113 [01:34<04:20,  3.17s/session]"
     ]
    },
    {
     "name": "stdout",
     "output_type": "stream",
     "text": [
      "⚠️ FastF1 failed for 2022 Spanish Grand Prix R: The data you are trying to access has not been loaded yet. See `Session.load`\n",
      "🔄 Falling back to OpenF1 API...\n",
      "❌ OpenF1 fallback failed for 2022 Spanish Grand Prix R: OpenF1 returned an empty dataset\n",
      "⚠️ Skipped 2022 Spanish Grand Prix R: OpenF1 returned an empty dataset\n",
      "⚠️ FastF1 failed for 2022 Monaco Grand Prix FP1: The data you are trying to access has not been loaded yet. See `Session.load`\n",
      "🔄 Falling back to OpenF1 API...\n"
     ]
    },
    {
     "name": "stderr",
     "output_type": "stream",
     "text": [
      "2022 Sessions:  28%|██████████▏                         | 32/113 [01:37<04:13,  3.13s/session]"
     ]
    },
    {
     "name": "stdout",
     "output_type": "stream",
     "text": [
      "❌ OpenF1 fallback failed for 2022 Monaco Grand Prix FP1: OpenF1 returned an empty dataset\n",
      "⚠️ Skipped 2022 Monaco Grand Prix FP1: OpenF1 returned an empty dataset\n"
     ]
    },
    {
     "name": "stderr",
     "output_type": "stream",
     "text": [
      "2022 Sessions:  29%|██████████▌                         | 33/113 [01:40<04:06,  3.08s/session]"
     ]
    },
    {
     "name": "stdout",
     "output_type": "stream",
     "text": [
      "⚠️ FastF1 failed for 2022 Monaco Grand Prix FP2: The data you are trying to access has not been loaded yet. See `Session.load`\n",
      "🔄 Falling back to OpenF1 API...\n",
      "❌ OpenF1 fallback failed for 2022 Monaco Grand Prix FP2: OpenF1 returned an empty dataset\n",
      "⚠️ Skipped 2022 Monaco Grand Prix FP2: OpenF1 returned an empty dataset\n"
     ]
    },
    {
     "name": "stderr",
     "output_type": "stream",
     "text": [
      "2022 Sessions:  30%|██████████▊                         | 34/113 [01:43<04:01,  3.06s/session]"
     ]
    },
    {
     "name": "stdout",
     "output_type": "stream",
     "text": [
      "⚠️ FastF1 failed for 2022 Monaco Grand Prix FP3: The data you are trying to access has not been loaded yet. See `Session.load`\n",
      "🔄 Falling back to OpenF1 API...\n",
      "❌ OpenF1 fallback failed for 2022 Monaco Grand Prix FP3: OpenF1 returned an empty dataset\n",
      "⚠️ Skipped 2022 Monaco Grand Prix FP3: OpenF1 returned an empty dataset\n"
     ]
    },
    {
     "name": "stderr",
     "output_type": "stream",
     "text": [
      "2022 Sessions:  31%|███████████▏                        | 35/113 [01:46<03:57,  3.04s/session]"
     ]
    },
    {
     "name": "stdout",
     "output_type": "stream",
     "text": [
      "⚠️ FastF1 failed for 2022 Monaco Grand Prix Q: The data you are trying to access has not been loaded yet. See `Session.load`\n",
      "🔄 Falling back to OpenF1 API...\n",
      "❌ OpenF1 fallback failed for 2022 Monaco Grand Prix Q: OpenF1 returned an empty dataset\n",
      "⚠️ Skipped 2022 Monaco Grand Prix Q: OpenF1 returned an empty dataset\n"
     ]
    },
    {
     "name": "stderr",
     "output_type": "stream",
     "text": [
      "2022 Sessions:  32%|███████████▍                        | 36/113 [01:49<04:04,  3.18s/session]"
     ]
    },
    {
     "name": "stdout",
     "output_type": "stream",
     "text": [
      "⚠️ FastF1 failed for 2022 Monaco Grand Prix R: The data you are trying to access has not been loaded yet. See `Session.load`\n",
      "🔄 Falling back to OpenF1 API...\n",
      "❌ OpenF1 fallback failed for 2022 Monaco Grand Prix R: OpenF1 returned an empty dataset\n",
      "⚠️ Skipped 2022 Monaco Grand Prix R: OpenF1 returned an empty dataset\n"
     ]
    },
    {
     "name": "stderr",
     "output_type": "stream",
     "text": [
      "2022 Sessions:  33%|███████████▊                        | 37/113 [01:52<03:57,  3.12s/session]"
     ]
    },
    {
     "name": "stdout",
     "output_type": "stream",
     "text": [
      "⚠️ FastF1 failed for 2022 Azerbaijan Grand Prix FP1: The data you are trying to access has not been loaded yet. See `Session.load`\n",
      "🔄 Falling back to OpenF1 API...\n",
      "❌ OpenF1 fallback failed for 2022 Azerbaijan Grand Prix FP1: OpenF1 returned an empty dataset\n",
      "⚠️ Skipped 2022 Azerbaijan Grand Prix FP1: OpenF1 returned an empty dataset\n"
     ]
    },
    {
     "name": "stderr",
     "output_type": "stream",
     "text": [
      "2022 Sessions:  34%|████████████                        | 38/113 [01:55<03:51,  3.09s/session]"
     ]
    },
    {
     "name": "stdout",
     "output_type": "stream",
     "text": [
      "⚠️ FastF1 failed for 2022 Azerbaijan Grand Prix FP2: The data you are trying to access has not been loaded yet. See `Session.load`\n",
      "🔄 Falling back to OpenF1 API...\n",
      "❌ OpenF1 fallback failed for 2022 Azerbaijan Grand Prix FP2: OpenF1 returned an empty dataset\n",
      "⚠️ Skipped 2022 Azerbaijan Grand Prix FP2: OpenF1 returned an empty dataset\n"
     ]
    },
    {
     "name": "stderr",
     "output_type": "stream",
     "text": [
      "2022 Sessions:  35%|████████████▍                       | 39/113 [01:58<03:46,  3.06s/session]"
     ]
    },
    {
     "name": "stdout",
     "output_type": "stream",
     "text": [
      "⚠️ FastF1 failed for 2022 Azerbaijan Grand Prix FP3: The data you are trying to access has not been loaded yet. See `Session.load`\n",
      "🔄 Falling back to OpenF1 API...\n",
      "❌ OpenF1 fallback failed for 2022 Azerbaijan Grand Prix FP3: OpenF1 returned an empty dataset\n",
      "⚠️ Skipped 2022 Azerbaijan Grand Prix FP3: OpenF1 returned an empty dataset\n"
     ]
    },
    {
     "name": "stderr",
     "output_type": "stream",
     "text": [
      "2022 Sessions:  35%|████████████▋                       | 40/113 [02:01<03:42,  3.04s/session]"
     ]
    },
    {
     "name": "stdout",
     "output_type": "stream",
     "text": [
      "⚠️ FastF1 failed for 2022 Azerbaijan Grand Prix Q: The data you are trying to access has not been loaded yet. See `Session.load`\n",
      "🔄 Falling back to OpenF1 API...\n",
      "❌ OpenF1 fallback failed for 2022 Azerbaijan Grand Prix Q: OpenF1 returned an empty dataset\n",
      "⚠️ Skipped 2022 Azerbaijan Grand Prix Q: OpenF1 returned an empty dataset\n"
     ]
    },
    {
     "name": "stderr",
     "output_type": "stream",
     "text": [
      "2022 Sessions:  36%|█████████████                       | 41/113 [02:05<03:48,  3.18s/session]"
     ]
    },
    {
     "name": "stdout",
     "output_type": "stream",
     "text": [
      "⚠️ FastF1 failed for 2022 Azerbaijan Grand Prix R: The data you are trying to access has not been loaded yet. See `Session.load`\n",
      "🔄 Falling back to OpenF1 API...\n",
      "❌ OpenF1 fallback failed for 2022 Azerbaijan Grand Prix R: OpenF1 returned an empty dataset\n",
      "⚠️ Skipped 2022 Azerbaijan Grand Prix R: OpenF1 returned an empty dataset\n"
     ]
    },
    {
     "name": "stderr",
     "output_type": "stream",
     "text": [
      "2022 Sessions:  37%|█████████████▍                      | 42/113 [02:08<03:41,  3.12s/session]"
     ]
    },
    {
     "name": "stdout",
     "output_type": "stream",
     "text": [
      "⚠️ FastF1 failed for 2022 Canadian Grand Prix FP1: The data you are trying to access has not been loaded yet. See `Session.load`\n",
      "🔄 Falling back to OpenF1 API...\n",
      "❌ OpenF1 fallback failed for 2022 Canadian Grand Prix FP1: OpenF1 returned an empty dataset\n",
      "⚠️ Skipped 2022 Canadian Grand Prix FP1: OpenF1 returned an empty dataset\n"
     ]
    },
    {
     "name": "stderr",
     "output_type": "stream",
     "text": [
      "2022 Sessions:  38%|█████████████▋                      | 43/113 [02:11<03:36,  3.09s/session]"
     ]
    },
    {
     "name": "stdout",
     "output_type": "stream",
     "text": [
      "⚠️ FastF1 failed for 2022 Canadian Grand Prix FP2: The data you are trying to access has not been loaded yet. See `Session.load`\n",
      "🔄 Falling back to OpenF1 API...\n",
      "❌ OpenF1 fallback failed for 2022 Canadian Grand Prix FP2: OpenF1 returned an empty dataset\n",
      "⚠️ Skipped 2022 Canadian Grand Prix FP2: OpenF1 returned an empty dataset\n"
     ]
    },
    {
     "name": "stderr",
     "output_type": "stream",
     "text": [
      "2022 Sessions:  39%|██████████████                      | 44/113 [02:14<03:31,  3.06s/session]"
     ]
    },
    {
     "name": "stdout",
     "output_type": "stream",
     "text": [
      "⚠️ FastF1 failed for 2022 Canadian Grand Prix FP3: The data you are trying to access has not been loaded yet. See `Session.load`\n",
      "🔄 Falling back to OpenF1 API...\n",
      "❌ OpenF1 fallback failed for 2022 Canadian Grand Prix FP3: OpenF1 returned an empty dataset\n",
      "⚠️ Skipped 2022 Canadian Grand Prix FP3: OpenF1 returned an empty dataset\n"
     ]
    },
    {
     "name": "stderr",
     "output_type": "stream",
     "text": [
      "2022 Sessions:  40%|██████████████▎                     | 45/113 [02:17<03:27,  3.05s/session]"
     ]
    },
    {
     "name": "stdout",
     "output_type": "stream",
     "text": [
      "⚠️ FastF1 failed for 2022 Canadian Grand Prix Q: The data you are trying to access has not been loaded yet. See `Session.load`\n",
      "🔄 Falling back to OpenF1 API...\n",
      "❌ OpenF1 fallback failed for 2022 Canadian Grand Prix Q: OpenF1 returned an empty dataset\n",
      "⚠️ Skipped 2022 Canadian Grand Prix Q: OpenF1 returned an empty dataset\n"
     ]
    },
    {
     "name": "stderr",
     "output_type": "stream",
     "text": [
      "2022 Sessions:  41%|██████████████▋                     | 46/113 [02:20<03:32,  3.18s/session]"
     ]
    },
    {
     "name": "stdout",
     "output_type": "stream",
     "text": [
      "⚠️ FastF1 failed for 2022 Canadian Grand Prix R: The data you are trying to access has not been loaded yet. See `Session.load`\n",
      "🔄 Falling back to OpenF1 API...\n",
      "❌ OpenF1 fallback failed for 2022 Canadian Grand Prix R: OpenF1 returned an empty dataset\n",
      "⚠️ Skipped 2022 Canadian Grand Prix R: OpenF1 returned an empty dataset\n"
     ]
    },
    {
     "name": "stderr",
     "output_type": "stream",
     "text": [
      "2022 Sessions:  42%|██████████████▉                     | 47/113 [02:23<03:26,  3.13s/session]"
     ]
    },
    {
     "name": "stdout",
     "output_type": "stream",
     "text": [
      "⚠️ FastF1 failed for 2022 British Grand Prix FP1: The data you are trying to access has not been loaded yet. See `Session.load`\n",
      "🔄 Falling back to OpenF1 API...\n",
      "❌ OpenF1 fallback failed for 2022 British Grand Prix FP1: OpenF1 returned an empty dataset\n",
      "⚠️ Skipped 2022 British Grand Prix FP1: OpenF1 returned an empty dataset\n"
     ]
    },
    {
     "name": "stderr",
     "output_type": "stream",
     "text": [
      "2022 Sessions:  42%|███████████████▎                    | 48/113 [02:26<03:20,  3.09s/session]"
     ]
    },
    {
     "name": "stdout",
     "output_type": "stream",
     "text": [
      "⚠️ FastF1 failed for 2022 British Grand Prix FP2: The data you are trying to access has not been loaded yet. See `Session.load`\n",
      "🔄 Falling back to OpenF1 API...\n",
      "❌ OpenF1 fallback failed for 2022 British Grand Prix FP2: OpenF1 returned an empty dataset\n",
      "⚠️ Skipped 2022 British Grand Prix FP2: OpenF1 returned an empty dataset\n"
     ]
    },
    {
     "name": "stderr",
     "output_type": "stream",
     "text": [
      "2022 Sessions:  43%|███████████████▌                    | 49/113 [02:29<03:15,  3.06s/session]"
     ]
    },
    {
     "name": "stdout",
     "output_type": "stream",
     "text": [
      "⚠️ FastF1 failed for 2022 British Grand Prix FP3: The data you are trying to access has not been loaded yet. See `Session.load`\n",
      "🔄 Falling back to OpenF1 API...\n",
      "❌ OpenF1 fallback failed for 2022 British Grand Prix FP3: OpenF1 returned an empty dataset\n",
      "⚠️ Skipped 2022 British Grand Prix FP3: OpenF1 returned an empty dataset\n",
      "⚠️ FastF1 failed for 2022 British Grand Prix Q: The data you are trying to access has not been loaded yet. See `Session.load`\n",
      "🔄 Falling back to OpenF1 API...\n"
     ]
    },
    {
     "name": "stderr",
     "output_type": "stream",
     "text": [
      "2022 Sessions:  44%|███████████████▉                    | 50/113 [02:32<03:12,  3.06s/session]"
     ]
    },
    {
     "name": "stdout",
     "output_type": "stream",
     "text": [
      "❌ OpenF1 fallback failed for 2022 British Grand Prix Q: OpenF1 returned an empty dataset\n",
      "⚠️ Skipped 2022 British Grand Prix Q: OpenF1 returned an empty dataset\n",
      "⚠️ FastF1 failed for 2022 British Grand Prix R: The data you are trying to access has not been loaded yet. See `Session.load`\n",
      "🔄 Falling back to OpenF1 API...\n"
     ]
    },
    {
     "name": "stderr",
     "output_type": "stream",
     "text": [
      "2022 Sessions:  45%|████████████████▏                   | 51/113 [02:36<03:18,  3.21s/session]"
     ]
    },
    {
     "name": "stdout",
     "output_type": "stream",
     "text": [
      "❌ OpenF1 fallback failed for 2022 British Grand Prix R: OpenF1 returned an empty dataset\n",
      "⚠️ Skipped 2022 British Grand Prix R: OpenF1 returned an empty dataset\n"
     ]
    },
    {
     "name": "stderr",
     "output_type": "stream",
     "text": [
      "2022 Sessions:  46%|████████████████▌                   | 52/113 [02:39<03:10,  3.13s/session]"
     ]
    },
    {
     "name": "stdout",
     "output_type": "stream",
     "text": [
      "⚠️ FastF1 failed for 2022 Austrian Grand Prix FP1: The data you are trying to access has not been loaded yet. See `Session.load`\n",
      "🔄 Falling back to OpenF1 API...\n",
      "❌ OpenF1 fallback failed for 2022 Austrian Grand Prix FP1: OpenF1 returned an empty dataset\n",
      "⚠️ Skipped 2022 Austrian Grand Prix FP1: OpenF1 returned an empty dataset\n"
     ]
    },
    {
     "name": "stderr",
     "output_type": "stream",
     "text": [
      "2022 Sessions:  47%|████████████████▉                   | 53/113 [02:42<03:09,  3.16s/session]"
     ]
    },
    {
     "name": "stdout",
     "output_type": "stream",
     "text": [
      "⚠️ FastF1 failed for 2022 Austrian Grand Prix S: The data you are trying to access has not been loaded yet. See `Session.load`\n",
      "🔄 Falling back to OpenF1 API...\n",
      "❌ OpenF1 fallback failed for 2022 Austrian Grand Prix S: OpenF1 returned an empty dataset\n",
      "⚠️ Skipped 2022 Austrian Grand Prix S: OpenF1 returned an empty dataset\n"
     ]
    },
    {
     "name": "stderr",
     "output_type": "stream",
     "text": [
      "2022 Sessions:  48%|█████████████████▏                  | 54/113 [02:43<02:24,  2.45s/session]"
     ]
    },
    {
     "name": "stdout",
     "output_type": "stream",
     "text": [
      "⚠️ FastF1 failed for 2022 Austrian Grand Prix SS: Session type 'SS' does not exist for this event\n",
      "🔄 Falling back to OpenF1 API...\n",
      "❌ OpenF1 fallback failed for 2022 Austrian Grand Prix SS: OpenF1 returned an empty dataset\n",
      "⚠️ Skipped 2022 Austrian Grand Prix SS: OpenF1 returned an empty dataset\n"
     ]
    },
    {
     "name": "stderr",
     "output_type": "stream",
     "text": [
      "2022 Sessions:  49%|█████████████████▌                  | 55/113 [02:46<02:35,  2.68s/session]"
     ]
    },
    {
     "name": "stdout",
     "output_type": "stream",
     "text": [
      "⚠️ FastF1 failed for 2022 Austrian Grand Prix SQ: The data you are trying to access has not been loaded yet. See `Session.load`\n",
      "🔄 Falling back to OpenF1 API...\n",
      "❌ OpenF1 fallback failed for 2022 Austrian Grand Prix SQ: OpenF1 returned an empty dataset\n",
      "⚠️ Skipped 2022 Austrian Grand Prix SQ: OpenF1 returned an empty dataset\n"
     ]
    },
    {
     "name": "stderr",
     "output_type": "stream",
     "text": [
      "2022 Sessions:  50%|█████████████████▊                  | 56/113 [02:49<02:38,  2.77s/session]"
     ]
    },
    {
     "name": "stdout",
     "output_type": "stream",
     "text": [
      "⚠️ FastF1 failed for 2022 Austrian Grand Prix Q: The data you are trying to access has not been loaded yet. See `Session.load`\n",
      "🔄 Falling back to OpenF1 API...\n",
      "❌ OpenF1 fallback failed for 2022 Austrian Grand Prix Q: OpenF1 returned an empty dataset\n",
      "⚠️ Skipped 2022 Austrian Grand Prix Q: OpenF1 returned an empty dataset\n"
     ]
    },
    {
     "name": "stderr",
     "output_type": "stream",
     "text": [
      "2022 Sessions:  50%|██████████████████▏                 | 57/113 [02:53<02:47,  2.99s/session]"
     ]
    },
    {
     "name": "stdout",
     "output_type": "stream",
     "text": [
      "⚠️ FastF1 failed for 2022 Austrian Grand Prix R: The data you are trying to access has not been loaded yet. See `Session.load`\n",
      "🔄 Falling back to OpenF1 API...\n",
      "❌ OpenF1 fallback failed for 2022 Austrian Grand Prix R: OpenF1 returned an empty dataset\n",
      "⚠️ Skipped 2022 Austrian Grand Prix R: OpenF1 returned an empty dataset\n"
     ]
    },
    {
     "name": "stderr",
     "output_type": "stream",
     "text": [
      "2022 Sessions:  51%|██████████████████▍                 | 58/113 [02:56<02:44,  2.99s/session]"
     ]
    },
    {
     "name": "stdout",
     "output_type": "stream",
     "text": [
      "⚠️ FastF1 failed for 2022 French Grand Prix FP1: The data you are trying to access has not been loaded yet. See `Session.load`\n",
      "🔄 Falling back to OpenF1 API...\n",
      "❌ OpenF1 fallback failed for 2022 French Grand Prix FP1: OpenF1 returned an empty dataset\n",
      "⚠️ Skipped 2022 French Grand Prix FP1: OpenF1 returned an empty dataset\n",
      "⚠️ FastF1 failed for 2022 French Grand Prix FP2: The data you are trying to access has not been loaded yet. See `Session.load`\n",
      "🔄 Falling back to OpenF1 API...\n"
     ]
    },
    {
     "name": "stderr",
     "output_type": "stream",
     "text": [
      "2022 Sessions:  52%|██████████████████▊                 | 59/113 [02:59<02:42,  3.01s/session]"
     ]
    },
    {
     "name": "stdout",
     "output_type": "stream",
     "text": [
      "❌ OpenF1 fallback failed for 2022 French Grand Prix FP2: OpenF1 returned an empty dataset\n",
      "⚠️ Skipped 2022 French Grand Prix FP2: OpenF1 returned an empty dataset\n"
     ]
    },
    {
     "name": "stderr",
     "output_type": "stream",
     "text": [
      "2022 Sessions:  53%|███████████████████                 | 60/113 [03:02<02:38,  2.99s/session]"
     ]
    },
    {
     "name": "stdout",
     "output_type": "stream",
     "text": [
      "⚠️ FastF1 failed for 2022 French Grand Prix FP3: The data you are trying to access has not been loaded yet. See `Session.load`\n",
      "🔄 Falling back to OpenF1 API...\n",
      "❌ OpenF1 fallback failed for 2022 French Grand Prix FP3: OpenF1 returned an empty dataset\n",
      "⚠️ Skipped 2022 French Grand Prix FP3: OpenF1 returned an empty dataset\n"
     ]
    },
    {
     "name": "stderr",
     "output_type": "stream",
     "text": [
      "2022 Sessions:  54%|███████████████████▍                | 61/113 [03:05<02:35,  3.00s/session]"
     ]
    },
    {
     "name": "stdout",
     "output_type": "stream",
     "text": [
      "⚠️ FastF1 failed for 2022 French Grand Prix Q: The data you are trying to access has not been loaded yet. See `Session.load`\n",
      "🔄 Falling back to OpenF1 API...\n",
      "❌ OpenF1 fallback failed for 2022 French Grand Prix Q: OpenF1 returned an empty dataset\n",
      "⚠️ Skipped 2022 French Grand Prix Q: OpenF1 returned an empty dataset\n"
     ]
    },
    {
     "name": "stderr",
     "output_type": "stream",
     "text": [
      "2022 Sessions:  55%|███████████████████▊                | 62/113 [03:08<02:40,  3.15s/session]"
     ]
    },
    {
     "name": "stdout",
     "output_type": "stream",
     "text": [
      "⚠️ FastF1 failed for 2022 French Grand Prix R: The data you are trying to access has not been loaded yet. See `Session.load`\n",
      "🔄 Falling back to OpenF1 API...\n",
      "❌ OpenF1 fallback failed for 2022 French Grand Prix R: OpenF1 returned an empty dataset\n",
      "⚠️ Skipped 2022 French Grand Prix R: OpenF1 returned an empty dataset\n"
     ]
    },
    {
     "name": "stderr",
     "output_type": "stream",
     "text": [
      "2022 Sessions:  56%|████████████████████                | 63/113 [03:11<02:35,  3.10s/session]"
     ]
    },
    {
     "name": "stdout",
     "output_type": "stream",
     "text": [
      "⚠️ FastF1 failed for 2022 Hungarian Grand Prix FP1: The data you are trying to access has not been loaded yet. See `Session.load`\n",
      "🔄 Falling back to OpenF1 API...\n",
      "❌ OpenF1 fallback failed for 2022 Hungarian Grand Prix FP1: OpenF1 returned an empty dataset\n",
      "⚠️ Skipped 2022 Hungarian Grand Prix FP1: OpenF1 returned an empty dataset\n"
     ]
    },
    {
     "name": "stderr",
     "output_type": "stream",
     "text": [
      "2022 Sessions:  57%|████████████████████▍               | 64/113 [03:14<02:30,  3.07s/session]"
     ]
    },
    {
     "name": "stdout",
     "output_type": "stream",
     "text": [
      "⚠️ FastF1 failed for 2022 Hungarian Grand Prix FP2: The data you are trying to access has not been loaded yet. See `Session.load`\n",
      "🔄 Falling back to OpenF1 API...\n",
      "❌ OpenF1 fallback failed for 2022 Hungarian Grand Prix FP2: OpenF1 returned an empty dataset\n",
      "⚠️ Skipped 2022 Hungarian Grand Prix FP2: OpenF1 returned an empty dataset\n"
     ]
    },
    {
     "name": "stderr",
     "output_type": "stream",
     "text": [
      "2022 Sessions:  58%|████████████████████▋               | 65/113 [03:17<02:26,  3.05s/session]"
     ]
    },
    {
     "name": "stdout",
     "output_type": "stream",
     "text": [
      "⚠️ FastF1 failed for 2022 Hungarian Grand Prix FP3: The data you are trying to access has not been loaded yet. See `Session.load`\n",
      "🔄 Falling back to OpenF1 API...\n",
      "❌ OpenF1 fallback failed for 2022 Hungarian Grand Prix FP3: OpenF1 returned an empty dataset\n",
      "⚠️ Skipped 2022 Hungarian Grand Prix FP3: OpenF1 returned an empty dataset\n"
     ]
    },
    {
     "name": "stderr",
     "output_type": "stream",
     "text": [
      "2022 Sessions:  58%|█████████████████████               | 66/113 [03:20<02:22,  3.03s/session]"
     ]
    },
    {
     "name": "stdout",
     "output_type": "stream",
     "text": [
      "⚠️ FastF1 failed for 2022 Hungarian Grand Prix Q: The data you are trying to access has not been loaded yet. See `Session.load`\n",
      "🔄 Falling back to OpenF1 API...\n",
      "❌ OpenF1 fallback failed for 2022 Hungarian Grand Prix Q: OpenF1 returned an empty dataset\n",
      "⚠️ Skipped 2022 Hungarian Grand Prix Q: OpenF1 returned an empty dataset\n",
      "⚠️ FastF1 failed for 2022 Hungarian Grand Prix R: The data you are trying to access has not been loaded yet. See `Session.load`\n",
      "🔄 Falling back to OpenF1 API...\n"
     ]
    },
    {
     "name": "stderr",
     "output_type": "stream",
     "text": [
      "2022 Sessions:  59%|█████████████████████▎              | 67/113 [03:24<02:26,  3.19s/session]"
     ]
    },
    {
     "name": "stdout",
     "output_type": "stream",
     "text": [
      "❌ OpenF1 fallback failed for 2022 Hungarian Grand Prix R: OpenF1 returned an empty dataset\n",
      "⚠️ Skipped 2022 Hungarian Grand Prix R: OpenF1 returned an empty dataset\n"
     ]
    },
    {
     "name": "stderr",
     "output_type": "stream",
     "text": [
      "2022 Sessions:  60%|█████████████████████▋              | 68/113 [03:27<02:20,  3.12s/session]"
     ]
    },
    {
     "name": "stdout",
     "output_type": "stream",
     "text": [
      "⚠️ FastF1 failed for 2022 Belgian Grand Prix FP1: The data you are trying to access has not been loaded yet. See `Session.load`\n",
      "🔄 Falling back to OpenF1 API...\n",
      "❌ OpenF1 fallback failed for 2022 Belgian Grand Prix FP1: OpenF1 returned an empty dataset\n",
      "⚠️ Skipped 2022 Belgian Grand Prix FP1: OpenF1 returned an empty dataset\n"
     ]
    },
    {
     "name": "stderr",
     "output_type": "stream",
     "text": [
      "2022 Sessions:  61%|█████████████████████▉              | 69/113 [03:30<02:15,  3.08s/session]"
     ]
    },
    {
     "name": "stdout",
     "output_type": "stream",
     "text": [
      "⚠️ FastF1 failed for 2022 Belgian Grand Prix FP2: The data you are trying to access has not been loaded yet. See `Session.load`\n",
      "🔄 Falling back to OpenF1 API...\n",
      "❌ OpenF1 fallback failed for 2022 Belgian Grand Prix FP2: OpenF1 returned an empty dataset\n",
      "⚠️ Skipped 2022 Belgian Grand Prix FP2: OpenF1 returned an empty dataset\n"
     ]
    },
    {
     "name": "stderr",
     "output_type": "stream",
     "text": [
      "2022 Sessions:  62%|██████████████████████▎             | 70/113 [03:33<02:11,  3.06s/session]"
     ]
    },
    {
     "name": "stdout",
     "output_type": "stream",
     "text": [
      "⚠️ FastF1 failed for 2022 Belgian Grand Prix FP3: The data you are trying to access has not been loaded yet. See `Session.load`\n",
      "🔄 Falling back to OpenF1 API...\n",
      "❌ OpenF1 fallback failed for 2022 Belgian Grand Prix FP3: OpenF1 returned an empty dataset\n",
      "⚠️ Skipped 2022 Belgian Grand Prix FP3: OpenF1 returned an empty dataset\n"
     ]
    },
    {
     "name": "stderr",
     "output_type": "stream",
     "text": [
      "2022 Sessions:  63%|██████████████████████▌             | 71/113 [03:36<02:07,  3.04s/session]"
     ]
    },
    {
     "name": "stdout",
     "output_type": "stream",
     "text": [
      "⚠️ FastF1 failed for 2022 Belgian Grand Prix Q: The data you are trying to access has not been loaded yet. See `Session.load`\n",
      "🔄 Falling back to OpenF1 API...\n",
      "❌ OpenF1 fallback failed for 2022 Belgian Grand Prix Q: OpenF1 returned an empty dataset\n",
      "⚠️ Skipped 2022 Belgian Grand Prix Q: OpenF1 returned an empty dataset\n"
     ]
    },
    {
     "name": "stderr",
     "output_type": "stream",
     "text": [
      "2022 Sessions:  63%|██████████████████████▌             | 71/113 [03:37<02:08,  3.06s/session]\n"
     ]
    },
    {
     "ename": "KeyboardInterrupt",
     "evalue": "",
     "output_type": "error",
     "traceback": [
      "\u001b[31m---------------------------------------------------------------------------\u001b[39m",
      "\u001b[31mKeyboardInterrupt\u001b[39m                         Traceback (most recent call last)",
      "\u001b[36mCell\u001b[39m\u001b[36m \u001b[39m\u001b[32mIn[2]\u001b[39m\u001b[32m, line 1\u001b[39m\n\u001b[32m----> \u001b[39m\u001b[32m1\u001b[39m df_profiles, df_skipped = \u001b[43mload_or_build_profiles\u001b[49m\u001b[43m(\u001b[49m\n\u001b[32m      2\u001b[39m \u001b[43m    \u001b[49m\u001b[43mcache_path\u001b[49m\u001b[43m=\u001b[49m\u001b[33;43m\"\u001b[39;49m\u001b[33;43mdata/circuit_profiles.csv\u001b[39;49m\u001b[33;43m\"\u001b[39;49m\u001b[43m,\u001b[49m\n\u001b[32m      3\u001b[39m \u001b[43m    \u001b[49m\u001b[43mstart_year\u001b[49m\u001b[43m=\u001b[49m\u001b[32;43m2020\u001b[39;49m\u001b[43m,\u001b[49m\n\u001b[32m      4\u001b[39m \u001b[43m    \u001b[49m\u001b[43mend_year\u001b[49m\u001b[43m=\u001b[49m\u001b[32;43m2025\u001b[39;49m\n\u001b[32m      5\u001b[39m \u001b[43m)\u001b[49m\n",
      "\u001b[36mFile \u001b[39m\u001b[32m~/repos/private/f1project/formula1/helpers/general.py:40\u001b[39m, in \u001b[36mload_or_build_profiles\u001b[39m\u001b[34m(cache_path, start_year, end_year)\u001b[39m\n\u001b[32m     38\u001b[39m \u001b[38;5;28mprint\u001b[39m(\u001b[33m\"\u001b[39m\u001b[33m🔁 Rebuilding circuit profiles...\u001b[39m\u001b[33m\"\u001b[39m)\n\u001b[32m     39\u001b[39m \u001b[38;5;28;01mfrom\u001b[39;00m\u001b[38;5;250m \u001b[39m\u001b[34;01mhelpers\u001b[39;00m\u001b[38;5;250m \u001b[39m\u001b[38;5;28;01mimport\u001b[39;00m build_circuit_profile_df\n\u001b[32m---> \u001b[39m\u001b[32m40\u001b[39m df, skipped = \u001b[43mbuild_circuit_profile_df\u001b[49m\u001b[43m(\u001b[49m\u001b[43mstart_year\u001b[49m\u001b[43m,\u001b[49m\u001b[43m \u001b[49m\u001b[43mend_year\u001b[49m\u001b[43m)\u001b[49m\n\u001b[32m     41\u001b[39m df.to_csv(cache_path, index=\u001b[38;5;28;01mFalse\u001b[39;00m)\n\u001b[32m     42\u001b[39m \u001b[38;5;28;01mreturn\u001b[39;00m df, skipped\n",
      "\u001b[36mFile \u001b[39m\u001b[32m~/repos/private/f1project/formula1/helpers/circuit_utils.py:414\u001b[39m, in \u001b[36mbuild_circuit_profile_df\u001b[39m\u001b[34m(start_year, end_year)\u001b[39m\n\u001b[32m    412\u001b[39m \u001b[38;5;28;01mfor\u001b[39;00m year \u001b[38;5;129;01min\u001b[39;00m \u001b[38;5;28mrange\u001b[39m(start_year, end_year + \u001b[32m1\u001b[39m):\n\u001b[32m    413\u001b[39m     \u001b[38;5;28mprint\u001b[39m(\u001b[33mf\u001b[39m\u001b[33m\"\u001b[39m\u001b[38;5;130;01m\\n\u001b[39;00m\u001b[33m📅 Processing \u001b[39m\u001b[38;5;132;01m{\u001b[39;00myear\u001b[38;5;132;01m}\u001b[39;00m\u001b[33m...\u001b[39m\u001b[33m\"\u001b[39m)\n\u001b[32m--> \u001b[39m\u001b[32m414\u001b[39m     df_year, df_skip = \u001b[43mbuild_profiles_for_season\u001b[49m\u001b[43m(\u001b[49m\u001b[43myear\u001b[49m\u001b[43m,\u001b[49m\u001b[43m \u001b[49m\u001b[43mcircuit_metadata\u001b[49m\u001b[43m)\u001b[49m\n\u001b[32m    415\u001b[39m     all_profiles.append(df_year)\n\u001b[32m    416\u001b[39m     all_skipped.append(df_skip)\n",
      "\u001b[36mFile \u001b[39m\u001b[32m~/repos/private/f1project/formula1/helpers/circuit_utils.py:344\u001b[39m, in \u001b[36mbuild_profiles_for_season\u001b[39m\u001b[34m(year, circuit_metadata)\u001b[39m\n\u001b[32m    342\u001b[39m \u001b[38;5;28;01mfor\u001b[39;00m event_name, location, session_name \u001b[38;5;129;01min\u001b[39;00m tqdm(all_sessions, desc=\u001b[33mf\u001b[39m\u001b[33m\"\u001b[39m\u001b[38;5;132;01m{\u001b[39;00myear\u001b[38;5;132;01m}\u001b[39;00m\u001b[33m Sessions\u001b[39m\u001b[33m\"\u001b[39m, unit=\u001b[33m\"\u001b[39m\u001b[33msession\u001b[39m\u001b[33m\"\u001b[39m):\n\u001b[32m    343\u001b[39m     \u001b[38;5;28;01mtry\u001b[39;00m:\n\u001b[32m--> \u001b[39m\u001b[32m344\u001b[39m         session_data = \u001b[43mload_session\u001b[49m\u001b[43m(\u001b[49m\u001b[43myear\u001b[49m\u001b[43m,\u001b[49m\u001b[43m \u001b[49m\u001b[43mevent_name\u001b[49m\u001b[43m,\u001b[49m\u001b[43m \u001b[49m\u001b[43msession_name\u001b[49m\u001b[43m)\u001b[49m\n\u001b[32m    346\u001b[39m         \u001b[38;5;28;01mif\u001b[39;00m session_data[\u001b[33m'\u001b[39m\u001b[33mstatus\u001b[39m\u001b[33m'\u001b[39m] == \u001b[33m'\u001b[39m\u001b[33merror\u001b[39m\u001b[33m'\u001b[39m:\n\u001b[32m    347\u001b[39m             \u001b[38;5;28;01mraise\u001b[39;00m \u001b[38;5;167;01mValueError\u001b[39;00m(session_data[\u001b[33m'\u001b[39m\u001b[33mreason\u001b[39m\u001b[33m'\u001b[39m])\n",
      "\u001b[36mFile \u001b[39m\u001b[32m~/repos/private/f1project/formula1/helpers/circuit_utils.py:38\u001b[39m, in \u001b[36mload_session\u001b[39m\u001b[34m(year, event_name, session_name)\u001b[39m\n\u001b[32m     36\u001b[39m \u001b[38;5;28;01mtry\u001b[39;00m:\n\u001b[32m     37\u001b[39m     session = ff1.get_session(year, event_name, session_name)\n\u001b[32m---> \u001b[39m\u001b[32m38\u001b[39m     \u001b[43msession\u001b[49m\u001b[43m.\u001b[49m\u001b[43mload\u001b[49m\u001b[43m(\u001b[49m\u001b[43mtelemetry\u001b[49m\u001b[43m=\u001b[49m\u001b[38;5;28;43;01mTrue\u001b[39;49;00m\u001b[43m,\u001b[49m\u001b[43m \u001b[49m\u001b[43mlaps\u001b[49m\u001b[43m=\u001b[49m\u001b[38;5;28;43;01mTrue\u001b[39;49;00m\u001b[43m)\u001b[49m\n\u001b[32m     39\u001b[39m     \u001b[38;5;28;01mif\u001b[39;00m session.laps.empty:\n\u001b[32m     40\u001b[39m         \u001b[38;5;28;01mraise\u001b[39;00m \u001b[38;5;167;01mValueError\u001b[39;00m(\u001b[33m\"\u001b[39m\u001b[33mFastF1 session loaded but contains no lap data\u001b[39m\u001b[33m\"\u001b[39m)\n",
      "\u001b[36mFile \u001b[39m\u001b[32m~/repos/private/f1project/formula1/f1env/lib/python3.11/site-packages/fastf1/core.py:1432\u001b[39m, in \u001b[36mSession.load\u001b[39m\u001b[34m(self, laps, telemetry, weather, messages, livedata)\u001b[39m\n\u001b[32m   1427\u001b[39m _logger.info(\u001b[33mf\u001b[39m\u001b[33m\"\u001b[39m\u001b[33mLoading data for \u001b[39m\u001b[33m\"\u001b[39m\n\u001b[32m   1428\u001b[39m              \u001b[33mf\u001b[39m\u001b[33m\"\u001b[39m\u001b[38;5;132;01m{\u001b[39;00m\u001b[38;5;28mself\u001b[39m.event[\u001b[33m'\u001b[39m\u001b[33mEventName\u001b[39m\u001b[33m'\u001b[39m]\u001b[38;5;132;01m}\u001b[39;00m\u001b[33m - \u001b[39m\u001b[38;5;132;01m{\u001b[39;00m\u001b[38;5;28mself\u001b[39m.name\u001b[38;5;132;01m}\u001b[39;00m\u001b[33m\"\u001b[39m\n\u001b[32m   1429\u001b[39m              \u001b[33mf\u001b[39m\u001b[33m\"\u001b[39m\u001b[33m [v\u001b[39m\u001b[38;5;132;01m{\u001b[39;00mfastf1.__version__\u001b[38;5;132;01m}\u001b[39;00m\u001b[33m]\u001b[39m\u001b[33m\"\u001b[39m)\n\u001b[32m   1431\u001b[39m \u001b[38;5;28mself\u001b[39m._load_session_info(livedata=livedata)\n\u001b[32m-> \u001b[39m\u001b[32m1432\u001b[39m \u001b[38;5;28;43mself\u001b[39;49m\u001b[43m.\u001b[49m\u001b[43m_load_drivers_results\u001b[49m\u001b[43m(\u001b[49m\u001b[43mlivedata\u001b[49m\u001b[43m=\u001b[49m\u001b[43mlivedata\u001b[49m\u001b[43m)\u001b[49m\n\u001b[32m   1434\u001b[39m \u001b[38;5;28;01mif\u001b[39;00m \u001b[38;5;28mself\u001b[39m.f1_api_support:\n\u001b[32m   1435\u001b[39m     \u001b[38;5;28;01mif\u001b[39;00m laps:\n",
      "\u001b[36mFile \u001b[39m\u001b[32m~/repos/private/f1project/formula1/f1env/lib/python3.11/site-packages/fastf1/logger.py:151\u001b[39m, in \u001b[36msoft_exceptions.<locals>.__decorator.<locals>.__wrapped\u001b[39m\u001b[34m(*args, **kwargs)\u001b[39m\n\u001b[32m    149\u001b[39m \u001b[38;5;28;01mif\u001b[39;00m \u001b[38;5;129;01mnot\u001b[39;00m LoggingManager.debug:\n\u001b[32m    150\u001b[39m     \u001b[38;5;28;01mtry\u001b[39;00m:\n\u001b[32m--> \u001b[39m\u001b[32m151\u001b[39m         \u001b[38;5;28;01mreturn\u001b[39;00m \u001b[43mfunc\u001b[49m\u001b[43m(\u001b[49m\u001b[43m*\u001b[49m\u001b[43margs\u001b[49m\u001b[43m,\u001b[49m\u001b[43m \u001b[49m\u001b[43m*\u001b[49m\u001b[43m*\u001b[49m\u001b[43mkwargs\u001b[49m\u001b[43m)\u001b[49m\n\u001b[32m    152\u001b[39m     \u001b[38;5;28;01mexcept\u001b[39;00m \u001b[38;5;167;01mException\u001b[39;00m \u001b[38;5;28;01mas\u001b[39;00m exc:\n\u001b[32m    153\u001b[39m         logger.warning(msg)\n",
      "\u001b[36mFile \u001b[39m\u001b[32m~/repos/private/f1project/formula1/f1env/lib/python3.11/site-packages/fastf1/core.py:2216\u001b[39m, in \u001b[36mSession._load_drivers_results\u001b[39m\u001b[34m(self, livedata)\u001b[39m\n\u001b[32m   2212\u001b[39m \u001b[38;5;66;03m# try loading from both sources if they are supported\u001b[39;00m\n\u001b[32m   2213\u001b[39m \u001b[38;5;66;03m# data is joined afterwards depending on availability\u001b[39;00m\n\u001b[32m   2214\u001b[39m \u001b[38;5;28;01mif\u001b[39;00m \u001b[38;5;28mself\u001b[39m.f1_api_support:\n\u001b[32m   2215\u001b[39m     \u001b[38;5;66;03m# load driver info from f1 api\u001b[39;00m\n\u001b[32m-> \u001b[39m\u001b[32m2216\u001b[39m     driver_info_f1 = \u001b[38;5;28;43mself\u001b[39;49m\u001b[43m.\u001b[49m\u001b[43m_drivers_from_f1_api\u001b[49m\u001b[43m(\u001b[49m\u001b[43mlivedata\u001b[49m\u001b[43m=\u001b[49m\u001b[43mlivedata\u001b[49m\u001b[43m)\u001b[49m\n\u001b[32m   2217\u001b[39m \u001b[38;5;28;01mif\u001b[39;00m \u001b[38;5;129;01mnot\u001b[39;00m \u001b[38;5;28mself\u001b[39m.event.is_testing():\n\u001b[32m   2218\u001b[39m     \u001b[38;5;66;03m# load driver info from ergast\u001b[39;00m\n\u001b[32m   2219\u001b[39m     driver_info_ergast = \u001b[38;5;28mself\u001b[39m._drivers_results_from_ergast(\n\u001b[32m   2220\u001b[39m         load_drivers=\u001b[38;5;28;01mTrue\u001b[39;00m, load_results=\u001b[38;5;28;01mTrue\u001b[39;00m\n\u001b[32m   2221\u001b[39m     )\n",
      "\u001b[36mFile \u001b[39m\u001b[32m~/repos/private/f1project/formula1/f1env/lib/python3.11/site-packages/fastf1/core.py:2291\u001b[39m, in \u001b[36mSession._drivers_from_f1_api\u001b[39m\u001b[34m(self, livedata)\u001b[39m\n\u001b[32m   2289\u001b[39m \u001b[38;5;28;01mdef\u001b[39;00m\u001b[38;5;250m \u001b[39m\u001b[34m_drivers_from_f1_api\u001b[39m(\u001b[38;5;28mself\u001b[39m, *, livedata=\u001b[38;5;28;01mNone\u001b[39;00m):\n\u001b[32m   2290\u001b[39m     \u001b[38;5;28;01mtry\u001b[39;00m:\n\u001b[32m-> \u001b[39m\u001b[32m2291\u001b[39m         f1di = \u001b[43mapi\u001b[49m\u001b[43m.\u001b[49m\u001b[43mdriver_info\u001b[49m\u001b[43m(\u001b[49m\u001b[38;5;28;43mself\u001b[39;49m\u001b[43m.\u001b[49m\u001b[43mapi_path\u001b[49m\u001b[43m,\u001b[49m\u001b[43m \u001b[49m\u001b[43mlivedata\u001b[49m\u001b[43m=\u001b[49m\u001b[43mlivedata\u001b[49m\u001b[43m)\u001b[49m\n\u001b[32m   2292\u001b[39m     \u001b[38;5;28;01mexcept\u001b[39;00m \u001b[38;5;167;01mException\u001b[39;00m \u001b[38;5;28;01mas\u001b[39;00m exc:\n\u001b[32m   2293\u001b[39m         _logger.warning(\u001b[33m\"\u001b[39m\u001b[33mFailed to load extended driver information!\u001b[39m\u001b[33m\"\u001b[39m)\n",
      "\u001b[36mFile \u001b[39m\u001b[32m~/repos/private/f1project/formula1/f1env/lib/python3.11/site-packages/fastf1/req.py:479\u001b[39m, in \u001b[36mCache.api_request_wrapper.<locals>._cached_api_request\u001b[39m\u001b[34m(api_path, **func_kwargs)\u001b[39m\n\u001b[32m    476\u001b[39m \u001b[38;5;28;01melse\u001b[39;00m:  \u001b[38;5;66;03m# cached data does not yet exist for this api request\u001b[39;00m\n\u001b[32m    477\u001b[39m     _logger.info(\u001b[33mf\u001b[39m\u001b[33m\"\u001b[39m\u001b[33mNo cached data found for \u001b[39m\u001b[38;5;132;01m{\u001b[39;00mfunc_name\u001b[38;5;132;01m}\u001b[39;00m\u001b[33m. \u001b[39m\u001b[33m\"\u001b[39m\n\u001b[32m    478\u001b[39m                  \u001b[33mf\u001b[39m\u001b[33m\"\u001b[39m\u001b[33mLoading data...\u001b[39m\u001b[33m\"\u001b[39m)\n\u001b[32m--> \u001b[39m\u001b[32m479\u001b[39m     data = \u001b[43mfunc\u001b[49m\u001b[43m(\u001b[49m\u001b[43mapi_path\u001b[49m\u001b[43m,\u001b[49m\u001b[43m \u001b[49m\u001b[43m*\u001b[49m\u001b[43m*\u001b[49m\u001b[43mfunc_kwargs\u001b[49m\u001b[43m)\u001b[49m\n\u001b[32m    480\u001b[39m     \u001b[38;5;28;01mif\u001b[39;00m data \u001b[38;5;129;01mis\u001b[39;00m \u001b[38;5;129;01mnot\u001b[39;00m \u001b[38;5;28;01mNone\u001b[39;00m:\n\u001b[32m    481\u001b[39m         \u001b[38;5;28mcls\u001b[39m._write_cache(data, cache_file_path)\n",
      "\u001b[36mFile \u001b[39m\u001b[32m~/repos/private/f1project/formula1/f1env/lib/python3.11/site-packages/fastf1/_api.py:1533\u001b[39m, in \u001b[36mdriver_info\u001b[39m\u001b[34m(path, response, livedata)\u001b[39m\n\u001b[32m   1531\u001b[39m \u001b[38;5;28;01melif\u001b[39;00m response \u001b[38;5;129;01mis\u001b[39;00m \u001b[38;5;28;01mNone\u001b[39;00m:\n\u001b[32m   1532\u001b[39m     _logger.info(\u001b[33m\"\u001b[39m\u001b[33mFetching driver list...\u001b[39m\u001b[33m\"\u001b[39m)\n\u001b[32m-> \u001b[39m\u001b[32m1533\u001b[39m     response = \u001b[43mfetch_page\u001b[49m\u001b[43m(\u001b[49m\u001b[43mpath\u001b[49m\u001b[43m,\u001b[49m\u001b[43m \u001b[49m\u001b[33;43m'\u001b[39;49m\u001b[33;43mdriver_list\u001b[39;49m\u001b[33;43m'\u001b[39;49m\u001b[43m)\u001b[49m\n\u001b[32m   1534\u001b[39m     \u001b[38;5;28;01mif\u001b[39;00m response \u001b[38;5;129;01mis\u001b[39;00m \u001b[38;5;28;01mNone\u001b[39;00m:  \u001b[38;5;66;03m# no response received\u001b[39;00m\n\u001b[32m   1535\u001b[39m         \u001b[38;5;28;01mraise\u001b[39;00m SessionNotAvailableError(\n\u001b[32m   1536\u001b[39m             \u001b[33m\"\u001b[39m\u001b[33mNo data for this session! If this session only finished \u001b[39m\u001b[33m\"\u001b[39m\n\u001b[32m   1537\u001b[39m             \u001b[33m\"\u001b[39m\u001b[33mrecently, please try again in a few minutes.\u001b[39m\u001b[33m\"\u001b[39m\n\u001b[32m   1538\u001b[39m         )\n",
      "\u001b[36mFile \u001b[39m\u001b[32m~/repos/private/f1project/formula1/f1env/lib/python3.11/site-packages/fastf1/_api.py:1725\u001b[39m, in \u001b[36mfetch_page\u001b[39m\u001b[34m(path, name)\u001b[39m\n\u001b[32m   1722\u001b[39m is_stream = \u001b[33m'\u001b[39m\u001b[33mjsonStream\u001b[39m\u001b[33m'\u001b[39m \u001b[38;5;129;01min\u001b[39;00m page\n\u001b[32m   1723\u001b[39m is_z = \u001b[33m'\u001b[39m\u001b[33m.z.\u001b[39m\u001b[33m'\u001b[39m \u001b[38;5;129;01min\u001b[39;00m page\n\u001b[32m-> \u001b[39m\u001b[32m1725\u001b[39m r = \u001b[43mCache\u001b[49m\u001b[43m.\u001b[49m\u001b[43mrequests_get\u001b[49m\u001b[43m(\u001b[49m\u001b[43mbase_url\u001b[49m\u001b[43m \u001b[49m\u001b[43m+\u001b[49m\u001b[43m \u001b[49m\u001b[43mpath\u001b[49m\u001b[43m \u001b[49m\u001b[43m+\u001b[49m\u001b[43m \u001b[49m\u001b[43mpages\u001b[49m\u001b[43m[\u001b[49m\u001b[43mname\u001b[49m\u001b[43m]\u001b[49m\u001b[43m,\u001b[49m\u001b[43m \u001b[49m\u001b[43mheaders\u001b[49m\u001b[43m=\u001b[49m\u001b[43mheaders\u001b[49m\u001b[43m)\u001b[49m\n\u001b[32m   1727\u001b[39m \u001b[38;5;28;01mif\u001b[39;00m r.status_code >= \u001b[32m400\u001b[39m:\n\u001b[32m   1728\u001b[39m     _logger.debug(\u001b[33mf\u001b[39m\u001b[33m\"\u001b[39m\u001b[33mFalling back to livetiming mirror (\u001b[39m\u001b[38;5;132;01m{\u001b[39;00mbase_url_mirror\u001b[38;5;132;01m}\u001b[39;00m\u001b[33m)\u001b[39m\u001b[33m\"\u001b[39m)\n",
      "\u001b[36mFile \u001b[39m\u001b[32m~/repos/private/f1project/formula1/f1env/lib/python3.11/site-packages/fastf1/req.py:303\u001b[39m, in \u001b[36mCache.requests_get\u001b[39m\u001b[34m(cls, url, **kwargs)\u001b[39m\n\u001b[32m    300\u001b[39m         \u001b[38;5;28;01mreturn\u001b[39;00m resp\n\u001b[32m    302\u001b[39m \u001b[38;5;28mcls\u001b[39m._request_counter += \u001b[32m1\u001b[39m\n\u001b[32m--> \u001b[39m\u001b[32m303\u001b[39m \u001b[38;5;28;01mreturn\u001b[39;00m \u001b[38;5;28;43mcls\u001b[39;49m\u001b[43m.\u001b[49m\u001b[43m_cached_request\u001b[49m\u001b[43m(\u001b[49m\u001b[33;43m'\u001b[39;49m\u001b[33;43mGET\u001b[39;49m\u001b[33;43m'\u001b[39;49m\u001b[43m,\u001b[49m\u001b[43m \u001b[49m\u001b[43murl\u001b[49m\u001b[43m,\u001b[49m\u001b[43m \u001b[49m\u001b[43m*\u001b[49m\u001b[43m*\u001b[49m\u001b[43mkwargs\u001b[49m\u001b[43m)\u001b[49m\n",
      "\u001b[36mFile \u001b[39m\u001b[32m~/repos/private/f1project/formula1/f1env/lib/python3.11/site-packages/fastf1/req.py:347\u001b[39m, in \u001b[36mCache._cached_request\u001b[39m\u001b[34m(cls, method, url, **kwargs)\u001b[39m\n\u001b[32m    343\u001b[39m \u001b[38;5;66;03m# catch TypeError raised by outdated requests-cache version if the\u001b[39;00m\n\u001b[32m    344\u001b[39m \u001b[38;5;66;03m# cache was created with a newer version\u001b[39;00m\n\u001b[32m    345\u001b[39m \u001b[38;5;66;03m# github.com/requests-cache/requests-cache/issues/973\u001b[39;00m\n\u001b[32m    346\u001b[39m \u001b[38;5;28;01mtry\u001b[39;00m:\n\u001b[32m--> \u001b[39m\u001b[32m347\u001b[39m     response = \u001b[43mfunc\u001b[49m\u001b[43m(\u001b[49m\u001b[43murl\u001b[49m\u001b[43m,\u001b[49m\u001b[43m \u001b[49m\u001b[43m*\u001b[49m\u001b[43m*\u001b[49m\u001b[43mkwargs\u001b[49m\u001b[43m)\u001b[49m\n\u001b[32m    348\u001b[39m \u001b[38;5;28;01mexcept\u001b[39;00m \u001b[38;5;167;01mTypeError\u001b[39;00m:\n\u001b[32m    349\u001b[39m     warnings.warn(\u001b[33m\"\u001b[39m\u001b[33mYou are using an outdated version of \u001b[39m\u001b[33m\"\u001b[39m\n\u001b[32m    350\u001b[39m                   \u001b[33m\"\u001b[39m\u001b[33mrequests-cache. Consider upgrading.\u001b[39m\u001b[33m\"\u001b[39m, \u001b[38;5;167;01mUserWarning\u001b[39;00m)\n",
      "\u001b[36mFile \u001b[39m\u001b[32m~/repos/private/f1project/formula1/f1env/lib/python3.11/site-packages/requests_cache/session.py:127\u001b[39m, in \u001b[36mCacheMixin.get\u001b[39m\u001b[34m(self, url, params, **kwargs)\u001b[39m\n\u001b[32m    125\u001b[39m \u001b[38;5;28;01mdef\u001b[39;00m\u001b[38;5;250m \u001b[39m\u001b[34mget\u001b[39m(\u001b[38;5;28mself\u001b[39m, url: \u001b[38;5;28mstr\u001b[39m, params=\u001b[38;5;28;01mNone\u001b[39;00m, **kwargs) -> AnyResponse:  \u001b[38;5;66;03m# type: ignore\u001b[39;00m\n\u001b[32m    126\u001b[39m     kwargs.setdefault(\u001b[33m'\u001b[39m\u001b[33mallow_redirects\u001b[39m\u001b[33m'\u001b[39m, \u001b[38;5;28;01mTrue\u001b[39;00m)\n\u001b[32m--> \u001b[39m\u001b[32m127\u001b[39m     \u001b[38;5;28;01mreturn\u001b[39;00m \u001b[38;5;28;43mself\u001b[39;49m\u001b[43m.\u001b[49m\u001b[43mrequest\u001b[49m\u001b[43m(\u001b[49m\u001b[33;43m'\u001b[39;49m\u001b[33;43mGET\u001b[39;49m\u001b[33;43m'\u001b[39;49m\u001b[43m,\u001b[49m\u001b[43m \u001b[49m\u001b[43murl\u001b[49m\u001b[43m,\u001b[49m\u001b[43m \u001b[49m\u001b[43mparams\u001b[49m\u001b[43m=\u001b[49m\u001b[43mparams\u001b[49m\u001b[43m,\u001b[49m\u001b[43m \u001b[49m\u001b[43m*\u001b[49m\u001b[43m*\u001b[49m\u001b[43mkwargs\u001b[49m\u001b[43m)\u001b[49m\n",
      "\u001b[36mFile \u001b[39m\u001b[32m~/repos/private/f1project/formula1/f1env/lib/python3.11/site-packages/requests_cache/session.py:183\u001b[39m, in \u001b[36mCacheMixin.request\u001b[39m\u001b[34m(self, method, url, headers, expire_after, only_if_cached, refresh, force_refresh, *args, **kwargs)\u001b[39m\n\u001b[32m    181\u001b[39m headers = set_request_headers(headers, expire_after, only_if_cached, refresh, force_refresh)\n\u001b[32m    182\u001b[39m \u001b[38;5;28;01mwith\u001b[39;00m patch_form_boundary() \u001b[38;5;28;01mif\u001b[39;00m kwargs.get(\u001b[33m'\u001b[39m\u001b[33mfiles\u001b[39m\u001b[33m'\u001b[39m) \u001b[38;5;28;01melse\u001b[39;00m nullcontext():\n\u001b[32m--> \u001b[39m\u001b[32m183\u001b[39m     \u001b[38;5;28;01mreturn\u001b[39;00m \u001b[38;5;28;43msuper\u001b[39;49m\u001b[43m(\u001b[49m\u001b[43m)\u001b[49m\u001b[43m.\u001b[49m\u001b[43mrequest\u001b[49m\u001b[43m(\u001b[49m\u001b[43mmethod\u001b[49m\u001b[43m,\u001b[49m\u001b[43m \u001b[49m\u001b[43murl\u001b[49m\u001b[43m,\u001b[49m\u001b[43m \u001b[49m\u001b[43m*\u001b[49m\u001b[43margs\u001b[49m\u001b[43m,\u001b[49m\u001b[43m \u001b[49m\u001b[43mheaders\u001b[49m\u001b[43m=\u001b[49m\u001b[43mheaders\u001b[49m\u001b[43m,\u001b[49m\u001b[43m \u001b[49m\u001b[43m*\u001b[49m\u001b[43m*\u001b[49m\u001b[43mkwargs\u001b[49m\u001b[43m)\u001b[49m\n",
      "\u001b[36mFile \u001b[39m\u001b[32m~/repos/private/f1project/formula1/f1env/lib/python3.11/site-packages/requests/sessions.py:589\u001b[39m, in \u001b[36mSession.request\u001b[39m\u001b[34m(self, method, url, params, data, headers, cookies, files, auth, timeout, allow_redirects, proxies, hooks, stream, verify, cert, json)\u001b[39m\n\u001b[32m    584\u001b[39m send_kwargs = {\n\u001b[32m    585\u001b[39m     \u001b[33m\"\u001b[39m\u001b[33mtimeout\u001b[39m\u001b[33m\"\u001b[39m: timeout,\n\u001b[32m    586\u001b[39m     \u001b[33m\"\u001b[39m\u001b[33mallow_redirects\u001b[39m\u001b[33m\"\u001b[39m: allow_redirects,\n\u001b[32m    587\u001b[39m }\n\u001b[32m    588\u001b[39m send_kwargs.update(settings)\n\u001b[32m--> \u001b[39m\u001b[32m589\u001b[39m resp = \u001b[38;5;28;43mself\u001b[39;49m\u001b[43m.\u001b[49m\u001b[43msend\u001b[49m\u001b[43m(\u001b[49m\u001b[43mprep\u001b[49m\u001b[43m,\u001b[49m\u001b[43m \u001b[49m\u001b[43m*\u001b[49m\u001b[43m*\u001b[49m\u001b[43msend_kwargs\u001b[49m\u001b[43m)\u001b[49m\n\u001b[32m    591\u001b[39m \u001b[38;5;28;01mreturn\u001b[39;00m resp\n",
      "\u001b[36mFile \u001b[39m\u001b[32m~/repos/private/f1project/formula1/f1env/lib/python3.11/site-packages/requests_cache/session.py:230\u001b[39m, in \u001b[36mCacheMixin.send\u001b[39m\u001b[34m(self, request, expire_after, only_if_cached, refresh, force_refresh, **kwargs)\u001b[39m\n\u001b[32m    228\u001b[39m     response = \u001b[38;5;28mself\u001b[39m._resend(request, actions, cached_response, **kwargs)  \u001b[38;5;66;03m# type: ignore\u001b[39;00m\n\u001b[32m    229\u001b[39m \u001b[38;5;28;01melif\u001b[39;00m actions.send_request:\n\u001b[32m--> \u001b[39m\u001b[32m230\u001b[39m     response = \u001b[38;5;28;43mself\u001b[39;49m\u001b[43m.\u001b[49m\u001b[43m_send_and_cache\u001b[49m\u001b[43m(\u001b[49m\u001b[43mrequest\u001b[49m\u001b[43m,\u001b[49m\u001b[43m \u001b[49m\u001b[43mactions\u001b[49m\u001b[43m,\u001b[49m\u001b[43m \u001b[49m\u001b[43mcached_response\u001b[49m\u001b[43m,\u001b[49m\u001b[43m \u001b[49m\u001b[43m*\u001b[49m\u001b[43m*\u001b[49m\u001b[43mkwargs\u001b[49m\u001b[43m)\u001b[49m\n\u001b[32m    231\u001b[39m \u001b[38;5;28;01melse\u001b[39;00m:\n\u001b[32m    232\u001b[39m     response = cached_response  \u001b[38;5;66;03m# type: ignore  # Guaranteed to be non-None by this point\u001b[39;00m\n",
      "\u001b[36mFile \u001b[39m\u001b[32m~/repos/private/f1project/formula1/f1env/lib/python3.11/site-packages/requests_cache/session.py:254\u001b[39m, in \u001b[36mCacheMixin._send_and_cache\u001b[39m\u001b[34m(self, request, actions, cached_response, **kwargs)\u001b[39m\n\u001b[32m    250\u001b[39m \u001b[38;5;250m\u001b[39m\u001b[33;03m\"\"\"Send a request and cache the response, unless disabled by settings or headers.\u001b[39;00m\n\u001b[32m    251\u001b[39m \u001b[33;03mIf applicable, also handle conditional requests.\u001b[39;00m\n\u001b[32m    252\u001b[39m \u001b[33;03m\"\"\"\u001b[39;00m\n\u001b[32m    253\u001b[39m request = actions.update_request(request)\n\u001b[32m--> \u001b[39m\u001b[32m254\u001b[39m response = \u001b[38;5;28;43msuper\u001b[39;49m\u001b[43m(\u001b[49m\u001b[43m)\u001b[49m\u001b[43m.\u001b[49m\u001b[43msend\u001b[49m\u001b[43m(\u001b[49m\u001b[43mrequest\u001b[49m\u001b[43m,\u001b[49m\u001b[43m \u001b[49m\u001b[43m*\u001b[49m\u001b[43m*\u001b[49m\u001b[43mkwargs\u001b[49m\u001b[43m)\u001b[49m\n\u001b[32m    255\u001b[39m actions.update_from_response(response)\n\u001b[32m    257\u001b[39m \u001b[38;5;28;01mif\u001b[39;00m \u001b[38;5;129;01mnot\u001b[39;00m actions.skip_write:\n",
      "\u001b[36mFile \u001b[39m\u001b[32m~/repos/private/f1project/formula1/f1env/lib/python3.11/site-packages/fastf1/req.py:134\u001b[39m, in \u001b[36m_SessionWithRateLimiting.send\u001b[39m\u001b[34m(self, request, **kwargs)\u001b[39m\n\u001b[32m    131\u001b[39m     \u001b[38;5;28;01mif\u001b[39;00m pattern.match(request.url):\n\u001b[32m    132\u001b[39m         \u001b[38;5;28;01mfor\u001b[39;00m lim \u001b[38;5;129;01min\u001b[39;00m limiters:\n\u001b[32m    133\u001b[39m             \u001b[38;5;66;03m# apply all defined limiters\u001b[39;00m\n\u001b[32m--> \u001b[39m\u001b[32m134\u001b[39m             \u001b[43mlim\u001b[49m\u001b[43m.\u001b[49m\u001b[43mlimit\u001b[49m\u001b[43m(\u001b[49m\u001b[43m)\u001b[49m\n\u001b[32m    136\u001b[39m \u001b[38;5;28;01mreturn\u001b[39;00m \u001b[38;5;28msuper\u001b[39m().send(request, **kwargs)\n",
      "\u001b[36mFile \u001b[39m\u001b[32m~/repos/private/f1project/formula1/f1env/lib/python3.11/site-packages/fastf1/req.py:83\u001b[39m, in \u001b[36m_MinIntervalLimitDelay.limit\u001b[39m\u001b[34m(self)\u001b[39m\n\u001b[32m     81\u001b[39m t_now = time.time()\n\u001b[32m     82\u001b[39m \u001b[38;5;28;01mif\u001b[39;00m (delta := (t_now - \u001b[38;5;28mself\u001b[39m._t_last)) < \u001b[38;5;28mself\u001b[39m._interval:\n\u001b[32m---> \u001b[39m\u001b[32m83\u001b[39m     time.sleep(\u001b[38;5;28mself\u001b[39m._interval - delta)\n\u001b[32m     84\u001b[39m     t_now += \u001b[38;5;28mself\u001b[39m._interval - delta\n\u001b[32m     85\u001b[39m \u001b[38;5;28mself\u001b[39m._t_last = t_now\n",
      "\u001b[31mKeyboardInterrupt\u001b[39m: "
     ]
    }
   ],
   "source": [
    "df_profiles, df_skipped = load_or_build_profiles(\n",
    "    cache_path=\"data/circuit_profiles.csv\",\n",
    "    start_year=2020,\n",
    "    end_year=2025\n",
    ")"
   ]
  }
 ],
 "metadata": {
  "kernelspec": {
   "display_name": "Python (f1env)",
   "language": "python",
   "name": "f1env"
  },
  "language_info": {
   "codemirror_mode": {
    "name": "ipython",
    "version": 3
   },
   "file_extension": ".py",
   "mimetype": "text/x-python",
   "name": "python",
   "nbconvert_exporter": "python",
   "pygments_lexer": "ipython3",
   "version": "3.11.11"
  }
 },
 "nbformat": 4,
 "nbformat_minor": 5
}
