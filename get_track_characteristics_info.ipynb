{
 "cells": [
  {
   "cell_type": "code",
   "execution_count": 444,
   "metadata": {},
   "outputs": [],
   "source": [
    "import fastf1 as ff1\n",
    "import pandas as pd\n",
    "from datetime import datetime, timezone\n",
    "import plotly.express as px\n",
    "import numpy as np"
   ]
  },
  {
   "cell_type": "code",
   "execution_count": 445,
   "metadata": {},
   "outputs": [],
   "source": [
    "pd.set_option('display.max_columns', None)\n",
    "pd.set_option('display.max_colwidth', None)"
   ]
  },
  {
   "cell_type": "code",
   "execution_count": 446,
   "metadata": {},
   "outputs": [],
   "source": [
    "ff1.Cache.enable_cache('data')"
   ]
  },
  {
   "cell_type": "code",
   "execution_count": 447,
   "metadata": {},
   "outputs": [],
   "source": [
    "def get_driver_max_throttle_ratio(session, driver, max_throttle_threshold = 98):\n",
    "    \"\"\"\n",
    "    Get the max throttle ratio for the fastest lap in the session for a selected driver.\n",
    "    Parameters:\n",
    "    - session - loaded session (i.e. session.load() must be called before)\n",
    "    - driver - string, abbreviated driver name,\n",
    "    - max_throttle_threshold - optional parameter, the threshold used to categorise the readout as \"MAX THROTTLE\".\n",
    "      100 is not suggested due to readout errors. Default 98.\n",
    "\n",
    "    Returns a dataframe:\n",
    "    - driver\n",
    "    - fastest lap max throttle ratio\n",
    "    - tyre info (age, compound, fresh check)\n",
    "    - weather info (rainfall rate - part of the lap with the rain, avg track temp, avg air temp)\n",
    "    \"\"\"\n",
    "\n",
    "    gp_name = session.event['EventName']\n",
    "    race_weekend = session.event['Location']\n",
    "\n",
    "    full_throttle = pd.DataFrame(columns = [\n",
    "      'grand_prix',\n",
    "      'location',\n",
    "      'driver',\n",
    "      'ratio',\n",
    "      'compound',\n",
    "      'tyre_age',\n",
    "      'is_fresh_tyre',\n",
    "      'avg_rainfall',\n",
    "      'avg_track_temp',\n",
    "      'avg_air_temp'])\n",
    "    missing_info = pd.DataFrame(columns = [\n",
    "      'grand_prix',\n",
    "      'location',\n",
    "      'driver'\n",
    "      ])\n",
    "\n",
    "    try:\n",
    "      fastest_driver = session.laps.pick_driver(driver).pick_fastest()\n",
    "      telemetry_driver = fastest_driver.get_telemetry().add_distance()\n",
    "    \n",
    "      #add weather info to the telemetry data\n",
    "      telemetry_driver = pd.merge_asof(\n",
    "          telemetry_driver,\n",
    "          session.weather_data[['Time','Rainfall','TrackTemp', 'AirTemp']],\n",
    "          left_on = 'SessionTime',\n",
    "          right_on = 'Time'\n",
    "          )\n",
    "\n",
    "      #add info about the next/preious throttle input change\n",
    "      telemetry_driver['nextThrottle'] = telemetry_driver.Throttle.shift(-1)\n",
    "      telemetry_driver['previousThrottle'] = telemetry_driver.Throttle.shift(1)\n",
    "\n",
    "      telemetry_driver_ltd = telemetry_driver.loc[\n",
    "              (telemetry_driver.Throttle>=max_throttle_threshold)\n",
    "              &((telemetry_driver.Throttle.shift(-1)<max_throttle_threshold)\n",
    "                |((telemetry_driver.Throttle.shift(1)<max_throttle_threshold)\n",
    "                  |(telemetry_driver.index.isin([telemetry_driver.index[0],telemetry_driver.index[-1]]))))\n",
    "                  ].copy()\n",
    "\n",
    "      #calculate the relative distance difference between portions of the track\n",
    "      telemetry_driver_ltd['FTRelative'] = telemetry_driver_ltd.RelativeDistance - telemetry_driver_ltd.RelativeDistance.shift(1)\n",
    "\n",
    "      telemetry_driver_ltd.FTRelative.fillna(0, inplace=True)\n",
    "\n",
    "      #take every other row - i.e. include only rows with full throttle \n",
    "      ratio = telemetry_driver_ltd.loc[\n",
    "          (telemetry_driver_ltd.nextThrottle<max_throttle_threshold)\n",
    "          |(telemetry_driver_ltd.nextThrottle.isna())].FTRelative.sum()\n",
    "\n",
    "      #create a dataframe with the results\n",
    "      df = pd.DataFrame([{\n",
    "         'grand_prix': gp_name,\n",
    "         'location':race_weekend,\n",
    "         'driver':driver,\n",
    "         'ratio':ratio,\n",
    "          'compound':fastest_driver['Compound'],\n",
    "          'tyre_age':fastest_driver['TyreLife'],\n",
    "          'is_fresh_tyre':fastest_driver['FreshTyre'],\n",
    "          'avg_rainfall':telemetry_driver['Rainfall'].mean(),\n",
    "          'avg_track_temp':telemetry_driver['TrackTemp'].mean(),\n",
    "          'avg_air_temp':telemetry_driver['AirTemp'].mean()\n",
    "          }])\n",
    "      \n",
    "      full_throttle = pd.concat([full_throttle, df], ignore_index=True, axis = 0)\n",
    "      \n",
    "    except KeyError:\n",
    "      # in some cases we do not have the telemetry data due to tech issues.\n",
    "      # this dataframe is created to keep a note about that.\n",
    "      df_dictionary = pd.DataFrame([{\n",
    "         'grand_prix':gp_name,\n",
    "         'location':race_weekend,\n",
    "         'driver':driver\n",
    "         }])\n",
    "      missing_info = pd.concat([missing_info, df_dictionary], ignore_index=True, axis = 0)\n",
    "\n",
    "    return full_throttle,missing_info"
   ]
  },
  {
   "cell_type": "code",
   "execution_count": 448,
   "metadata": {},
   "outputs": [],
   "source": [
    "def get_all_drivers_throttle_input(session):\n",
    "    \"\"\"\n",
    "    Get the max throttle driven single rap ratio for all drivers.\n",
    "    Params:\n",
    "    - session - race weekend session (session.load() must be called before)\\n\n",
    "    Returns a dataframe containing:\n",
    "    - year\n",
    "    - race weekend name\n",
    "    - session id\n",
    "    - driver\n",
    "    - single lap max throttle ratio\n",
    "    \"\"\"\n",
    "    drivers = pd.unique(session.laps['Driver'])\n",
    "\n",
    "    gp_name = session.event['EventName']\n",
    "    race_weekend = session.event['Location']\n",
    "\n",
    "    full_throttle = pd.DataFrame()\n",
    "    missing_info = pd.DataFrame()\n",
    "\n",
    "    for driver in drivers:\n",
    "        #print(driver)\n",
    "        driver_info, missing_data = get_driver_max_throttle_ratio(session, driver)\n",
    "        driver_info['grand_prix'] = gp_name\n",
    "        driver_info['location'] = race_weekend\n",
    "        full_throttle = pd.concat([full_throttle, driver_info], ignore_index=True, axis = 0)\n",
    "            \n",
    "       \n",
    "        missing_info = pd.concat([missing_info, missing_data], ignore_index=True, axis = 0)\n",
    "\n",
    "    # removing obvious incorrect readings\n",
    "    # there is not a single track with max throttle ratio > 85% or < 40%\n",
    "    full_throttle.loc[(full_throttle.ratio>0.85)|(full_throttle.ratio<0.4), 'ratio'] = np.NaN\n",
    "\n",
    "    correct_readings = full_throttle.loc[~full_throttle.ratio.isna()]\n",
    "    incorrect_readings = full_throttle.loc[full_throttle.ratio.isna()]\n",
    "\n",
    "    missing_info = pd.concat([missing_info, incorrect_readings[['grand_prix','location','driver']]], ignore_index=True, axis = 0)\n",
    "\n",
    "    return correct_readings, missing_info\n",
    "    "
   ]
  },
  {
   "cell_type": "code",
   "execution_count": 452,
   "metadata": {},
   "outputs": [],
   "source": [
    "def get_all_tracks_full_throttle(season):\n",
    "    \"\"\"\n",
    "    Get the info about all races to date in the current Formula 1 season.\n",
    "    Currently fovering just Free Practice 1. Other sessions will be added in the future.\n",
    "    Parameters:\n",
    "    - season - int indicating the year\n",
    "\n",
    "    Returns 2 dataframes:\n",
    "    - throttle input df - containing all information about the fastest lap incl. the throttle input, weather and tyres\n",
    "    - missing info df - containing all cases of missing or incorrect telemetry\n",
    "    \"\"\"\n",
    "\n",
    "    schedule = ff1.get_event_schedule(season)\n",
    "    races = schedule.loc[\n",
    "        #every race weekend up BEFORE today\n",
    "        (schedule.Session1DateUtc < datetime.utcnow())&\n",
    "        #excluding testing\n",
    "        (schedule.EventFormat!='testing')].Location\n",
    "\n",
    "    throttle_df = pd.DataFrame()\n",
    "    missing_df = pd.DataFrame()\n",
    "\n",
    "    for race in races:\n",
    "        print(race)\n",
    "        session = ff1.get_session(season,race,'FP1')\n",
    "        session.load()\n",
    "        full_throttle, missing_info = get_all_drivers_throttle_input(session)\n",
    "\n",
    "        throttle_df = pd.concat([throttle_df, full_throttle], ignore_index=True, axis = 0)\n",
    "        \n",
    "        missing_df = pd.concat([missing_df, missing_info], ignore_index=True, axis = 0)\n",
    "\n",
    "    return throttle_df, missing_df"
   ]
  },
  {
   "cell_type": "code",
   "execution_count": 450,
   "metadata": {},
   "outputs": [
    {
     "name": "stderr",
     "output_type": "stream",
     "text": [
      "core           INFO \tLoading data for Bahrain Grand Prix - Practice 1 [v3.0.7]\n",
      "req            INFO \tUsing cached data for driver_info\n"
     ]
    },
    {
     "name": "stdout",
     "output_type": "stream",
     "text": [
      "Sakhir\n"
     ]
    },
    {
     "name": "stderr",
     "output_type": "stream",
     "text": [
      "req            INFO \tUsing cached data for session_status_data\n",
      "req            INFO \tUsing cached data for track_status_data\n",
      "req            INFO \tUsing cached data for timing_data\n",
      "req            INFO \tUsing cached data for timing_app_data\n",
      "core           INFO \tProcessing timing data...\n",
      "req            INFO \tUsing cached data for car_data\n",
      "req            INFO \tUsing cached data for position_data\n",
      "req            INFO \tUsing cached data for weather_data\n",
      "req            INFO \tUsing cached data for race_control_messages\n",
      "core           INFO \tFinished loading data for 20 drivers: ['1', '10', '11', '14', '16', '18', '2', '20', '21', '22', '23', '24', '27', '31', '4', '44', '55', '63', '77', '81']\n",
      "core           INFO \tLoading data for Saudi Arabian Grand Prix - Practice 1 [v3.0.7]\n",
      "req            INFO \tUsing cached data for driver_info\n"
     ]
    },
    {
     "name": "stdout",
     "output_type": "stream",
     "text": [
      "Jeddah\n"
     ]
    },
    {
     "name": "stderr",
     "output_type": "stream",
     "text": [
      "req            INFO \tUsing cached data for session_status_data\n",
      "req            INFO \tUsing cached data for track_status_data\n",
      "req            INFO \tUsing cached data for timing_data\n",
      "req            INFO \tUsing cached data for timing_app_data\n",
      "core           INFO \tProcessing timing data...\n",
      "req            INFO \tUsing cached data for car_data\n",
      "req            INFO \tUsing cached data for position_data\n",
      "req            INFO \tUsing cached data for weather_data\n",
      "req            INFO \tUsing cached data for race_control_messages\n",
      "core           INFO \tFinished loading data for 20 drivers: ['1', '10', '11', '14', '16', '18', '2', '20', '21', '22', '23', '24', '27', '31', '4', '44', '55', '63', '77', '81']\n",
      "core           INFO \tLoading data for Australian Grand Prix - Practice 1 [v3.0.7]\n",
      "req            INFO \tUsing cached data for driver_info\n"
     ]
    },
    {
     "name": "stdout",
     "output_type": "stream",
     "text": [
      "Melbourne\n"
     ]
    },
    {
     "name": "stderr",
     "output_type": "stream",
     "text": [
      "req            INFO \tUsing cached data for session_status_data\n",
      "req            INFO \tUsing cached data for track_status_data\n",
      "req            INFO \tUsing cached data for timing_data\n",
      "req            INFO \tUsing cached data for timing_app_data\n",
      "core           INFO \tProcessing timing data...\n",
      "req            INFO \tUsing cached data for car_data\n",
      "req            INFO \tUsing cached data for position_data\n",
      "req            INFO \tUsing cached data for weather_data\n",
      "req            INFO \tUsing cached data for race_control_messages\n",
      "core           INFO \tFinished loading data for 20 drivers: ['1', '10', '11', '14', '16', '18', '2', '20', '21', '22', '23', '24', '27', '31', '4', '44', '55', '63', '77', '81']\n",
      "core           INFO \tLoading data for Azerbaijan Grand Prix - Practice 1 [v3.0.7]\n",
      "req            INFO \tUsing cached data for driver_info\n"
     ]
    },
    {
     "name": "stdout",
     "output_type": "stream",
     "text": [
      "Baku\n"
     ]
    },
    {
     "name": "stderr",
     "output_type": "stream",
     "text": [
      "req            INFO \tUsing cached data for session_status_data\n",
      "req            INFO \tUsing cached data for track_status_data\n",
      "req            INFO \tUsing cached data for timing_data\n",
      "req            INFO \tUsing cached data for timing_app_data\n",
      "core           INFO \tProcessing timing data...\n",
      "req            INFO \tUsing cached data for car_data\n",
      "req            INFO \tUsing cached data for position_data\n",
      "req            INFO \tUsing cached data for weather_data\n",
      "req            INFO \tUsing cached data for race_control_messages\n",
      "core           INFO \tFinished loading data for 20 drivers: ['1', '10', '11', '14', '16', '18', '2', '20', '21', '22', '23', '24', '27', '31', '4', '44', '55', '63', '77', '81']\n",
      "core           INFO \tLoading data for Miami Grand Prix - Practice 1 [v3.0.7]\n",
      "req            INFO \tUsing cached data for driver_info\n"
     ]
    },
    {
     "name": "stdout",
     "output_type": "stream",
     "text": [
      "Miami\n"
     ]
    },
    {
     "name": "stderr",
     "output_type": "stream",
     "text": [
      "req            INFO \tUsing cached data for session_status_data\n",
      "req            INFO \tUsing cached data for track_status_data\n",
      "req            INFO \tUsing cached data for timing_data\n",
      "req            INFO \tUsing cached data for timing_app_data\n",
      "core           INFO \tProcessing timing data...\n",
      "req            INFO \tUsing cached data for car_data\n",
      "req            INFO \tUsing cached data for position_data\n",
      "req            INFO \tUsing cached data for weather_data\n",
      "req            INFO \tUsing cached data for race_control_messages\n",
      "core           INFO \tFinished loading data for 20 drivers: ['1', '10', '11', '14', '16', '18', '2', '20', '21', '22', '23', '24', '27', '31', '4', '44', '55', '63', '77', '81']\n",
      "core           INFO \tLoading data for Monaco Grand Prix - Practice 1 [v3.0.7]\n",
      "req            INFO \tUsing cached data for driver_info\n"
     ]
    },
    {
     "name": "stdout",
     "output_type": "stream",
     "text": [
      "Monaco\n"
     ]
    },
    {
     "name": "stderr",
     "output_type": "stream",
     "text": [
      "req            INFO \tUsing cached data for session_status_data\n",
      "req            INFO \tUsing cached data for track_status_data\n",
      "req            INFO \tUsing cached data for timing_data\n",
      "req            INFO \tUsing cached data for timing_app_data\n",
      "core           INFO \tProcessing timing data...\n",
      "req            INFO \tUsing cached data for car_data\n",
      "req            INFO \tUsing cached data for position_data\n",
      "req            INFO \tUsing cached data for weather_data\n",
      "req            INFO \tUsing cached data for race_control_messages\n",
      "core           INFO \tFinished loading data for 20 drivers: ['1', '10', '11', '14', '16', '18', '2', '20', '21', '22', '23', '24', '27', '31', '4', '44', '55', '63', '77', '81']\n",
      "core           INFO \tLoading data for Spanish Grand Prix - Practice 1 [v3.0.7]\n",
      "req            INFO \tUsing cached data for driver_info\n"
     ]
    },
    {
     "name": "stdout",
     "output_type": "stream",
     "text": [
      "Barcelona\n"
     ]
    },
    {
     "name": "stderr",
     "output_type": "stream",
     "text": [
      "req            INFO \tUsing cached data for session_status_data\n",
      "req            INFO \tUsing cached data for track_status_data\n",
      "req            INFO \tUsing cached data for timing_data\n",
      "req            INFO \tUsing cached data for timing_app_data\n",
      "core           INFO \tProcessing timing data...\n",
      "req            INFO \tUsing cached data for car_data\n",
      "req            INFO \tUsing cached data for position_data\n",
      "req            INFO \tUsing cached data for weather_data\n",
      "req            INFO \tUsing cached data for race_control_messages\n",
      "core           INFO \tFinished loading data for 20 drivers: ['1', '10', '11', '14', '16', '18', '2', '20', '21', '22', '23', '24', '27', '31', '4', '44', '55', '63', '77', '81']\n",
      "core           INFO \tLoading data for Canadian Grand Prix - Practice 1 [v3.0.7]\n",
      "req            INFO \tUsing cached data for driver_info\n"
     ]
    },
    {
     "name": "stdout",
     "output_type": "stream",
     "text": [
      "Montréal\n"
     ]
    },
    {
     "name": "stderr",
     "output_type": "stream",
     "text": [
      "req            INFO \tUsing cached data for session_status_data\n",
      "req            INFO \tUsing cached data for track_status_data\n",
      "req            INFO \tUsing cached data for timing_data\n",
      "req            INFO \tUsing cached data for timing_app_data\n",
      "core           INFO \tProcessing timing data...\n",
      "core        WARNING \tNo lap data for driver 10\n",
      "core        WARNING \tNo lap data for driver 31\n",
      "core        WARNING \tNo lap data for driver 44\n",
      "core        WARNING \tNo lap data for driver 63\n",
      "core        WARNING \tFailed to perform lap accuracy check - all laps marked as inaccurate.\n",
      "core        WARNING \tFailed to perform lap accuracy check - all laps marked as inaccurate.\n",
      "core        WARNING \tFailed to perform lap accuracy check - all laps marked as inaccurate.\n",
      "core        WARNING \tFailed to perform lap accuracy check - all laps marked as inaccurate.\n",
      "req            INFO \tUsing cached data for car_data\n",
      "req            INFO \tUsing cached data for position_data\n",
      "req            INFO \tUsing cached data for weather_data\n",
      "req            INFO \tUsing cached data for race_control_messages\n",
      "core           INFO \tFinished loading data for 20 drivers: ['1', '10', '11', '14', '16', '18', '2', '20', '21', '22', '23', '24', '27', '31', '4', '44', '55', '63', '77', '81']\n",
      "core           INFO \tLoading data for Austrian Grand Prix - Practice 1 [v3.0.7]\n",
      "req            INFO \tUsing cached data for driver_info\n",
      "req            INFO \tUsing cached data for session_status_data\n",
      "req            INFO \tUsing cached data for track_status_data\n",
      "req            INFO \tUsing cached data for timing_data\n",
      "req            INFO \tUsing cached data for timing_app_data\n",
      "core           INFO \tProcessing timing data...\n"
     ]
    },
    {
     "name": "stdout",
     "output_type": "stream",
     "text": [
      "Spielberg\n"
     ]
    },
    {
     "name": "stderr",
     "output_type": "stream",
     "text": [
      "req            INFO \tUsing cached data for car_data\n",
      "req            INFO \tNo cached data found for position_data. Loading data...\n",
      "_api           INFO \tFetching position data...\n",
      "core        WARNING \tCar position data is unavailable!\n",
      "req            INFO \tUsing cached data for weather_data\n",
      "req            INFO \tUsing cached data for race_control_messages\n",
      "core           INFO \tFinished loading data for 20 drivers: ['1', '10', '11', '14', '16', '18', '2', '20', '21', '22', '23', '24', '27', '31', '4', '44', '55', '63', '77', '81']\n",
      "core           INFO \tLoading data for British Grand Prix - Practice 1 [v3.0.7]\n",
      "req            INFO \tUsing cached data for driver_info\n",
      "req            INFO \tUsing cached data for session_status_data\n",
      "req            INFO \tUsing cached data for track_status_data\n",
      "req            INFO \tUsing cached data for timing_data\n",
      "req            INFO \tUsing cached data for timing_app_data\n",
      "core           INFO \tProcessing timing data...\n"
     ]
    },
    {
     "name": "stdout",
     "output_type": "stream",
     "text": [
      "Silverstone\n"
     ]
    },
    {
     "name": "stderr",
     "output_type": "stream",
     "text": [
      "req            INFO \tUsing cached data for car_data\n",
      "req            INFO \tUsing cached data for position_data\n",
      "req            INFO \tUsing cached data for weather_data\n",
      "req            INFO \tUsing cached data for race_control_messages\n",
      "core           INFO \tFinished loading data for 20 drivers: ['1', '10', '11', '14', '16', '18', '2', '20', '21', '22', '23', '24', '27', '31', '4', '44', '55', '63', '77', '81']\n",
      "core           INFO \tLoading data for Hungarian Grand Prix - Practice 1 [v3.0.7]\n",
      "req            INFO \tUsing cached data for driver_info\n"
     ]
    },
    {
     "name": "stdout",
     "output_type": "stream",
     "text": [
      "Budapest\n"
     ]
    },
    {
     "name": "stderr",
     "output_type": "stream",
     "text": [
      "req            INFO \tUsing cached data for session_status_data\n",
      "req            INFO \tUsing cached data for track_status_data\n",
      "req            INFO \tUsing cached data for timing_data\n",
      "req            INFO \tUsing cached data for timing_app_data\n",
      "core           INFO \tProcessing timing data...\n",
      "core        WARNING \tNo lap data for driver 12\n",
      "core        WARNING \tNo lap data for driver 15\n",
      "core        WARNING \tNo lap data for driver 17\n",
      "core        WARNING \tNo lap data for driver 19\n",
      "core        WARNING \tNo lap data for driver 21\n",
      "core        WARNING \tNo lap data for driver 25\n",
      "core        WARNING \tNo lap data for driver 26\n",
      "core        WARNING \tNo lap data for driver 28\n",
      "core        WARNING \tNo lap data for driver 29\n",
      "core        WARNING \tNo lap data for driver 30\n",
      "core        WARNING \tNo lap data for driver 5\n",
      "core        WARNING \tNo lap data for driver 6\n",
      "core        WARNING \tNo lap data for driver 7\n",
      "core        WARNING \tNo lap data for driver 8\n",
      "core        WARNING \tNo lap data for driver 9\n",
      "core        WARNING \tFailed to perform lap accuracy check - all laps marked as inaccurate.\n",
      "core        WARNING \tFailed to perform lap accuracy check - all laps marked as inaccurate.\n",
      "core        WARNING \tFailed to perform lap accuracy check - all laps marked as inaccurate.\n",
      "core        WARNING \tFailed to perform lap accuracy check - all laps marked as inaccurate.\n",
      "core        WARNING \tFailed to perform lap accuracy check - all laps marked as inaccurate.\n",
      "core        WARNING \tFailed to perform lap accuracy check - all laps marked as inaccurate.\n",
      "core        WARNING \tFailed to perform lap accuracy check - all laps marked as inaccurate.\n",
      "core        WARNING \tFailed to perform lap accuracy check - all laps marked as inaccurate.\n",
      "core        WARNING \tFailed to perform lap accuracy check - all laps marked as inaccurate.\n",
      "core        WARNING \tFailed to perform lap accuracy check - all laps marked as inaccurate.\n",
      "core        WARNING \tFailed to perform lap accuracy check - all laps marked as inaccurate.\n",
      "core        WARNING \tFailed to perform lap accuracy check - all laps marked as inaccurate.\n",
      "core        WARNING \tFailed to perform lap accuracy check - all laps marked as inaccurate.\n",
      "core        WARNING \tFailed to perform lap accuracy check - all laps marked as inaccurate.\n",
      "core        WARNING \tFailed to perform lap accuracy check - all laps marked as inaccurate.\n",
      "req            INFO \tUsing cached data for car_data\n",
      "req            INFO \tUsing cached data for position_data\n",
      "req            INFO \tUsing cached data for weather_data\n",
      "req            INFO \tUsing cached data for race_control_messages\n",
      "core           INFO \tFinished loading data for 35 drivers: ['1', '10', '11', '12', '14', '15', '16', '17', '18', '19', '2', '20', '21', '22', '23', '24', '25', '26', '27', '28', '29', '3', '30', '31', '4', '44', '5', '55', '6', '63', '7', '77', '8', '81', '9']\n",
      "core           INFO \tLoading data for Belgian Grand Prix - Practice 1 [v3.0.7]\n",
      "req            INFO \tUsing cached data for driver_info\n"
     ]
    },
    {
     "name": "stdout",
     "output_type": "stream",
     "text": [
      "Spa-Francorchamps\n"
     ]
    },
    {
     "name": "stderr",
     "output_type": "stream",
     "text": [
      "req            INFO \tUsing cached data for session_status_data\n",
      "req            INFO \tUsing cached data for track_status_data\n",
      "req            INFO \tUsing cached data for timing_data\n",
      "req            INFO \tUsing cached data for timing_app_data\n",
      "core           INFO \tProcessing timing data...\n",
      "req            INFO \tUsing cached data for car_data\n",
      "req            INFO \tUsing cached data for position_data\n",
      "req            INFO \tUsing cached data for weather_data\n",
      "req            INFO \tUsing cached data for race_control_messages\n",
      "core           INFO \tFinished loading data for 20 drivers: ['1', '10', '11', '14', '16', '18', '2', '20', '22', '23', '24', '27', '3', '31', '4', '44', '55', '63', '77', '81']\n"
     ]
    }
   ],
   "source": [
    "full_throttle, missing_info = get_all_tracks_full_throttle(2023)"
   ]
  },
  {
   "cell_type": "code",
   "execution_count": 290,
   "metadata": {},
   "outputs": [],
   "source": []
  },
  {
   "attachments": {},
   "cell_type": "markdown",
   "metadata": {},
   "source": [
    "# Work in progress"
   ]
  },
  {
   "cell_type": "code",
   "execution_count": null,
   "metadata": {},
   "outputs": [],
   "source": [
    "\"\"\"\n",
    "function to get the altitude of the track and the altitude difference\n",
    "\"\"\""
   ]
  },
  {
   "cell_type": "code",
   "execution_count": null,
   "metadata": {},
   "outputs": [],
   "source": [
    "\"\"\"\n",
    "function identifying fast/medium/slow corners\n",
    "Chickanes?\n",
    "\"\"\""
   ]
  },
  {
   "cell_type": "code",
   "execution_count": null,
   "metadata": {},
   "outputs": [],
   "source": [
    "\"\"\"\n",
    "function looking at long and lat load on the tires\n",
    "\"\"\""
   ]
  },
  {
   "cell_type": "code",
   "execution_count": null,
   "metadata": {},
   "outputs": [],
   "source": [
    "\"\"\"function looking at breaking points\"\"\""
   ]
  }
 ],
 "metadata": {
  "kernelspec": {
   "display_name": "f1env",
   "language": "python",
   "name": "python3"
  },
  "language_info": {
   "codemirror_mode": {
    "name": "ipython",
    "version": 3
   },
   "file_extension": ".py",
   "mimetype": "text/x-python",
   "name": "python",
   "nbconvert_exporter": "python",
   "pygments_lexer": "ipython3",
   "version": "3.11.4"
  },
  "orig_nbformat": 4
 },
 "nbformat": 4,
 "nbformat_minor": 2
}
