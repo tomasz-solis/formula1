{
 "cells": [
  {
   "cell_type": "code",
   "execution_count": 16,
   "metadata": {},
   "outputs": [],
   "source": [
    "import fastf1 as ff1\n",
    "import pandas as pd\n",
    "from datetime import datetime\n",
    "import numpy as np\n",
    "from fastf1.ergast import Ergast\n",
    "import requests\n",
    "from functools import lru_cache\n",
    "import logging"
   ]
  },
  {
   "cell_type": "code",
   "execution_count": 17,
   "metadata": {},
   "outputs": [],
   "source": [
    "pd.set_option('display.max_columns', None)\n",
    "pd.set_option('display.max_colwidth', None)\n",
    "\n",
    "# Suppress FastF1 INFO and DEBUG messages\n",
    "logging.getLogger(\"fastf1\").setLevel(logging.WARNING)"
   ]
  },
  {
   "cell_type": "code",
   "execution_count": 18,
   "metadata": {},
   "outputs": [],
   "source": [
    "ff1.Cache.enable_cache('data')"
   ]
  },
  {
   "cell_type": "markdown",
   "metadata": {},
   "source": [
    "# Session utilities"
   ]
  },
  {
   "cell_type": "code",
   "execution_count": 19,
   "metadata": {},
   "outputs": [],
   "source": [
    "def load_session(year, location, session_name):\n",
    "    \"\"\"\n",
    "    Load and return a FastF1 session with telemetry and lap data.\n",
    "\n",
    "    Parameters:\n",
    "    - year (int): F1 season year (e.g., 2023)\n",
    "    - location (str): Track location (e.g., 'Monza')\n",
    "    - session_name (str): Session type (e.g., 'FP1', 'FP2', 'FP3')\n",
    "\n",
    "    Returns:\n",
    "    - session (FastF1.Session): Loaded session object\n",
    "    - Returns None if session type does not exist (e.g., no FP3 on 2-day weekends).\n",
    "    \"\"\"\n",
    "    try:\n",
    "        session = ff1.get_session(year, location, session_name)\n",
    "        session.load(telemetry=True, laps=True)\n",
    "        return session\n",
    "    except ValueError as ve:\n",
    "        if \"does not exist for this event\" in str(ve):\n",
    "            print(f\"ℹ️ {year} {location} has no {session_name} (skipped)\")\n",
    "        else:\n",
    "            print(f\"⚠️ Could not load session {year} {location} {session_name}: {ve}\")\n",
    "        return None\n",
    "    except Exception as e:\n",
    "        print(f\"⚠️ Could not load session {year} {location} {session_name}: {e}\")\n",
    "        return None"
   ]
  },
  {
   "cell_type": "code",
   "execution_count": 20,
   "metadata": {},
   "outputs": [],
   "source": [
    "@lru_cache(maxsize=None)\n",
    "def get_elevation(latitude, longitude):\n",
    "    \"\"\" \n",
    "    Get the elevation of a single point based on coordinates.\n",
    "    \n",
    "    Parameters:\n",
    "    - latitude\n",
    "    - longitude\n",
    "\n",
    "    Returns single value - altitude above sea level in meters.\n",
    "    \"\"\"\n",
    "    url = f\"https://api.open-elevation.com/api/v1/lookup?locations={latitude},{longitude}\"\n",
    "    \n",
    "    response = requests.get(url)\n",
    "    data = response.json()\n",
    "    elevation = data[\"results\"][0][\"elevation\"]\n",
    "\n",
    "    return elevation"
   ]
  },
  {
   "cell_type": "code",
   "execution_count": 21,
   "metadata": {},
   "outputs": [],
   "source": [
    "def get_circuits(season):\n",
    "    \"\"\"\n",
    "    Get main geolocation info of the tracks:\n",
    "    - latitude\n",
    "    - longitude\n",
    "    - official circuit name\n",
    "    - altitude above sea level\n",
    "\n",
    "    Parameters:\n",
    "    - season: int indicating the year/season of Formula 1\n",
    "\n",
    "    Returns:\n",
    "    - DataFrame with circuitName, location, latitude, longitude, and altitude\n",
    "    \"\"\"\n",
    "    ergast = Ergast()\n",
    "    racetracks = ergast.get_circuits(season)\n",
    "\n",
    "    results = []\n",
    "\n",
    "    for racetrack in racetracks.circuitName:\n",
    "        try:\n",
    "            row = racetracks[racetracks.circuitName == racetrack].iloc[0]\n",
    "            circuit_name = row['circuitName']\n",
    "            latitude = row['lat']\n",
    "            longitude = row['long']\n",
    "            locality = row['locality']\n",
    "            country = row['country']\n",
    "\n",
    "            altitude = get_elevation(latitude, longitude)\n",
    "\n",
    "            results.append({\n",
    "                'circuitName': racetrack,\n",
    "                'location': locality,\n",
    "                'country': country,\n",
    "                'lat': latitude,\n",
    "                'lon': longitude,\n",
    "                'altitude': altitude\n",
    "            })\n",
    "\n",
    "        except Exception as e:\n",
    "            print(f\"⚠️ Failed to get altitude for {racetrack}: {e}\")\n",
    "            continue\n",
    "\n",
    "    return pd.DataFrame(results)\n"
   ]
  },
  {
   "cell_type": "code",
   "execution_count": 22,
   "metadata": {},
   "outputs": [],
   "source": [
    "def get_all_circuits(start_year=2020, end_year=2025):\n",
    "    all_rows = []\n",
    "    for year in range(start_year, end_year + 1):\n",
    "        df = get_circuits(year)\n",
    "        all_rows.append(df)\n",
    "    \n",
    "    full_df = pd.concat(all_rows, ignore_index=True)\n",
    "    \n",
    "    # Keep only the first unique occurrence per circuit\n",
    "    deduped = full_df.drop_duplicates(subset=['circuitName'], keep='first').reset_index(drop=True)\n",
    "    \n",
    "    return deduped\n"
   ]
  },
  {
   "cell_type": "markdown",
   "metadata": {},
   "source": [
    "# Feature Extractors"
   ]
  },
  {
   "cell_type": "code",
   "execution_count": 23,
   "metadata": {},
   "outputs": [],
   "source": [
    "def extract_track_metrics(session):\n",
    "    \"\"\"\n",
    "    Extract average speed, top speed, and braking profile from a loaded session.\n",
    "\n",
    "    Parameters:\n",
    "    - session (FastF1.Session): Loaded FastF1 session\n",
    "\n",
    "    Returns:\n",
    "    - dict: {\n",
    "        avg_speed, top_speed, braking_events,\n",
    "        low_pct, med_pct, high_pct\n",
    "      } or None if extraction failed\n",
    "    \"\"\"\n",
    "    try:\n",
    "        if session.laps.empty:\n",
    "            return None\n",
    "\n",
    "        lap = session.laps.pick_fastest()\n",
    "        telemetry = lap.get_car_data().add_distance()\n",
    "        telemetry['delta_speed'] = telemetry['Speed'].diff()\n",
    "        heavy_brakes = telemetry['delta_speed'] < -30\n",
    "        braking_events = heavy_brakes.sum()\n",
    "\n",
    "        return {\n",
    "            'avg_speed': telemetry['Speed'].mean(),\n",
    "            'top_speed': telemetry['Speed'].max(),\n",
    "            'braking_events': braking_events,\n",
    "            'low_pct': (telemetry.Speed < 120).mean(),\n",
    "            'med_pct': ((telemetry.Speed >= 120) & (telemetry.Speed < 200)).mean(),\n",
    "            'high_pct': (telemetry.Speed >= 200).mean()\n",
    "        }\n",
    "\n",
    "    except Exception as e:\n",
    "        print(f\"⚠️ Failed to extract metrics: {e}\")\n",
    "        return None\n"
   ]
  },
  {
   "cell_type": "code",
   "execution_count": 24,
   "metadata": {},
   "outputs": [],
   "source": [
    "def get_circuit_corner_profile(session, low_thresh=100, med_thresh=170):\n",
    "    \"\"\"\n",
    "    Detect corners and categorize them by entry speed using local speed minima.\n",
    "\n",
    "    Parameters:\n",
    "    - session (FastF1.Session): Loaded session\n",
    "    - low_thresh (int): max speed for slow corners (km/h)\n",
    "    - med_thresh (int): max speed for medium corners (km/h)\n",
    "\n",
    "    Returns:\n",
    "    - dict: {\n",
    "        slow_corners, medium_corners, fast_corners, chicanes\n",
    "      } or None if failed\n",
    "    \"\"\"\n",
    "    try:\n",
    "        lap = session.laps.pick_fastest()\n",
    "        tel = lap.get_car_data().add_distance()\n",
    "        tel['prev_speed'] = tel['Speed'].shift(1)\n",
    "        tel['next_speed'] = tel['Speed'].shift(-1)\n",
    "        tel['is_corner'] = (tel['Speed'] < tel['prev_speed']) & (tel['Speed'] < tel['next_speed'])\n",
    "        corners = tel[tel['is_corner']].copy()\n",
    "\n",
    "        corners['corner_type'] = pd.cut(\n",
    "            corners['Speed'],\n",
    "            bins=[0, low_thresh, med_thresh, 400],\n",
    "            labels=['slow', 'medium', 'fast']\n",
    "        )\n",
    "        counts = corners['corner_type'].value_counts().to_dict()\n",
    "\n",
    "        corners['DistanceFromPrev'] = corners['Distance'].diff().fillna(9999)\n",
    "        chicanes = (corners['DistanceFromPrev'] < 200).sum()\n",
    "\n",
    "        return {\n",
    "            'slow_corners': counts.get('slow', 0),\n",
    "            'medium_corners': counts.get('medium', 0),\n",
    "            'fast_corners': counts.get('fast', 0),\n",
    "            'chicanes': chicanes\n",
    "        }\n",
    "\n",
    "    except Exception as e:\n",
    "        print(f\"⚠️ Corner profile failed: {e}\")\n",
    "        return None\n"
   ]
  },
  {
   "cell_type": "code",
   "execution_count": 25,
   "metadata": {},
   "outputs": [],
   "source": [
    "def get_drs_info(session, track_length):\n",
    "    \"\"\"\n",
    "    Estimate DRS info from telemetry (fastest lap).\n",
    "\n",
    "    Parameters:\n",
    "    - session (FastF1.Session): Loaded session\n",
    "    - track_length (float): Estimated lap length (m)\n",
    "\n",
    "    Returns:\n",
    "    - dict: num_drs_zones, drs_total_len_m, drs_pct_of_lap\n",
    "    \"\"\"\n",
    "    try:\n",
    "        lap = session.laps.pick_fastest()\n",
    "        tel = lap.get_car_data().add_distance()\n",
    "\n",
    "        if 'DRS' not in tel.columns:\n",
    "            raise ValueError(\"DRS channel not available in telemetry\")\n",
    "\n",
    "        # Identify rows where DRS is active (1- activated, 8 available)\n",
    "        drs_active = tel[tel['DRS'].isin([1, 8])].copy()\n",
    "        if drs_active.empty:\n",
    "            raise ValueError(\"No DRS usage detected in lap\")\n",
    "\n",
    "        # Tag separate DRS zones (gaps > 100m in distance)\n",
    "        drs_active['gap'] = drs_active['Distance'].diff().fillna(0)\n",
    "        drs_active['zone_id'] = (drs_active['gap'] > 100).cumsum()\n",
    "\n",
    "        # Compute total length and count zones\n",
    "        zone_lengths = drs_active.groupby('zone_id')['Distance'].agg(['min', 'max'])\n",
    "        zone_lengths['length'] = zone_lengths['max'] - zone_lengths['min']\n",
    "\n",
    "        num_drs_zones = len(zone_lengths)\n",
    "        drs_total_len = zone_lengths['length'].sum()\n",
    "        drs_pct = drs_total_len / track_length if track_length else np.nan\n",
    "\n",
    "        return {\n",
    "            'num_drs_zones': num_drs_zones,\n",
    "            'drs_total_len_m': drs_total_len,\n",
    "            'drs_pct_of_lap': drs_pct\n",
    "        }\n",
    "\n",
    "    except Exception as e:\n",
    "        print(f\"⚠️ Failed to infer DRS zones: {e}\")\n",
    "        return {\n",
    "            'num_drs_zones': 0,\n",
    "            'drs_total_len_m': 0,\n",
    "            'drs_pct_of_lap': np.nan\n",
    "        }\n"
   ]
  },
  {
   "cell_type": "markdown",
   "metadata": {},
   "source": [
    "# Driver telemetry"
   ]
  },
  {
   "cell_type": "code",
   "execution_count": 26,
   "metadata": {},
   "outputs": [],
   "source": [
    "def get_driver_max_throttle_ratio(session, driver, max_throttle_threshold=98, season=None, session_name=None):\n",
    "    \"\"\"\n",
    "    Get the max throttle ratio for the fastest lap in the session for a selected driver.\n",
    "\n",
    "    Parameters:\n",
    "    - session: FastF1 loaded session object (must be .load()-ed)\n",
    "    - driver: abbreviated driver name (e.g., 'VER')\n",
    "    - max_throttle_threshold: threshold for detecting 'max throttle' zones (default: 98%)\n",
    "    - season: (optional) int year\n",
    "    - session_name: (optional) string like 'FP1', used for session_uid\n",
    "\n",
    "    Returns:\n",
    "    - full_throttle: DataFrame with driver metrics and session_uid\n",
    "    - missing_info: DataFrame with fallback in case of telemetry issues\n",
    "    \"\"\"\n",
    "\n",
    "    gp_name = session.event['EventName']\n",
    "    location = session.event['Location']\n",
    "\n",
    "    try:\n",
    "        fastest_driver = session.laps.pick_drivers([driver]).pick_fastest()\n",
    "        telemetry = fastest_driver.get_telemetry().add_distance()\n",
    "\n",
    "        # Merge weather info\n",
    "        telemetry = pd.merge_asof(\n",
    "            telemetry,\n",
    "            session.weather_data[['Time', 'Rainfall', 'TrackTemp', 'AirTemp']],\n",
    "            left_on='SessionTime',\n",
    "            right_on='Time'\n",
    "        )\n",
    "\n",
    "        # Calculate heavy braking zones\n",
    "        telemetry['delta_speed'] = telemetry['Speed'].diff()\n",
    "        heavy_brakes = telemetry['delta_speed'] < -30  # threshold in km/h\n",
    "        braking_events = heavy_brakes.sum()\n",
    "\n",
    "        # Identify throttle segments\n",
    "        telemetry['nextThrottle'] = telemetry.Throttle.shift(-1)\n",
    "        telemetry['previousThrottle'] = telemetry.Throttle.shift(1)\n",
    "\n",
    "        throttle_points = telemetry.loc[\n",
    "            (telemetry.Throttle >= max_throttle_threshold) &\n",
    "            (\n",
    "                (telemetry.nextThrottle < max_throttle_threshold) |\n",
    "                (telemetry.previousThrottle < max_throttle_threshold) |\n",
    "                (telemetry.index.isin([telemetry.index[0], telemetry.index[-1]]))\n",
    "            )\n",
    "        ].copy()\n",
    "\n",
    "        throttle_points['FTRelative'] = throttle_points.RelativeDistance.diff().fillna(0)\n",
    "\n",
    "        # Calculate full throttle ratio\n",
    "        ratio = throttle_points.loc[\n",
    "            (throttle_points.nextThrottle < max_throttle_threshold) |\n",
    "            (throttle_points.nextThrottle.isna())\n",
    "        ]['FTRelative'].sum()\n",
    "\n",
    "        # Prepare result row\n",
    "        result = pd.DataFrame([{\n",
    "            'grand_prix': gp_name,\n",
    "            'location': location,\n",
    "            'driver': driver,\n",
    "            'ratio': ratio,\n",
    "            'compound': fastest_driver['Compound'],\n",
    "            'tyre_age': fastest_driver['TyreLife'],\n",
    "            'is_fresh_tyre': fastest_driver['FreshTyre'],\n",
    "            'avg_rainfall': telemetry['Rainfall'].mean(),\n",
    "            'avg_track_temp': telemetry['TrackTemp'].mean(),\n",
    "            'avg_air_temp': telemetry['AirTemp'].mean(),\n",
    "            'braking_events': braking_events,\n",
    "            'session_uid': f\"{season}_{location}_{session_name}\" if season and session_name else None\n",
    "        }])\n",
    "\n",
    "        return result, None\n",
    "\n",
    "    except Exception:\n",
    "        # Telemetry missing or failed to load\n",
    "        missing = pd.DataFrame([{\n",
    "            'grand_prix': gp_name,\n",
    "            'location': location,\n",
    "            'driver': driver,\n",
    "            'session_uid': f\"{season}_{location}_{session_name}\" if season and session_name else None\n",
    "        }])\n",
    "        return None, missing\n"
   ]
  },
  {
   "cell_type": "code",
   "execution_count": 27,
   "metadata": {},
   "outputs": [],
   "source": [
    "def get_all_drivers_throttle_input(session, season=None, session_name=None):\n",
    "    \"\"\"\n",
    "    Get the max throttle ratio and braking event data for all drivers in a session.\n",
    "\n",
    "    Parameters:\n",
    "    - session: loaded FastF1 session\n",
    "    - season: optional, used to generate session_uid\n",
    "    - session_name: optional, like 'FP1', used to generate session_uid\n",
    "\n",
    "    Returns:\n",
    "    - correct_readings: DataFrame with all valid telemetry-derived data\n",
    "    \"\"\"\n",
    "    if session.laps.empty:\n",
    "        print(f\"⚠️ No laps found in session: {session.event['EventName']}\")\n",
    "        return pd.DataFrame(), pd.DataFrame()\n",
    "\n",
    "    drivers = pd.unique(session.laps['Driver'])\n",
    "    gp_name = session.event['EventName']\n",
    "    location = session.event['Location']\n",
    "\n",
    "    throttle_data = []\n",
    "    missing_data = []\n",
    "\n",
    "    for driver in drivers:\n",
    "        result, missing = get_driver_max_throttle_ratio(\n",
    "            session, driver,\n",
    "            season=season,\n",
    "            session_name=session_name\n",
    "        )\n",
    "        if result is not None:\n",
    "            throttle_data.append(result)\n",
    "        if missing is not None:\n",
    "            missing_data.append(missing)\n",
    "\n",
    "    full_throttle = pd.concat(throttle_data, ignore_index=True) if throttle_data else pd.DataFrame()\n",
    "    missing_info = pd.concat(missing_data, ignore_index=True) if missing_data else pd.DataFrame()\n",
    "\n",
    "    # Remove throttle ratio outliers\n",
    "    invalid_mask = (full_throttle.ratio > 0.85) | (full_throttle.ratio < 0.4)\n",
    "    full_throttle.loc[invalid_mask, 'ratio'] = np.NaN\n",
    "\n",
    "    correct_readings = full_throttle.dropna(subset=['ratio'])\n",
    "    incorrect_readings = full_throttle[full_throttle.ratio.isna()]\n",
    "\n",
    "    # Logged but not used as of now\n",
    "    if not incorrect_readings.empty:\n",
    "        missing_info = pd.concat(\n",
    "            [missing_info, incorrect_readings[['grand_prix', 'location', 'driver', 'session_uid']]],\n",
    "            ignore_index=True\n",
    "        )\n",
    "\n",
    "    return correct_readings\n"
   ]
  },
  {
   "cell_type": "markdown",
   "metadata": {},
   "source": [
    "# High-Level Builders"
   ]
  },
  {
   "cell_type": "code",
   "execution_count": 28,
   "metadata": {},
   "outputs": [],
   "source": [
    "def build_circuit_profile_df(start_year=2020, end_year=2025):\n",
    "    \"\"\"\n",
    "    Builds a DataFrame with circuit-level metrics for all practice sessions across seasons.\n",
    "\n",
    "    Parameters:\n",
    "    - start_year: int — First season to include\n",
    "    - end_year: int — Last season to include\n",
    "\n",
    "    Returns:\n",
    "    - df_profiles: DataFrame with circuit performance and layout characteristics\n",
    "    - df_skipped: DataFrame logging sessions or years that failed (with reasons)\n",
    "    \"\"\"\n",
    "\n",
    "    # Load all circuits and their metadata (altitude, location, lat/lon)\n",
    "    # This is pulled from the Ergast API via your get_all_circuits()\n",
    "    circuit_metadata = get_all_circuits(start_year, end_year)\n",
    "\n",
    "    # Lists to store successful and failed processing records\n",
    "    records = []\n",
    "    skipped_sessions = []\n",
    "\n",
    "    # Loop over each season\n",
    "    for year in range(start_year, end_year + 1):\n",
    "        try:\n",
    "            # Load the event schedule from Ergast backend (more reliable fallback)\n",
    "            schedule = ff1.get_event_schedule(year, backend='ergast')\n",
    "\n",
    "            # Filter out events that haven't happened yet\n",
    "            races = schedule[schedule.Session1DateUtc < datetime.utcnow()]\n",
    "        except Exception as e:\n",
    "            # If loading the full schedule fails for a year, log it and continue\n",
    "            print(f\"⚠️ Skipped year {year} — failed to load schedule: {e}\")\n",
    "            skipped_sessions.append({\n",
    "                \"year\": year,\n",
    "                \"location\": None,\n",
    "                \"session\": None,\n",
    "                \"event\": None,\n",
    "                \"reason\": f\"Schedule load failed: {e}\"\n",
    "            })\n",
    "            continue\n",
    "\n",
    "        # Loop through each race in the schedule\n",
    "        for _, row in races.iterrows():\n",
    "            location = row['Location']               # e.g., 'Sakhir'\n",
    "            event_name = row['EventName']           # e.g., 'Bahrain Grand Prix'\n",
    "            format_type = row['EventFormat']        # 'conventional' or 'sprint'\n",
    "\n",
    "            # Define which practice sessions to include\n",
    "            sessions = ['FP1', 'FP2', 'FP3', 'Q', 'R'] if format_type == 'conventional' else ['FP1','S', 'SS', 'SQ','Q','R']\n",
    "\n",
    "            for session_name in sessions:\n",
    "                try:\n",
    "                    print(f\"🔍 Processing {year} {location} {session_name}\")\n",
    "\n",
    "                    # Load telemetry and metadata for the session\n",
    "                    session = load_session(year, location, session_name)\n",
    "\n",
    "                    # Sanity checks for required data\n",
    "                    if session is None:\n",
    "                        raise ValueError(\"Session loading returned None\")\n",
    "                    if session.laps.empty:\n",
    "                        raise ValueError(\"Session laps not available or empty\")\n",
    "                    if not hasattr(session, \"weather_data\") or session.weather_data.empty:\n",
    "                        raise ValueError(\"Weather data missing\")\n",
    "\n",
    "                    # Estimate track length using fastest lap distance\n",
    "                    try:\n",
    "                        lap = session.laps.pick_fastest()\n",
    "                        track_length = lap.get_car_data().add_distance()['Distance'].max()\n",
    "                    except Exception as e:\n",
    "                        print(f\"⚠️ Could not estimate track length: {e}\")\n",
    "                        track_length = np.nan\n",
    "\n",
    "                    # Warn but don't skip if track length is missing\n",
    "                    if pd.isna(track_length):\n",
    "                        print(f\"⚠️ {year} {location} {session_name} missing track length — DRS % will be NaN\")\n",
    "\n",
    "                    # Extract feature sets\n",
    "                    drs_data = get_drs_info(session, track_length)                  # DRS zones, total length, %\n",
    "                    track_metrics = extract_track_metrics(session)                 # avg/top speed, braking, throttle %\n",
    "                    corner_data = get_circuit_corner_profile(session)              # slow/medium/fast corners + chicanes\n",
    "\n",
    "                    # Match altitude using 'location' (e.g. 'Sakhir') against circuit_metadata\n",
    "                    alt_lookup = circuit_metadata[circuit_metadata['location'] == location]\n",
    "                    altitude = alt_lookup['altitude'].values[0] if not alt_lookup.empty else np.nan\n",
    "\n",
    "                    # Ensure core metrics were extracted\n",
    "                    if not track_metrics:\n",
    "                        raise ValueError(\"Missing telemetry metrics\")\n",
    "\n",
    "                    # Compile the record for this session\n",
    "                    record = {\n",
    "                        'year': year,\n",
    "                        'location': location,\n",
    "                        'event': event_name,\n",
    "                        'session': session_name,\n",
    "                        'real_altitude': altitude,\n",
    "                        'lap_length':track_length,\n",
    "                        **drs_data,\n",
    "                        **track_metrics,\n",
    "                        **corner_data\n",
    "                    }\n",
    "\n",
    "                    records.append(record)\n",
    "\n",
    "                except Exception as e:\n",
    "                    # Log any failure that happens during processing of a session\n",
    "                    print(f\"⚠️ Skipped {year} {location} {session_name}: {e}\")\n",
    "                    skipped_sessions.append({\n",
    "                        \"year\": year,\n",
    "                        \"location\": location,\n",
    "                        \"session\": session_name,\n",
    "                        \"event\": event_name,\n",
    "                        \"reason\": str(e)\n",
    "                    })\n",
    "\n",
    "    # Convert final lists to DataFrames\n",
    "    df_profiles = pd.DataFrame(records)\n",
    "    df_skipped = pd.DataFrame(skipped_sessions)\n",
    "\n",
    "    # Print final summary for console\n",
    "    print(f\"\\n✅ Done: {len(df_profiles)} sessions parsed, {len(df_skipped)} skipped.\")\n",
    "\n",
    "    return df_profiles, df_skipped\n"
   ]
  },
  {
   "cell_type": "markdown",
   "metadata": {},
   "source": [
    "# Testing"
   ]
  },
  {
   "cell_type": "code",
   "execution_count": 29,
   "metadata": {
    "scrolled": true
   },
   "outputs": [
    {
     "name": "stdout",
     "output_type": "stream",
     "text": [
      "🔍 Processing 2024 Sakhir FP1\n",
      "🔍 Processing 2024 Sakhir FP2\n",
      "🔍 Processing 2024 Sakhir FP3\n",
      "🔍 Processing 2024 Sakhir Q\n",
      "🔍 Processing 2024 Sakhir R\n",
      "⚠️ Failed to infer DRS zones: No DRS usage detected in lap\n",
      "🔍 Processing 2024 Jeddah FP1\n",
      "🔍 Processing 2024 Jeddah FP2\n",
      "🔍 Processing 2024 Jeddah FP3\n",
      "🔍 Processing 2024 Jeddah Q\n",
      "🔍 Processing 2024 Jeddah R\n",
      "🔍 Processing 2024 Melbourne FP1\n"
     ]
    },
    {
     "name": "stderr",
     "output_type": "stream",
     "text": [
      "core        WARNING \tNo lap data for driver 23\n"
     ]
    },
    {
     "name": "stdout",
     "output_type": "stream",
     "text": [
      "🔍 Processing 2024 Melbourne FP2\n"
     ]
    },
    {
     "name": "stderr",
     "output_type": "stream",
     "text": [
      "core        WARNING \tFailed to perform lap accuracy check - all laps marked as inaccurate (driver 23)\n"
     ]
    },
    {
     "name": "stdout",
     "output_type": "stream",
     "text": [
      "🔍 Processing 2024 Melbourne FP3\n",
      "🔍 Processing 2024 Melbourne Q\n",
      "🔍 Processing 2024 Melbourne R\n",
      "🔍 Processing 2024 Suzuka FP1\n"
     ]
    },
    {
     "name": "stderr",
     "output_type": "stream",
     "text": [
      "core        WARNING \tNo lap data for driver 1\n",
      "core        WARNING \tNo lap data for driver 2\n",
      "core        WARNING \tNo lap data for driver 10\n",
      "core        WARNING \tNo lap data for driver 11\n",
      "core        WARNING \tNo lap data for driver 14\n",
      "core        WARNING \tNo lap data for driver 18\n",
      "core        WARNING \tNo lap data for driver 63\n",
      "core        WARNING \tFailed to perform lap accuracy check - all laps marked as inaccurate (driver 1)\n",
      "core        WARNING \tFailed to perform lap accuracy check - all laps marked as inaccurate (driver 2)\n",
      "core        WARNING \tFailed to perform lap accuracy check - all laps marked as inaccurate (driver 10)\n",
      "core        WARNING \tFailed to perform lap accuracy check - all laps marked as inaccurate (driver 11)\n",
      "core        WARNING \tFailed to perform lap accuracy check - all laps marked as inaccurate (driver 14)\n",
      "core        WARNING \tFailed to perform lap accuracy check - all laps marked as inaccurate (driver 18)\n",
      "core        WARNING \tFailed to perform lap accuracy check - all laps marked as inaccurate (driver 63)\n"
     ]
    },
    {
     "name": "stdout",
     "output_type": "stream",
     "text": [
      "🔍 Processing 2024 Suzuka FP2\n",
      "🔍 Processing 2024 Suzuka FP3\n",
      "🔍 Processing 2024 Suzuka Q\n",
      "🔍 Processing 2024 Suzuka R\n",
      "🔍 Processing 2024 Shanghai FP1\n",
      "🔍 Processing 2024 Shanghai S\n"
     ]
    },
    {
     "name": "stderr",
     "output_type": "stream",
     "text": [
      "core        WARNING \tSprint Qualifying is not supported by Ergast! Limited results are calculated from timing data.\n"
     ]
    },
    {
     "name": "stdout",
     "output_type": "stream",
     "text": [
      "⚠️ Failed to infer DRS zones: No DRS usage detected in lap\n",
      "🔍 Processing 2024 Shanghai SS\n",
      "ℹ️ 2024 Shanghai has no SS (skipped)\n",
      "⚠️ Skipped 2024 Shanghai SS: Session loading returned None\n",
      "🔍 Processing 2024 Shanghai SQ\n",
      "🔍 Processing 2024 Shanghai Q\n",
      "🔍 Processing 2024 Shanghai R\n"
     ]
    },
    {
     "name": "stderr",
     "output_type": "stream",
     "text": [
      "core        WARNING \tDriver 1 completed the race distance 00:08.313000 before the recorded end of the session.\n"
     ]
    },
    {
     "name": "stdout",
     "output_type": "stream",
     "text": [
      "🔍 Processing 2024 Miami FP1\n",
      "🔍 Processing 2024 Miami S\n"
     ]
    },
    {
     "name": "stderr",
     "output_type": "stream",
     "text": [
      "core        WARNING \tSprint Qualifying is not supported by Ergast! Limited results are calculated from timing data.\n"
     ]
    },
    {
     "name": "stdout",
     "output_type": "stream",
     "text": [
      "🔍 Processing 2024 Miami SS\n",
      "ℹ️ 2024 Miami has no SS (skipped)\n",
      "⚠️ Skipped 2024 Miami SS: Session loading returned None\n",
      "🔍 Processing 2024 Miami SQ\n",
      "🔍 Processing 2024 Miami Q\n",
      "🔍 Processing 2024 Miami R\n",
      "⚠️ Failed to infer DRS zones: No DRS usage detected in lap\n",
      "🔍 Processing 2024 Imola FP1\n",
      "🔍 Processing 2024 Imola FP2\n",
      "🔍 Processing 2024 Imola FP3\n",
      "🔍 Processing 2024 Imola Q\n"
     ]
    },
    {
     "name": "stderr",
     "output_type": "stream",
     "text": [
      "core        WARNING \tDriver  2: Lap timing integrity check failed for 1 lap(s)\n"
     ]
    },
    {
     "name": "stdout",
     "output_type": "stream",
     "text": [
      "🔍 Processing 2024 Imola R\n"
     ]
    },
    {
     "name": "stderr",
     "output_type": "stream",
     "text": [
      "events      WARNING \tCorrecting user input 'Monte-Carlo' to 'Canadian Grand Prix'\n"
     ]
    },
    {
     "name": "stdout",
     "output_type": "stream",
     "text": [
      "⚠️ Failed to infer DRS zones: No DRS usage detected in lap\n",
      "🔍 Processing 2024 Monte-Carlo FP1\n"
     ]
    },
    {
     "name": "stderr",
     "output_type": "stream",
     "text": [
      "events      WARNING \tCorrecting user input 'Monte-Carlo' to 'Canadian Grand Prix'\n"
     ]
    },
    {
     "name": "stdout",
     "output_type": "stream",
     "text": [
      "🔍 Processing 2024 Monte-Carlo FP2\n"
     ]
    },
    {
     "name": "stderr",
     "output_type": "stream",
     "text": [
      "events      WARNING \tCorrecting user input 'Monte-Carlo' to 'Canadian Grand Prix'\n"
     ]
    },
    {
     "name": "stdout",
     "output_type": "stream",
     "text": [
      "🔍 Processing 2024 Monte-Carlo FP3\n"
     ]
    },
    {
     "name": "stderr",
     "output_type": "stream",
     "text": [
      "events      WARNING \tCorrecting user input 'Monte-Carlo' to 'Canadian Grand Prix'\n"
     ]
    },
    {
     "name": "stdout",
     "output_type": "stream",
     "text": [
      "🔍 Processing 2024 Monte-Carlo Q\n"
     ]
    },
    {
     "name": "stderr",
     "output_type": "stream",
     "text": [
      "events      WARNING \tCorrecting user input 'Monte-Carlo' to 'Canadian Grand Prix'\n"
     ]
    },
    {
     "name": "stdout",
     "output_type": "stream",
     "text": [
      "🔍 Processing 2024 Monte-Carlo R\n"
     ]
    },
    {
     "name": "stderr",
     "output_type": "stream",
     "text": [
      "events      WARNING \tCorrecting user input 'Montreal' to 'Canadian Grand Prix'\n"
     ]
    },
    {
     "name": "stdout",
     "output_type": "stream",
     "text": [
      "🔍 Processing 2024 Montreal FP1\n"
     ]
    },
    {
     "name": "stderr",
     "output_type": "stream",
     "text": [
      "events      WARNING \tCorrecting user input 'Montreal' to 'Canadian Grand Prix'\n"
     ]
    },
    {
     "name": "stdout",
     "output_type": "stream",
     "text": [
      "🔍 Processing 2024 Montreal FP2\n"
     ]
    },
    {
     "name": "stderr",
     "output_type": "stream",
     "text": [
      "events      WARNING \tCorrecting user input 'Montreal' to 'Canadian Grand Prix'\n"
     ]
    },
    {
     "name": "stdout",
     "output_type": "stream",
     "text": [
      "🔍 Processing 2024 Montreal FP3\n"
     ]
    },
    {
     "name": "stderr",
     "output_type": "stream",
     "text": [
      "events      WARNING \tCorrecting user input 'Montreal' to 'Canadian Grand Prix'\n"
     ]
    },
    {
     "name": "stdout",
     "output_type": "stream",
     "text": [
      "🔍 Processing 2024 Montreal Q\n"
     ]
    },
    {
     "name": "stderr",
     "output_type": "stream",
     "text": [
      "events      WARNING \tCorrecting user input 'Montreal' to 'Canadian Grand Prix'\n"
     ]
    },
    {
     "name": "stdout",
     "output_type": "stream",
     "text": [
      "🔍 Processing 2024 Montreal R\n"
     ]
    },
    {
     "name": "stderr",
     "output_type": "stream",
     "text": [
      "events      WARNING \tCorrecting user input 'Montmeló' to 'Canadian Grand Prix'\n"
     ]
    },
    {
     "name": "stdout",
     "output_type": "stream",
     "text": [
      "🔍 Processing 2024 Montmeló FP1\n"
     ]
    },
    {
     "name": "stderr",
     "output_type": "stream",
     "text": [
      "events      WARNING \tCorrecting user input 'Montmeló' to 'Canadian Grand Prix'\n"
     ]
    },
    {
     "name": "stdout",
     "output_type": "stream",
     "text": [
      "🔍 Processing 2024 Montmeló FP2\n"
     ]
    },
    {
     "name": "stderr",
     "output_type": "stream",
     "text": [
      "events      WARNING \tCorrecting user input 'Montmeló' to 'Canadian Grand Prix'\n"
     ]
    },
    {
     "name": "stdout",
     "output_type": "stream",
     "text": [
      "🔍 Processing 2024 Montmeló FP3\n"
     ]
    },
    {
     "name": "stderr",
     "output_type": "stream",
     "text": [
      "events      WARNING \tCorrecting user input 'Montmeló' to 'Canadian Grand Prix'\n"
     ]
    },
    {
     "name": "stdout",
     "output_type": "stream",
     "text": [
      "🔍 Processing 2024 Montmeló Q\n"
     ]
    },
    {
     "name": "stderr",
     "output_type": "stream",
     "text": [
      "events      WARNING \tCorrecting user input 'Montmeló' to 'Canadian Grand Prix'\n"
     ]
    },
    {
     "name": "stdout",
     "output_type": "stream",
     "text": [
      "🔍 Processing 2024 Montmeló R\n",
      "🔍 Processing 2024 Spielberg FP1\n",
      "🔍 Processing 2024 Spielberg S\n"
     ]
    },
    {
     "name": "stderr",
     "output_type": "stream",
     "text": [
      "core        WARNING \tSprint Qualifying is not supported by Ergast! Limited results are calculated from timing data.\n"
     ]
    },
    {
     "name": "stdout",
     "output_type": "stream",
     "text": [
      "🔍 Processing 2024 Spielberg SS\n",
      "ℹ️ 2024 Spielberg has no SS (skipped)\n",
      "⚠️ Skipped 2024 Spielberg SS: Session loading returned None\n",
      "🔍 Processing 2024 Spielberg SQ\n",
      "🔍 Processing 2024 Spielberg Q\n",
      "🔍 Processing 2024 Spielberg R\n",
      "⚠️ Failed to infer DRS zones: No DRS usage detected in lap\n",
      "🔍 Processing 2024 Silverstone FP1\n",
      "🔍 Processing 2024 Silverstone FP2\n",
      "🔍 Processing 2024 Silverstone FP3\n",
      "⚠️ Failed to infer DRS zones: No DRS usage detected in lap\n",
      "🔍 Processing 2024 Silverstone Q\n",
      "🔍 Processing 2024 Silverstone R\n",
      "⚠️ Failed to infer DRS zones: No DRS usage detected in lap\n",
      "🔍 Processing 2024 Budapest FP1\n",
      "🔍 Processing 2024 Budapest FP2\n",
      "🔍 Processing 2024 Budapest FP3\n",
      "🔍 Processing 2024 Budapest Q\n",
      "🔍 Processing 2024 Budapest R\n"
     ]
    },
    {
     "name": "stderr",
     "output_type": "stream",
     "text": [
      "events      WARNING \tCorrecting user input 'Spa' to 'Spanish Grand Prix'\n"
     ]
    },
    {
     "name": "stdout",
     "output_type": "stream",
     "text": [
      "⚠️ Failed to infer DRS zones: No DRS usage detected in lap\n",
      "🔍 Processing 2024 Spa FP1\n"
     ]
    },
    {
     "name": "stderr",
     "output_type": "stream",
     "text": [
      "events      WARNING \tCorrecting user input 'Spa' to 'Spanish Grand Prix'\n"
     ]
    },
    {
     "name": "stdout",
     "output_type": "stream",
     "text": [
      "🔍 Processing 2024 Spa FP2\n"
     ]
    },
    {
     "name": "stderr",
     "output_type": "stream",
     "text": [
      "events      WARNING \tCorrecting user input 'Spa' to 'Spanish Grand Prix'\n"
     ]
    },
    {
     "name": "stdout",
     "output_type": "stream",
     "text": [
      "🔍 Processing 2024 Spa FP3\n"
     ]
    },
    {
     "name": "stderr",
     "output_type": "stream",
     "text": [
      "events      WARNING \tCorrecting user input 'Spa' to 'Spanish Grand Prix'\n"
     ]
    },
    {
     "name": "stdout",
     "output_type": "stream",
     "text": [
      "🔍 Processing 2024 Spa Q\n"
     ]
    },
    {
     "name": "stderr",
     "output_type": "stream",
     "text": [
      "events      WARNING \tCorrecting user input 'Spa' to 'Spanish Grand Prix'\n"
     ]
    },
    {
     "name": "stdout",
     "output_type": "stream",
     "text": [
      "🔍 Processing 2024 Spa R\n"
     ]
    },
    {
     "name": "stderr",
     "output_type": "stream",
     "text": [
      "core        WARNING \tDriver 1 completed the race distance 00:00.015000 before the recorded end of the session.\n"
     ]
    },
    {
     "name": "stdout",
     "output_type": "stream",
     "text": [
      "⚠️ Failed to infer DRS zones: No DRS usage detected in lap\n",
      "🔍 Processing 2024 Zandvoort FP1\n",
      "🔍 Processing 2024 Zandvoort FP2\n",
      "🔍 Processing 2024 Zandvoort FP3\n",
      "⚠️ Failed to infer DRS zones: No DRS usage detected in lap\n",
      "🔍 Processing 2024 Zandvoort Q\n"
     ]
    },
    {
     "name": "stderr",
     "output_type": "stream",
     "text": [
      "core        WARNING \tNo lap data for driver 2\n",
      "core        WARNING \tFailed to perform lap accuracy check - all laps marked as inaccurate (driver 2)\n"
     ]
    },
    {
     "name": "stdout",
     "output_type": "stream",
     "text": [
      "🔍 Processing 2024 Zandvoort R\n",
      "⚠️ Failed to infer DRS zones: No DRS usage detected in lap\n",
      "🔍 Processing 2024 Monza FP1\n",
      "🔍 Processing 2024 Monza FP2\n",
      "🔍 Processing 2024 Monza FP3\n",
      "🔍 Processing 2024 Monza Q\n",
      "🔍 Processing 2024 Monza R\n",
      "⚠️ Failed to infer DRS zones: No DRS usage detected in lap\n",
      "🔍 Processing 2024 Baku FP1\n",
      "🔍 Processing 2024 Baku FP2\n",
      "🔍 Processing 2024 Baku FP3\n"
     ]
    },
    {
     "name": "stderr",
     "output_type": "stream",
     "text": [
      "/Users/tomasz.solis/repos/private/f1project/formula1/f1env/lib/python3.11/site-packages/fastf1/core.py:1598: FutureWarning: Setting an item of incompatible dtype is deprecated and will raise an error in a future version of pandas. Value '<TimedeltaArray>\n",
      "['0 days 00:44:25.841000']\n",
      "Length: 1, dtype: timedelta64[ns]' has dtype incompatible with datetime64[ns], please explicitly cast to a compatible dtype first.\n",
      "  result.loc[mask, 'LapStartTime'] = result.loc[mask, 'PitOutTime']\n"
     ]
    },
    {
     "name": "stdout",
     "output_type": "stream",
     "text": [
      "🔍 Processing 2024 Baku Q\n",
      "🔍 Processing 2024 Baku R\n",
      "⚠️ Failed to infer DRS zones: No DRS usage detected in lap\n",
      "🔍 Processing 2024 Marina Bay FP1\n",
      "🔍 Processing 2024 Marina Bay FP2\n",
      "🔍 Processing 2024 Marina Bay FP3\n",
      "🔍 Processing 2024 Marina Bay Q\n",
      "🔍 Processing 2024 Marina Bay R\n",
      "⚠️ Failed to infer DRS zones: No DRS usage detected in lap\n",
      "🔍 Processing 2024 Austin FP1\n",
      "🔍 Processing 2024 Austin S\n"
     ]
    },
    {
     "name": "stderr",
     "output_type": "stream",
     "text": [
      "core        WARNING \tSprint Qualifying is not supported by Ergast! Limited results are calculated from timing data.\n"
     ]
    },
    {
     "name": "stdout",
     "output_type": "stream",
     "text": [
      "⚠️ Failed to infer DRS zones: No DRS usage detected in lap\n",
      "🔍 Processing 2024 Austin SS\n",
      "ℹ️ 2024 Austin has no SS (skipped)\n",
      "⚠️ Skipped 2024 Austin SS: Session loading returned None\n",
      "🔍 Processing 2024 Austin SQ\n",
      "🔍 Processing 2024 Austin Q\n",
      "🔍 Processing 2024 Austin R\n",
      "⚠️ Failed to infer DRS zones: No DRS usage detected in lap\n",
      "🔍 Processing 2024 Mexico City FP1\n"
     ]
    },
    {
     "name": "stderr",
     "output_type": "stream",
     "text": [
      "core        WARNING \tNo lap data for driver 23\n",
      "core        WARNING \tFailed to perform lap accuracy check - all laps marked as inaccurate (driver 23)\n"
     ]
    },
    {
     "name": "stdout",
     "output_type": "stream",
     "text": [
      "🔍 Processing 2024 Mexico City FP2\n",
      "🔍 Processing 2024 Mexico City FP3\n",
      "🔍 Processing 2024 Mexico City Q\n",
      "🔍 Processing 2024 Mexico City R\n",
      "⚠️ Failed to infer DRS zones: No DRS usage detected in lap\n",
      "🔍 Processing 2024 São Paulo FP1\n",
      "🔍 Processing 2024 São Paulo S\n"
     ]
    },
    {
     "name": "stderr",
     "output_type": "stream",
     "text": [
      "core        WARNING \tDriver 4 completed the race distance 00:00.011000 before the recorded end of the session.\n",
      "core        WARNING \tSprint Qualifying is not supported by Ergast! Limited results are calculated from timing data.\n"
     ]
    },
    {
     "name": "stdout",
     "output_type": "stream",
     "text": [
      "🔍 Processing 2024 São Paulo SS\n",
      "ℹ️ 2024 São Paulo has no SS (skipped)\n",
      "⚠️ Skipped 2024 São Paulo SS: Session loading returned None\n",
      "🔍 Processing 2024 São Paulo SQ\n",
      "🔍 Processing 2024 São Paulo Q\n",
      "⚠️ Failed to infer DRS zones: No DRS usage detected in lap\n",
      "🔍 Processing 2024 São Paulo R\n"
     ]
    },
    {
     "name": "stderr",
     "output_type": "stream",
     "text": [
      "core        WARNING \tNo lap data for driver 23\n",
      "core        WARNING \tFailed to perform lap accuracy check - all laps marked as inaccurate (driver 23)\n"
     ]
    },
    {
     "name": "stdout",
     "output_type": "stream",
     "text": [
      "🔍 Processing 2024 Las Vegas FP1\n",
      "🔍 Processing 2024 Las Vegas FP2\n",
      "🔍 Processing 2024 Las Vegas FP3\n",
      "🔍 Processing 2024 Las Vegas Q\n",
      "🔍 Processing 2024 Las Vegas R\n"
     ]
    },
    {
     "name": "stderr",
     "output_type": "stream",
     "text": [
      "core        WARNING \tDriver 63: Lap timing integrity check failed for 2 lap(s)\n",
      "core        WARNING \tDriver 44: Lap timing integrity check failed for 1 lap(s)\n",
      "core        WARNING \tDriver 55: Lap timing integrity check failed for 1 lap(s)\n",
      "core        WARNING \tDriver 16: Lap timing integrity check failed for 2 lap(s)\n",
      "core        WARNING \tDriver  1: Lap timing integrity check failed for 1 lap(s)\n",
      "core        WARNING \tDriver  4: Lap timing integrity check failed for 1 lap(s)\n",
      "core        WARNING \tDriver 81: Lap timing integrity check failed for 1 lap(s)\n",
      "core        WARNING \tDriver 30: Lap timing integrity check failed for 2 lap(s)\n",
      "core        WARNING \tDriver 77: Lap timing integrity check failed for 2 lap(s)\n",
      "core        WARNING \tDriver 63 completed the race distance 00:00.427000 before the recorded end of the session.\n",
      "events      WARNING \tCorrecting user input 'Al Daayen' to 'Italian Grand Prix'\n"
     ]
    },
    {
     "name": "stdout",
     "output_type": "stream",
     "text": [
      "⚠️ Failed to infer DRS zones: No DRS usage detected in lap\n",
      "🔍 Processing 2024 Al Daayen FP1\n"
     ]
    },
    {
     "name": "stderr",
     "output_type": "stream",
     "text": [
      "events      WARNING \tCorrecting user input 'Al Daayen' to 'Italian Grand Prix'\n",
      "events      WARNING \tCorrecting user input 'Al Daayen' to 'Italian Grand Prix'\n",
      "events      WARNING \tCorrecting user input 'Al Daayen' to 'Italian Grand Prix'\n",
      "events      WARNING \tCorrecting user input 'Al Daayen' to 'Italian Grand Prix'\n"
     ]
    },
    {
     "name": "stdout",
     "output_type": "stream",
     "text": [
      "🔍 Processing 2024 Al Daayen S\n",
      "ℹ️ 2024 Al Daayen has no S (skipped)\n",
      "⚠️ Skipped 2024 Al Daayen S: Session loading returned None\n",
      "🔍 Processing 2024 Al Daayen SS\n",
      "ℹ️ 2024 Al Daayen has no SS (skipped)\n",
      "⚠️ Skipped 2024 Al Daayen SS: Session loading returned None\n",
      "🔍 Processing 2024 Al Daayen SQ\n",
      "ℹ️ 2024 Al Daayen has no SQ (skipped)\n",
      "⚠️ Skipped 2024 Al Daayen SQ: Session loading returned None\n",
      "🔍 Processing 2024 Al Daayen Q\n"
     ]
    },
    {
     "name": "stderr",
     "output_type": "stream",
     "text": [
      "events      WARNING \tCorrecting user input 'Al Daayen' to 'Italian Grand Prix'\n"
     ]
    },
    {
     "name": "stdout",
     "output_type": "stream",
     "text": [
      "🔍 Processing 2024 Al Daayen R\n",
      "⚠️ Failed to infer DRS zones: No DRS usage detected in lap\n",
      "🔍 Processing 2024 Abu Dhabi FP1\n",
      "🔍 Processing 2024 Abu Dhabi FP2\n",
      "🔍 Processing 2024 Abu Dhabi FP3\n",
      "🔍 Processing 2024 Abu Dhabi Q\n",
      "🔍 Processing 2024 Abu Dhabi R\n",
      "⚠️ Failed to infer DRS zones: No DRS usage detected in lap\n",
      "\n",
      "✅ Done: 118 sessions parsed, 8 skipped.\n",
      "   year   location session                     event  \\\n",
      "0  2024   Shanghai      SS        Chinese Grand Prix   \n",
      "1  2024      Miami      SS          Miami Grand Prix   \n",
      "2  2024  Spielberg      SS       Austrian Grand Prix   \n",
      "3  2024     Austin      SS  United States Grand Prix   \n",
      "4  2024  São Paulo      SS      São Paulo Grand Prix   \n",
      "5  2024  Al Daayen       S          Qatar Grand Prix   \n",
      "6  2024  Al Daayen      SS          Qatar Grand Prix   \n",
      "7  2024  Al Daayen      SQ          Qatar Grand Prix   \n",
      "\n",
      "                          reason  \n",
      "0  Session loading returned None  \n",
      "1  Session loading returned None  \n",
      "2  Session loading returned None  \n",
      "3  Session loading returned None  \n",
      "4  Session loading returned None  \n",
      "5  Session loading returned None  \n",
      "6  Session loading returned None  \n",
      "7  Session loading returned None  \n"
     ]
    }
   ],
   "source": [
    "profiles, skipped = build_circuit_profile_df(2024, 2024)\n",
    "\n",
    "print(skipped)\n"
   ]
  },
  {
   "cell_type": "code",
   "execution_count": 15,
   "metadata": {},
   "outputs": [
    {
     "data": {
      "text/html": [
       "<div>\n",
       "<style scoped>\n",
       "    .dataframe tbody tr th:only-of-type {\n",
       "        vertical-align: middle;\n",
       "    }\n",
       "\n",
       "    .dataframe tbody tr th {\n",
       "        vertical-align: top;\n",
       "    }\n",
       "\n",
       "    .dataframe thead th {\n",
       "        text-align: right;\n",
       "    }\n",
       "</style>\n",
       "<table border=\"1\" class=\"dataframe\">\n",
       "  <thead>\n",
       "    <tr style=\"text-align: right;\">\n",
       "      <th></th>\n",
       "      <th>year</th>\n",
       "      <th>location</th>\n",
       "      <th>event</th>\n",
       "      <th>session</th>\n",
       "      <th>real_altitude</th>\n",
       "      <th>lap_length</th>\n",
       "      <th>num_drs_zones</th>\n",
       "      <th>drs_total_len_m</th>\n",
       "      <th>drs_pct_of_lap</th>\n",
       "      <th>avg_speed</th>\n",
       "      <th>top_speed</th>\n",
       "      <th>braking_events</th>\n",
       "      <th>low_pct</th>\n",
       "      <th>med_pct</th>\n",
       "      <th>high_pct</th>\n",
       "      <th>slow_corners</th>\n",
       "      <th>medium_corners</th>\n",
       "      <th>fast_corners</th>\n",
       "      <th>chicanes</th>\n",
       "    </tr>\n",
       "  </thead>\n",
       "  <tbody>\n",
       "    <tr>\n",
       "      <th>0</th>\n",
       "      <td>2024</td>\n",
       "      <td>Sakhir</td>\n",
       "      <td>Bahrain Grand Prix</td>\n",
       "      <td>FP1</td>\n",
       "      <td>10.0</td>\n",
       "      <td>5357.197222</td>\n",
       "      <td>3</td>\n",
       "      <td>3638.044722</td>\n",
       "      <td>0.679095</td>\n",
       "      <td>206.997167</td>\n",
       "      <td>310.0</td>\n",
       "      <td>11</td>\n",
       "      <td>0.124646</td>\n",
       "      <td>0.286119</td>\n",
       "      <td>0.589235</td>\n",
       "      <td>3</td>\n",
       "      <td>4</td>\n",
       "      <td>2</td>\n",
       "      <td>0</td>\n",
       "    </tr>\n",
       "    <tr>\n",
       "      <th>1</th>\n",
       "      <td>2024</td>\n",
       "      <td>Sakhir</td>\n",
       "      <td>Bahrain Grand Prix</td>\n",
       "      <td>FP2</td>\n",
       "      <td>10.0</td>\n",
       "      <td>5342.252778</td>\n",
       "      <td>3</td>\n",
       "      <td>3627.975278</td>\n",
       "      <td>0.679110</td>\n",
       "      <td>213.737952</td>\n",
       "      <td>316.0</td>\n",
       "      <td>10</td>\n",
       "      <td>0.114458</td>\n",
       "      <td>0.268072</td>\n",
       "      <td>0.617470</td>\n",
       "      <td>2</td>\n",
       "      <td>0</td>\n",
       "      <td>0</td>\n",
       "      <td>0</td>\n",
       "    </tr>\n",
       "    <tr>\n",
       "      <th>2</th>\n",
       "      <td>2024</td>\n",
       "      <td>Sakhir</td>\n",
       "      <td>Bahrain Grand Prix</td>\n",
       "      <td>FP3</td>\n",
       "      <td>10.0</td>\n",
       "      <td>5390.449722</td>\n",
       "      <td>3</td>\n",
       "      <td>3651.490278</td>\n",
       "      <td>0.677400</td>\n",
       "      <td>212.495652</td>\n",
       "      <td>316.0</td>\n",
       "      <td>10</td>\n",
       "      <td>0.124638</td>\n",
       "      <td>0.255072</td>\n",
       "      <td>0.620290</td>\n",
       "      <td>2</td>\n",
       "      <td>4</td>\n",
       "      <td>1</td>\n",
       "      <td>1</td>\n",
       "    </tr>\n",
       "    <tr>\n",
       "      <th>3</th>\n",
       "      <td>2024</td>\n",
       "      <td>Sakhir</td>\n",
       "      <td>Bahrain Grand Prix</td>\n",
       "      <td>Q</td>\n",
       "      <td>10.0</td>\n",
       "      <td>5369.465278</td>\n",
       "      <td>3</td>\n",
       "      <td>3650.405278</td>\n",
       "      <td>0.679845</td>\n",
       "      <td>215.886567</td>\n",
       "      <td>319.0</td>\n",
       "      <td>15</td>\n",
       "      <td>0.119403</td>\n",
       "      <td>0.259701</td>\n",
       "      <td>0.620896</td>\n",
       "      <td>2</td>\n",
       "      <td>3</td>\n",
       "      <td>3</td>\n",
       "      <td>1</td>\n",
       "    </tr>\n",
       "    <tr>\n",
       "      <th>4</th>\n",
       "      <td>2024</td>\n",
       "      <td>Sakhir</td>\n",
       "      <td>Bahrain Grand Prix</td>\n",
       "      <td>R</td>\n",
       "      <td>10.0</td>\n",
       "      <td>5356.580278</td>\n",
       "      <td>0</td>\n",
       "      <td>0.000000</td>\n",
       "      <td>NaN</td>\n",
       "      <td>208.853868</td>\n",
       "      <td>301.0</td>\n",
       "      <td>7</td>\n",
       "      <td>0.120344</td>\n",
       "      <td>0.269341</td>\n",
       "      <td>0.610315</td>\n",
       "      <td>3</td>\n",
       "      <td>4</td>\n",
       "      <td>1</td>\n",
       "      <td>0</td>\n",
       "    </tr>\n",
       "    <tr>\n",
       "      <th>...</th>\n",
       "      <td>...</td>\n",
       "      <td>...</td>\n",
       "      <td>...</td>\n",
       "      <td>...</td>\n",
       "      <td>...</td>\n",
       "      <td>...</td>\n",
       "      <td>...</td>\n",
       "      <td>...</td>\n",
       "      <td>...</td>\n",
       "      <td>...</td>\n",
       "      <td>...</td>\n",
       "      <td>...</td>\n",
       "      <td>...</td>\n",
       "      <td>...</td>\n",
       "      <td>...</td>\n",
       "      <td>...</td>\n",
       "      <td>...</td>\n",
       "      <td>...</td>\n",
       "      <td>...</td>\n",
       "    </tr>\n",
       "    <tr>\n",
       "      <th>113</th>\n",
       "      <td>2024</td>\n",
       "      <td>Abu Dhabi</td>\n",
       "      <td>Abu Dhabi Grand Prix</td>\n",
       "      <td>FP1</td>\n",
       "      <td>1.0</td>\n",
       "      <td>5220.736667</td>\n",
       "      <td>3</td>\n",
       "      <td>3760.578611</td>\n",
       "      <td>0.720316</td>\n",
       "      <td>221.600601</td>\n",
       "      <td>328.0</td>\n",
       "      <td>7</td>\n",
       "      <td>0.099099</td>\n",
       "      <td>0.270270</td>\n",
       "      <td>0.630631</td>\n",
       "      <td>1</td>\n",
       "      <td>3</td>\n",
       "      <td>2</td>\n",
       "      <td>0</td>\n",
       "    </tr>\n",
       "    <tr>\n",
       "      <th>114</th>\n",
       "      <td>2024</td>\n",
       "      <td>Abu Dhabi</td>\n",
       "      <td>Abu Dhabi Grand Prix</td>\n",
       "      <td>FP2</td>\n",
       "      <td>1.0</td>\n",
       "      <td>5225.690556</td>\n",
       "      <td>3</td>\n",
       "      <td>3691.926944</td>\n",
       "      <td>0.706496</td>\n",
       "      <td>223.424837</td>\n",
       "      <td>324.0</td>\n",
       "      <td>12</td>\n",
       "      <td>0.094771</td>\n",
       "      <td>0.277778</td>\n",
       "      <td>0.627451</td>\n",
       "      <td>0</td>\n",
       "      <td>6</td>\n",
       "      <td>1</td>\n",
       "      <td>1</td>\n",
       "    </tr>\n",
       "    <tr>\n",
       "      <th>115</th>\n",
       "      <td>2024</td>\n",
       "      <td>Abu Dhabi</td>\n",
       "      <td>Abu Dhabi Grand Prix</td>\n",
       "      <td>FP3</td>\n",
       "      <td>1.0</td>\n",
       "      <td>5226.500000</td>\n",
       "      <td>3</td>\n",
       "      <td>3762.391111</td>\n",
       "      <td>0.719868</td>\n",
       "      <td>223.435737</td>\n",
       "      <td>328.0</td>\n",
       "      <td>10</td>\n",
       "      <td>0.094044</td>\n",
       "      <td>0.278997</td>\n",
       "      <td>0.626959</td>\n",
       "      <td>2</td>\n",
       "      <td>3</td>\n",
       "      <td>3</td>\n",
       "      <td>1</td>\n",
       "    </tr>\n",
       "    <tr>\n",
       "      <th>116</th>\n",
       "      <td>2024</td>\n",
       "      <td>Abu Dhabi</td>\n",
       "      <td>Abu Dhabi Grand Prix</td>\n",
       "      <td>Q</td>\n",
       "      <td>1.0</td>\n",
       "      <td>5211.091667</td>\n",
       "      <td>3</td>\n",
       "      <td>3689.376389</td>\n",
       "      <td>0.707985</td>\n",
       "      <td>228.103125</td>\n",
       "      <td>324.0</td>\n",
       "      <td>10</td>\n",
       "      <td>0.087500</td>\n",
       "      <td>0.246875</td>\n",
       "      <td>0.665625</td>\n",
       "      <td>1</td>\n",
       "      <td>3</td>\n",
       "      <td>4</td>\n",
       "      <td>2</td>\n",
       "    </tr>\n",
       "    <tr>\n",
       "      <th>117</th>\n",
       "      <td>2024</td>\n",
       "      <td>Abu Dhabi</td>\n",
       "      <td>Abu Dhabi Grand Prix</td>\n",
       "      <td>R</td>\n",
       "      <td>1.0</td>\n",
       "      <td>5234.330278</td>\n",
       "      <td>0</td>\n",
       "      <td>0.000000</td>\n",
       "      <td>NaN</td>\n",
       "      <td>219.884375</td>\n",
       "      <td>317.0</td>\n",
       "      <td>11</td>\n",
       "      <td>0.109375</td>\n",
       "      <td>0.275000</td>\n",
       "      <td>0.615625</td>\n",
       "      <td>2</td>\n",
       "      <td>4</td>\n",
       "      <td>3</td>\n",
       "      <td>3</td>\n",
       "    </tr>\n",
       "  </tbody>\n",
       "</table>\n",
       "<p>118 rows × 19 columns</p>\n",
       "</div>"
      ],
      "text/plain": [
       "     year   location                 event session  real_altitude  \\\n",
       "0    2024     Sakhir    Bahrain Grand Prix     FP1           10.0   \n",
       "1    2024     Sakhir    Bahrain Grand Prix     FP2           10.0   \n",
       "2    2024     Sakhir    Bahrain Grand Prix     FP3           10.0   \n",
       "3    2024     Sakhir    Bahrain Grand Prix       Q           10.0   \n",
       "4    2024     Sakhir    Bahrain Grand Prix       R           10.0   \n",
       "..    ...        ...                   ...     ...            ...   \n",
       "113  2024  Abu Dhabi  Abu Dhabi Grand Prix     FP1            1.0   \n",
       "114  2024  Abu Dhabi  Abu Dhabi Grand Prix     FP2            1.0   \n",
       "115  2024  Abu Dhabi  Abu Dhabi Grand Prix     FP3            1.0   \n",
       "116  2024  Abu Dhabi  Abu Dhabi Grand Prix       Q            1.0   \n",
       "117  2024  Abu Dhabi  Abu Dhabi Grand Prix       R            1.0   \n",
       "\n",
       "      lap_length  num_drs_zones  drs_total_len_m  drs_pct_of_lap   avg_speed  \\\n",
       "0    5357.197222              3      3638.044722        0.679095  206.997167   \n",
       "1    5342.252778              3      3627.975278        0.679110  213.737952   \n",
       "2    5390.449722              3      3651.490278        0.677400  212.495652   \n",
       "3    5369.465278              3      3650.405278        0.679845  215.886567   \n",
       "4    5356.580278              0         0.000000             NaN  208.853868   \n",
       "..           ...            ...              ...             ...         ...   \n",
       "113  5220.736667              3      3760.578611        0.720316  221.600601   \n",
       "114  5225.690556              3      3691.926944        0.706496  223.424837   \n",
       "115  5226.500000              3      3762.391111        0.719868  223.435737   \n",
       "116  5211.091667              3      3689.376389        0.707985  228.103125   \n",
       "117  5234.330278              0         0.000000             NaN  219.884375   \n",
       "\n",
       "     top_speed  braking_events   low_pct   med_pct  high_pct  slow_corners  \\\n",
       "0        310.0              11  0.124646  0.286119  0.589235             3   \n",
       "1        316.0              10  0.114458  0.268072  0.617470             2   \n",
       "2        316.0              10  0.124638  0.255072  0.620290             2   \n",
       "3        319.0              15  0.119403  0.259701  0.620896             2   \n",
       "4        301.0               7  0.120344  0.269341  0.610315             3   \n",
       "..         ...             ...       ...       ...       ...           ...   \n",
       "113      328.0               7  0.099099  0.270270  0.630631             1   \n",
       "114      324.0              12  0.094771  0.277778  0.627451             0   \n",
       "115      328.0              10  0.094044  0.278997  0.626959             2   \n",
       "116      324.0              10  0.087500  0.246875  0.665625             1   \n",
       "117      317.0              11  0.109375  0.275000  0.615625             2   \n",
       "\n",
       "     medium_corners  fast_corners  chicanes  \n",
       "0                 4             2         0  \n",
       "1                 0             0         0  \n",
       "2                 4             1         1  \n",
       "3                 3             3         1  \n",
       "4                 4             1         0  \n",
       "..              ...           ...       ...  \n",
       "113               3             2         0  \n",
       "114               6             1         1  \n",
       "115               3             3         1  \n",
       "116               3             4         2  \n",
       "117               4             3         3  \n",
       "\n",
       "[118 rows x 19 columns]"
      ]
     },
     "execution_count": 15,
     "metadata": {},
     "output_type": "execute_result"
    }
   ],
   "source": [
    "profiles"
   ]
  },
  {
   "attachments": {},
   "cell_type": "markdown",
   "metadata": {},
   "source": [
    "# Work in progress"
   ]
  },
  {
   "attachments": {},
   "cell_type": "markdown",
   "metadata": {},
   "source": [
    "1. quali pace\n",
    "2. race pace\n",
    "3. Pirelli tire info\n",
    "4. when to query the data?\n",
    "    - the time of the race is not consistent\n",
    "    - on sprint race weekends the quali takes place on Friday\n",
    "    - US/Asia/Australia races happen at different times"
   ]
  },
  {
   "cell_type": "code",
   "execution_count": null,
   "metadata": {},
   "outputs": [],
   "source": []
  },
  {
   "cell_type": "code",
   "execution_count": 18,
   "metadata": {},
   "outputs": [],
   "source": [
    "def create_pirelli_tyre_info(location, traction, evolution, lateral_load, abrasion, braking, grip, tyre_stress, downforce):\n",
    "    return pd.DataFrame([{\n",
    "        'Location': location,\n",
    "        'traction': traction,\n",
    "        'evolution': evolution,\n",
    "        'lateral_load': lateral_load,\n",
    "        'abrasion': abrasion,\n",
    "        'braking': braking,\n",
    "        'grip': grip,\n",
    "        'tyre_stress': tyre_stress,\n",
    "        'downforce':downforce\n",
    "        }])\n"
   ]
  },
  {
   "cell_type": "code",
   "execution_count": null,
   "metadata": {},
   "outputs": [],
   "source": [
    "bahrain_pirelli = create_pirelli_tyre_info('Sakhir', 4, 4, 3, 5, 4, 3, 3, 3)\n",
    "jeddah_pirelli = create_pirelli_tyre_info('Jeddah', 2, 3, 4, 2, 2, 3, 3, 2)\n",
    "melbourne_pirelli = create_pirelli_tyre_info('Melbourne', 2, 4, 3, 2, 2, 3, 3, 3)\n",
    "baku_pirelli = create_pirelli_tyre_info('Baku', 5, 5, 1, 1, 4, 1, 3, 1)\n",
    "miami_pirelli = create_pirelli_tyre_info('Miami',3,5,3,2,3,3,3,2)\n",
    "monaco_pirelli = create_pirelli_tyre_info('Monaco', 5,5,1,1,2,1,1,5)\n",
    "barcelona_pirelli = create_pirelli_tyre_info('Barcelona', 3,3,5,4,3,3,5,4) #2023\n",
    "barcelona_pirelli = create_pirelli_tyre_info('Barcelona', 3,3,4,4,3,3,4,4) #2022\n",
    "montreal_pirelli = create_pirelli_tyre_info('Montreal', 5,5,1,2,5,1,3,1)\n",
    "\n",
    "spielberg_pirelli = create_pirelli_tyre_info('Spielberg', 2,3,5)\n",
    "silverstone_pirelli = create_pirelli_tyre_info('Silverstone', 4,4,10)\n",
    "budapest_pirelli = create_pirelli_tyre_info('Budapest', 3,7,4)\n",
    "spa_pirelli = create_pirelli_tyre_info('Spa', 3,8,8)\n",
    "imola_pirelli = create_pirelli_tyre_info('Imola', 5,3,11)\n",
    "abu_dhabi_pirelli = create_pirelli_tyre_info('Abu Dhabi',3,6,7)\n",
    "las_vegas_pirelli = create_pirelli_tyre_info('Las Vegas', 7,4,6)\n",
    "mexico_pirelli = create_pirelli_tyre_info('Mexico City', 7,6,4)\n",
    "sao_paulo_pirelli = create_pirelli_tyre_info('Sao Paulo', 1,6,8)\n",
    "suzuka_pirelli = create_pirelli_tyre_info('Suzuka', 3,4,11)\n",
    "qatar_pirelli = create_pirelli_tyre_info('Qatar', 1,4,11)\n",
    "austin_pirelli = create_pirelli_tyre_info('Austin', 7,5,8)\n",
    "zandvoort_pirelli = create_pirelli_tyre_info('Zandvoort', 2,6,6)\n",
    "monza_pirelli = create_pirelli_tyre_info('Monza', 2,5,4)\n",
    "singapore_pirelli = create_pirelli_tyre_info('Singapore', 10,8,5) #2022\n",
    "singapore_pirelli = create_pirelli_tyre_info('Singapore', 7,7,5) #2023\n"
   ]
  },
  {
   "cell_type": "code",
   "execution_count": null,
   "metadata": {},
   "outputs": [],
   "source": [
    "pirelli = pd.concat([\n",
    "    bahrain_pirelli,\n",
    "    jeddah_pirelli,\n",
    "    melbourne_pirelli,\n",
    "    baku_pirelli,\n",
    "    miami_pirelli ,\n",
    "    monaco_pirelli ,\n",
    "    barcelona_pirelli,\n",
    "    montreal_pirelli ,\n",
    "    ], \n",
    "    ignore_index=True\n",
    "    )"
   ]
  }
 ],
 "metadata": {
  "kernelspec": {
   "display_name": "Python (f1env)",
   "language": "python",
   "name": "f1env"
  },
  "language_info": {
   "codemirror_mode": {
    "name": "ipython",
    "version": 3
   },
   "file_extension": ".py",
   "mimetype": "text/x-python",
   "name": "python",
   "nbconvert_exporter": "python",
   "pygments_lexer": "ipython3",
   "version": "3.11.11"
  }
 },
 "nbformat": 4,
 "nbformat_minor": 4
}
