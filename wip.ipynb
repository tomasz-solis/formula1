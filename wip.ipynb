{
 "cells": [
  {
   "cell_type": "markdown",
   "metadata": {},
   "source": [
    "# Testing"
   ]
  },
  {
   "cell_type": "code",
   "execution_count": null,
   "metadata": {},
   "outputs": [],
   "source": [
    "from helpers import load_session, get_all_driver_features, merge_driver_features_with_session, load_or_build_profiles, build_circuit_profile_df\n",
    "\n",
    "import pandas as pd\n",
    "import numpy as np"
   ]
  },
  {
   "cell_type": "code",
   "execution_count": null,
   "metadata": {},
   "outputs": [],
   "source": [
    "YEAR          = 2024\n",
    "EVENT_NAME    = \"Spanish Grand Prix\"     # exactly as FastF1 knows it\n",
    "SESSION_LABEL = \"FP2\"\n",
    "\n",
    "session_data  = load_session(YEAR, EVENT_NAME, SESSION_LABEL)\n",
    "\n",
    "if session_data[\"status\"] != \"ok\":      # FastF1 returned an error and no\n",
    "    raise RuntimeError(session_data[\"reason\"])  # fallback OpenF1 yet\n",
    "\n",
    "session       = session_data[\"session\"]  # FastF1.Session object"
   ]
  },
  {
   "cell_type": "code",
   "execution_count": null,
   "metadata": {},
   "outputs": [],
   "source": [
    "driver_df = get_all_driver_features(\n",
    "    session,\n",
    "    year=YEAR,\n",
    "    session_name=SESSION_LABEL,\n",
    "    throttle_ratio_min=0.40,\n",
    "    throttle_ratio_max=0.85,\n",
    "    braking_drop_kmh=30\n",
    ")\n",
    "print(driver_df.head(3))"
   ]
  },
  {
   "cell_type": "code",
   "execution_count": null,
   "metadata": {},
   "outputs": [],
   "source": [
    "driver_df"
   ]
  },
  {
   "cell_type": "code",
   "execution_count": null,
   "metadata": {},
   "outputs": [],
   "source": [
    "df_profiles, df_skipped = load_or_build_profiles(\n",
    "    cache_path=\"data/circuit_profiles.csv\",\n",
    "    start_year=2024,\n",
    "    end_year=2025\n",
    ")"
   ]
  },
  {
   "cell_type": "code",
   "execution_count": null,
   "metadata": {},
   "outputs": [],
   "source": [
    "df_profiles.loc[df_profiles.event=='Spanish Grand Prix']"
   ]
  },
  {
   "cell_type": "code",
   "execution_count": null,
   "metadata": {},
   "outputs": [],
   "source": [
    "merge_driver_features_with_session(driver_df, df_profiles)"
   ]
  },
  {
   "cell_type": "code",
   "execution_count": null,
   "metadata": {},
   "outputs": [],
   "source": []
  },
  {
   "attachments": {},
   "cell_type": "markdown",
   "metadata": {},
   "source": [
    "# Work in progress"
   ]
  },
  {
   "attachments": {},
   "cell_type": "markdown",
   "metadata": {},
   "source": [
    "1. quali pace\n",
    "2. race pace\n",
    "3. Pirelli tire info\n",
    "4. when to query the data?\n",
    "    - the time of the race is not consistent\n",
    "    - on sprint race weekends the quali takes place on Friday\n",
    "    - US/Asia/Australia races happen at different times"
   ]
  },
  {
   "cell_type": "code",
   "execution_count": null,
   "metadata": {},
   "outputs": [],
   "source": []
  },
  {
   "cell_type": "code",
   "execution_count": null,
   "metadata": {},
   "outputs": [],
   "source": [
    "def create_pirelli_tyre_info(location, traction, evolution, lateral_load, abrasion, braking, grip, tyre_stress, downforce):\n",
    "    return pd.DataFrame([{\n",
    "        'Location': location,\n",
    "        'traction': traction,\n",
    "        'evolution': evolution,\n",
    "        'lateral_load': lateral_load,\n",
    "        'abrasion': abrasion,\n",
    "        'braking': braking,\n",
    "        'grip': grip,\n",
    "        'tyre_stress': tyre_stress,\n",
    "        'downforce':downforce\n",
    "        }])\n"
   ]
  },
  {
   "cell_type": "code",
   "execution_count": null,
   "metadata": {},
   "outputs": [],
   "source": [
    "bahrain_pirelli = create_pirelli_tyre_info('Sakhir', 4, 4, 3, 5, 4, 3, 3, 3)\n",
    "jeddah_pirelli = create_pirelli_tyre_info('Jeddah', 2, 3, 4, 2, 2, 3, 3, 2)\n",
    "melbourne_pirelli = create_pirelli_tyre_info('Melbourne', 2, 4, 3, 2, 2, 3, 3, 3)\n",
    "baku_pirelli = create_pirelli_tyre_info('Baku', 5, 5, 1, 1, 4, 1, 3, 1)\n",
    "miami_pirelli = create_pirelli_tyre_info('Miami',3,5,3,2,3,3,3,2)\n",
    "monaco_pirelli = create_pirelli_tyre_info('Monaco', 5,5,1,1,2,1,1,5)\n",
    "barcelona_pirelli = create_pirelli_tyre_info('Barcelona', 3,3,5,4,3,3,5,4) #2023\n",
    "barcelona_pirelli = create_pirelli_tyre_info('Barcelona', 3,3,4,4,3,3,4,4) #2022\n",
    "montreal_pirelli = create_pirelli_tyre_info('Montreal', 5,5,1,2,5,1,3,1)\n",
    "\n",
    "spielberg_pirelli = create_pirelli_tyre_info('Spielberg', 2,3,5)\n",
    "silverstone_pirelli = create_pirelli_tyre_info('Silverstone', 4,4,10)\n",
    "budapest_pirelli = create_pirelli_tyre_info('Budapest', 3,7,4)\n",
    "spa_pirelli = create_pirelli_tyre_info('Spa', 3,8,8)\n",
    "imola_pirelli = create_pirelli_tyre_info('Imola', 5,3,11)\n",
    "abu_dhabi_pirelli = create_pirelli_tyre_info('Abu Dhabi',3,6,7)\n",
    "las_vegas_pirelli = create_pirelli_tyre_info('Las Vegas', 7,4,6)\n",
    "mexico_pirelli = create_pirelli_tyre_info('Mexico City', 7,6,4)\n",
    "sao_paulo_pirelli = create_pirelli_tyre_info('Sao Paulo', 1,6,8)\n",
    "suzuka_pirelli = create_pirelli_tyre_info('Suzuka', 3,4,11)\n",
    "qatar_pirelli = create_pirelli_tyre_info('Qatar', 1,4,11)\n",
    "austin_pirelli = create_pirelli_tyre_info('Austin', 7,5,8)\n",
    "zandvoort_pirelli = create_pirelli_tyre_info('Zandvoort', 2,6,6)\n",
    "monza_pirelli = create_pirelli_tyre_info('Monza', 2,5,4)\n",
    "singapore_pirelli = create_pirelli_tyre_info('Singapore', 10,8,5) #2022\n",
    "singapore_pirelli = create_pirelli_tyre_info('Singapore', 7,7,5) #2023\n"
   ]
  },
  {
   "cell_type": "code",
   "execution_count": null,
   "metadata": {},
   "outputs": [],
   "source": [
    "pirelli = pd.concat([\n",
    "    bahrain_pirelli,\n",
    "    jeddah_pirelli,\n",
    "    melbourne_pirelli,\n",
    "    baku_pirelli,\n",
    "    miami_pirelli ,\n",
    "    monaco_pirelli ,\n",
    "    barcelona_pirelli,\n",
    "    montreal_pirelli ,\n",
    "    ], \n",
    "    ignore_index=True\n",
    "    )"
   ]
  }
 ],
 "metadata": {
  "kernelspec": {
   "display_name": "Python (f1env)",
   "language": "python",
   "name": "f1env"
  },
  "language_info": {
   "codemirror_mode": {
    "name": "ipython",
    "version": 3
   },
   "file_extension": ".py",
   "mimetype": "text/x-python",
   "name": "python",
   "nbconvert_exporter": "python",
   "pygments_lexer": "ipython3",
   "version": "3.11.11"
  }
 },
 "nbformat": 4,
 "nbformat_minor": 4
}
