{
 "cells": [
  {
   "cell_type": "markdown",
   "metadata": {},
   "source": [
    "# Testing"
   ]
  },
  {
   "cell_type": "code",
   "execution_count": null,
   "metadata": {},
   "outputs": [],
   "source": [
    "from helpers import load_session, get_all_driver_features, merge_driver_features_with_session, load_or_build_profiles, build_circuit_profile_df\n",
    "\n",
    "import pandas as pd\n",
    "import numpy as np"
   ]
  },
  {
   "cell_type": "code",
   "execution_count": null,
   "metadata": {},
   "outputs": [],
   "source": [
    "YEAR          = 2024\n",
    "EVENT_NAME    = \"Spanish Grand Prix\"     # exactly as FastF1 knows it\n",
    "SESSION_LABEL = \"FP2\"\n",
    "\n",
    "session_data  = load_session(YEAR, EVENT_NAME, SESSION_LABEL)\n",
    "\n",
    "if session_data[\"status\"] != \"ok\":      # FastF1 returned an error and no\n",
    "    raise RuntimeError(session_data[\"reason\"])  # fallback OpenF1 yet\n",
    "\n",
    "session       = session_data[\"session\"]  # FastF1.Session object"
   ]
  },
  {
   "cell_type": "code",
   "execution_count": null,
   "metadata": {},
   "outputs": [],
   "source": [
    "driver_df = get_all_driver_features(\n",
    "    session,\n",
    "    year=YEAR,\n",
    "    session_name=SESSION_LABEL,\n",
    "    throttle_ratio_min=0.40,\n",
    "    throttle_ratio_max=0.85,\n",
    "    braking_drop_kmh=30\n",
    ")\n",
    "print(driver_df.head(3))"
   ]
  },
  {
   "cell_type": "code",
   "execution_count": null,
   "metadata": {},
   "outputs": [],
   "source": [
    "driver_df"
   ]
  },
  {
   "cell_type": "code",
   "execution_count": null,
   "metadata": {},
   "outputs": [],
   "source": [
    "df_profiles, df_skipped = load_or_build_profiles(\n",
    "    cache_path=\"data/circuit_profiles.csv\",\n",
    "    start_year=2024,\n",
    "    end_year=2025\n",
    ")"
   ]
  },
  {
   "cell_type": "code",
   "execution_count": null,
   "metadata": {},
   "outputs": [],
   "source": [
    "df_profiles.loc[df_profiles.event=='Spanish Grand Prix']"
   ]
  },
  {
   "cell_type": "code",
   "execution_count": null,
   "metadata": {},
   "outputs": [],
   "source": [
    "merge_driver_features_with_session(driver_df, df_profiles)"
   ]
  },
  {
   "cell_type": "code",
   "execution_count": 24,
   "metadata": {},
   "outputs": [],
   "source": [
    "import fastf1 as ff1\n",
    "s = ff1.get_event_schedule(2025, backend=\"fastf1\").head()"
   ]
  },
  {
   "cell_type": "code",
   "execution_count": 33,
   "metadata": {},
   "outputs": [],
   "source": [
    "def _session_list(\n",
    "    event_format: str,\n",
    "    *,\n",
    "    testing_labels: str = \"fastf1\"\n",
    ") -> list[str]:\n",
    "    \"\"\"\n",
    "    Return the session labels we expect telemetry for, given the\n",
    "    EventFormat string that comes from `ff1.get_event_schedule`.\n",
    "\n",
    "    Parameters\n",
    "    ----------\n",
    "    event_format : str\n",
    "        Ergast/FastF1 field – e.g. \"conventional\", \"sprint_qualifying\",\n",
    "        \"sprint_shootout\", \"testing\".\n",
    "    testing_labels : {\"fastf1\", \"f1timing\"}\n",
    "        Which naming convention to use for *testing* events:\n",
    "\n",
    "        - \"fastf1\"   → FP1 / FP2 / FP3  \n",
    "        - \"f1timing\" → Day 1 / Day 2 / Day 3\n",
    "\n",
    "    Returns\n",
    "    -------\n",
    "    list[str]\n",
    "        Ordered list of session strings to iterate over.\n",
    "    \"\"\"\n",
    "    fmt = (event_format or \"\").lower()\n",
    "\n",
    "    # 1) Normal race weekend\n",
    "    if fmt == \"conventional\":\n",
    "        return [\"FP1\", \"FP2\", \"FP3\", \"Q\", \"R\"]\n",
    "\n",
    "    # 2) Sprint weekend (covers both \"sprint_qualifying\" & \"sprint_shootout\")\n",
    "    if fmt.startswith(\"sprint\"):\n",
    "        return [\"FP1\", \"SQ\", \"S\", \"Q\", \"R\"]\n",
    "\n",
    "    # 3) Pre-season or in-season testing\n",
    "    if fmt == \"testing\":\n",
    "        if testing_labels == \"f1timing\":\n",
    "            return [\"Day 1\", \"Day 2\", \"Day 3\"]\n",
    "        # default: FastF1 naming\n",
    "        return [\"FP1\", \"FP2\", \"FP3\"]\n",
    "\n",
    "    # 4) Fallback – be conservative\n",
    "    return [\"FP1\", \"FP2\", \"FP3\", \"Q\", \"R\"]"
   ]
  },
  {
   "cell_type": "code",
   "execution_count": 34,
   "metadata": {},
   "outputs": [
    {
     "data": {
      "text/plain": [
       "['FP1', 'FP2', 'FP3']"
      ]
     },
     "execution_count": 34,
     "metadata": {},
     "output_type": "execute_result"
    }
   ],
   "source": [
    "_session_list('testing')"
   ]
  },
  {
   "attachments": {},
   "cell_type": "markdown",
   "metadata": {},
   "source": [
    "# Work in progress"
   ]
  },
  {
   "attachments": {},
   "cell_type": "markdown",
   "metadata": {},
   "source": [
    "1. quali pace\n",
    "2. race pace\n",
    "3. Pirelli tire info\n",
    "4. when to query the data?\n",
    "    - the time of the race is not consistent\n",
    "    - on sprint race weekends the quali takes place on Friday\n",
    "    - US/Asia/Australia races happen at different times"
   ]
  },
  {
   "cell_type": "code",
   "execution_count": null,
   "metadata": {},
   "outputs": [],
   "source": []
  },
  {
   "cell_type": "code",
   "execution_count": 8,
   "metadata": {},
   "outputs": [],
   "source": [
    "def create_pirelli_tyre_info(location, traction, evolution, lateral_load, abrasion, braking, grip, tyre_stress, downforce, year):\n",
    "    return pd.DataFrame([{\n",
    "        'location': location,\n",
    "        'traction': traction,\n",
    "        'evolution': evolution,\n",
    "        'lateral_load': lateral_load,\n",
    "        'abrasion': abrasion,\n",
    "        'braking': braking,\n",
    "        'grip': grip,\n",
    "        'tyre_stress': tyre_stress,\n",
    "        'downforce': downforce,\n",
    "        'year': year\n",
    "        }])\n"
   ]
  },
  {
   "cell_type": "code",
   "execution_count": 9,
   "metadata": {},
   "outputs": [
    {
     "ename": "TypeError",
     "evalue": "create_pirelli_tyre_info() missing 1 required positional argument: 'year'",
     "output_type": "error",
     "traceback": [
      "\u001b[31m---------------------------------------------------------------------------\u001b[39m",
      "\u001b[31mTypeError\u001b[39m                                 Traceback (most recent call last)",
      "\u001b[36mCell\u001b[39m\u001b[36m \u001b[39m\u001b[32mIn[9]\u001b[39m\u001b[32m, line 1\u001b[39m\n\u001b[32m----> \u001b[39m\u001b[32m1\u001b[39m bahrain_pirelli = \u001b[43mcreate_pirelli_tyre_info\u001b[49m\u001b[43m(\u001b[49m\u001b[33;43m'\u001b[39;49m\u001b[33;43mSakhir\u001b[39;49m\u001b[33;43m'\u001b[39;49m\u001b[43m,\u001b[49m\u001b[43m \u001b[49m\u001b[32;43m4\u001b[39;49m\u001b[43m,\u001b[49m\u001b[43m \u001b[49m\u001b[32;43m4\u001b[39;49m\u001b[43m,\u001b[49m\u001b[43m \u001b[49m\u001b[32;43m3\u001b[39;49m\u001b[43m,\u001b[49m\u001b[43m \u001b[49m\u001b[32;43m5\u001b[39;49m\u001b[43m,\u001b[49m\u001b[43m \u001b[49m\u001b[32;43m4\u001b[39;49m\u001b[43m,\u001b[49m\u001b[43m \u001b[49m\u001b[32;43m3\u001b[39;49m\u001b[43m,\u001b[49m\u001b[43m \u001b[49m\u001b[32;43m3\u001b[39;49m\u001b[43m,\u001b[49m\u001b[43m \u001b[49m\u001b[32;43m3\u001b[39;49m\u001b[43m)\u001b[49m\n\u001b[32m      2\u001b[39m jeddah_pirelli = create_pirelli_tyre_info(\u001b[33m'\u001b[39m\u001b[33mJeddah\u001b[39m\u001b[33m'\u001b[39m, \u001b[32m2\u001b[39m, \u001b[32m3\u001b[39m, \u001b[32m4\u001b[39m, \u001b[32m2\u001b[39m, \u001b[32m2\u001b[39m, \u001b[32m3\u001b[39m, \u001b[32m3\u001b[39m, \u001b[32m2\u001b[39m)\n\u001b[32m      3\u001b[39m melbourne_pirelli = create_pirelli_tyre_info(\u001b[33m'\u001b[39m\u001b[33mMelbourne\u001b[39m\u001b[33m'\u001b[39m, \u001b[32m2\u001b[39m, \u001b[32m4\u001b[39m, \u001b[32m3\u001b[39m, \u001b[32m2\u001b[39m, \u001b[32m2\u001b[39m, \u001b[32m3\u001b[39m, \u001b[32m3\u001b[39m, \u001b[32m3\u001b[39m)\n",
      "\u001b[31mTypeError\u001b[39m: create_pirelli_tyre_info() missing 1 required positional argument: 'year'"
     ]
    }
   ],
   "source": [
    "bahrain_pirelli = create_pirelli_tyre_info('Sakhir', 4, 4, 3, 5, 4, 3, 3, 3)\n",
    "jeddah_pirelli = create_pirelli_tyre_info('Jeddah', 2, 3, 4, 2, 2, 3, 3, 2)\n",
    "melbourne_pirelli = create_pirelli_tyre_info('Melbourne', 2, 4, 3, 2, 2, 3, 3, 3)\n",
    "baku_pirelli = create_pirelli_tyre_info('Baku', 5, 5, 1, 1, 4, 1, 3, 1)\n",
    "miami_pirelli = create_pirelli_tyre_info('Miami',3,5,3,2,3,3,3,2)\n",
    "monaco_pirelli = create_pirelli_tyre_info('Monaco', 5,5,1,1,2,1,1,5)\n",
    "barcelona_pirelli = create_pirelli_tyre_info('Barcelona', 3,3,5,4,3,3,5,4) #2023\n",
    "barcelona_pirelli = create_pirelli_tyre_info('Barcelona', 3,3,4,4,3,3,4,4) #2022\n",
    "montreal_pirelli = create_pirelli_tyre_info('Montreal', 5,5,1,2,5,1,3,1)\n"
   ]
  },
  {
   "cell_type": "code",
   "execution_count": 5,
   "metadata": {},
   "outputs": [],
   "source": [
    "pirelli = pd.concat([\n",
    "    bahrain_pirelli,\n",
    "    jeddah_pirelli,\n",
    "    melbourne_pirelli,\n",
    "    baku_pirelli,\n",
    "    miami_pirelli ,\n",
    "    monaco_pirelli ,\n",
    "    barcelona_pirelli,\n",
    "    montreal_pirelli ,\n",
    "    ], \n",
    "    ignore_index=True\n",
    "    )"
   ]
  },
  {
   "cell_type": "code",
   "execution_count": 6,
   "metadata": {},
   "outputs": [
    {
     "data": {
      "text/html": [
       "<div>\n",
       "<style scoped>\n",
       "    .dataframe tbody tr th:only-of-type {\n",
       "        vertical-align: middle;\n",
       "    }\n",
       "\n",
       "    .dataframe tbody tr th {\n",
       "        vertical-align: top;\n",
       "    }\n",
       "\n",
       "    .dataframe thead th {\n",
       "        text-align: right;\n",
       "    }\n",
       "</style>\n",
       "<table border=\"1\" class=\"dataframe\">\n",
       "  <thead>\n",
       "    <tr style=\"text-align: right;\">\n",
       "      <th></th>\n",
       "      <th>Location</th>\n",
       "      <th>traction</th>\n",
       "      <th>evolution</th>\n",
       "      <th>lateral_load</th>\n",
       "      <th>abrasion</th>\n",
       "      <th>braking</th>\n",
       "      <th>grip</th>\n",
       "      <th>tyre_stress</th>\n",
       "      <th>downforce</th>\n",
       "    </tr>\n",
       "  </thead>\n",
       "  <tbody>\n",
       "    <tr>\n",
       "      <th>0</th>\n",
       "      <td>Sakhir</td>\n",
       "      <td>4</td>\n",
       "      <td>4</td>\n",
       "      <td>3</td>\n",
       "      <td>5</td>\n",
       "      <td>4</td>\n",
       "      <td>3</td>\n",
       "      <td>3</td>\n",
       "      <td>3</td>\n",
       "    </tr>\n",
       "    <tr>\n",
       "      <th>1</th>\n",
       "      <td>Jeddah</td>\n",
       "      <td>2</td>\n",
       "      <td>3</td>\n",
       "      <td>4</td>\n",
       "      <td>2</td>\n",
       "      <td>2</td>\n",
       "      <td>3</td>\n",
       "      <td>3</td>\n",
       "      <td>2</td>\n",
       "    </tr>\n",
       "    <tr>\n",
       "      <th>2</th>\n",
       "      <td>Melbourne</td>\n",
       "      <td>2</td>\n",
       "      <td>4</td>\n",
       "      <td>3</td>\n",
       "      <td>2</td>\n",
       "      <td>2</td>\n",
       "      <td>3</td>\n",
       "      <td>3</td>\n",
       "      <td>3</td>\n",
       "    </tr>\n",
       "    <tr>\n",
       "      <th>3</th>\n",
       "      <td>Baku</td>\n",
       "      <td>5</td>\n",
       "      <td>5</td>\n",
       "      <td>1</td>\n",
       "      <td>1</td>\n",
       "      <td>4</td>\n",
       "      <td>1</td>\n",
       "      <td>3</td>\n",
       "      <td>1</td>\n",
       "    </tr>\n",
       "    <tr>\n",
       "      <th>4</th>\n",
       "      <td>Miami</td>\n",
       "      <td>3</td>\n",
       "      <td>5</td>\n",
       "      <td>3</td>\n",
       "      <td>2</td>\n",
       "      <td>3</td>\n",
       "      <td>3</td>\n",
       "      <td>3</td>\n",
       "      <td>2</td>\n",
       "    </tr>\n",
       "    <tr>\n",
       "      <th>5</th>\n",
       "      <td>Monaco</td>\n",
       "      <td>5</td>\n",
       "      <td>5</td>\n",
       "      <td>1</td>\n",
       "      <td>1</td>\n",
       "      <td>2</td>\n",
       "      <td>1</td>\n",
       "      <td>1</td>\n",
       "      <td>5</td>\n",
       "    </tr>\n",
       "    <tr>\n",
       "      <th>6</th>\n",
       "      <td>Barcelona</td>\n",
       "      <td>3</td>\n",
       "      <td>3</td>\n",
       "      <td>4</td>\n",
       "      <td>4</td>\n",
       "      <td>3</td>\n",
       "      <td>3</td>\n",
       "      <td>4</td>\n",
       "      <td>4</td>\n",
       "    </tr>\n",
       "    <tr>\n",
       "      <th>7</th>\n",
       "      <td>Montreal</td>\n",
       "      <td>5</td>\n",
       "      <td>5</td>\n",
       "      <td>1</td>\n",
       "      <td>2</td>\n",
       "      <td>5</td>\n",
       "      <td>1</td>\n",
       "      <td>3</td>\n",
       "      <td>1</td>\n",
       "    </tr>\n",
       "  </tbody>\n",
       "</table>\n",
       "</div>"
      ],
      "text/plain": [
       "    Location  traction  evolution  lateral_load  abrasion  braking  grip  \\\n",
       "0     Sakhir         4          4             3         5        4     3   \n",
       "1     Jeddah         2          3             4         2        2     3   \n",
       "2  Melbourne         2          4             3         2        2     3   \n",
       "3       Baku         5          5             1         1        4     1   \n",
       "4      Miami         3          5             3         2        3     3   \n",
       "5     Monaco         5          5             1         1        2     1   \n",
       "6  Barcelona         3          3             4         4        3     3   \n",
       "7   Montreal         5          5             1         2        5     1   \n",
       "\n",
       "   tyre_stress  downforce  \n",
       "0            3          3  \n",
       "1            3          2  \n",
       "2            3          3  \n",
       "3            3          1  \n",
       "4            3          2  \n",
       "5            1          5  \n",
       "6            4          4  \n",
       "7            3          1  "
      ]
     },
     "execution_count": 6,
     "metadata": {},
     "output_type": "execute_result"
    }
   ],
   "source": [
    "pirelli"
   ]
  },
  {
   "cell_type": "code",
   "execution_count": null,
   "metadata": {},
   "outputs": [],
   "source": [
    "\n",
    "spielberg_pirelli = create_pirelli_tyre_info('Spielberg', 2,3,5)\n",
    "silverstone_pirelli = create_pirelli_tyre_info('Silverstone', 4,4,10)\n",
    "budapest_pirelli = create_pirelli_tyre_info('Budapest', 3,7,4)\n",
    "spa_pirelli = create_pirelli_tyre_info('Spa', 3,8,8)\n",
    "imola_pirelli = create_pirelli_tyre_info('Imola', 5,3,11)\n",
    "abu_dhabi_pirelli = create_pirelli_tyre_info('Abu Dhabi',3,6,7)\n",
    "las_vegas_pirelli = create_pirelli_tyre_info('Las Vegas', 7,4,6)\n",
    "mexico_pirelli = create_pirelli_tyre_info('Mexico City', 7,6,4)\n",
    "sao_paulo_pirelli = create_pirelli_tyre_info('Sao Paulo', 1,6,8)\n",
    "suzuka_pirelli = create_pirelli_tyre_info('Suzuka', 3,4,11)\n",
    "qatar_pirelli = create_pirelli_tyre_info('Qatar', 1,4,11)\n",
    "austin_pirelli = create_pirelli_tyre_info('Austin', 7,5,8)\n",
    "zandvoort_pirelli = create_pirelli_tyre_info('Zandvoort', 2,6,6)\n",
    "monza_pirelli = create_pirelli_tyre_info('Monza', 2,5,4)\n",
    "singapore_pirelli = create_pirelli_tyre_info('Singapore', 10,8,5) #2022\n",
    "singapore_pirelli = create_pirelli_tyre_info('Singapore', 7,7,5) #2023"
   ]
  }
 ],
 "metadata": {
  "kernelspec": {
   "display_name": "Python (f1env)",
   "language": "python",
   "name": "f1env"
  },
  "language_info": {
   "codemirror_mode": {
    "name": "ipython",
    "version": 3
   },
   "file_extension": ".py",
   "mimetype": "text/x-python",
   "name": "python",
   "nbconvert_exporter": "python",
   "pygments_lexer": "ipython3",
   "version": "3.11.11"
  }
 },
 "nbformat": 4,
 "nbformat_minor": 4
}
